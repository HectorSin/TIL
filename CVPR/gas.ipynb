{
 "cells": [
  {
   "cell_type": "code",
   "execution_count": 9,
   "metadata": {},
   "outputs": [],
   "source": [
    "from tensorbay import GAS\n",
    "from tensorbay.dataset import Dataset\n",
    "\n",
    "# Authorize a GAS client.\n",
    "gas = GAS('ACCESSKEY-62ae1c63c91228da2487078d1912ed50')\n",
    "\n",
    "# Get a dataset.\n",
    "dataset = Dataset(\"LIP\", gas)\n",
    "\n",
    "# List dataset segments.\n",
    "segments = dataset.keys()\n",
    "\n",
    "# Get a segment by name\n",
    "segment = dataset[\"test\"]\n"
   ]
  },
  {
   "cell_type": "code",
   "execution_count": 12,
   "metadata": {},
   "outputs": [
    {
     "name": "stdout",
     "output_type": "stream",
     "text": [
      "RemoteData(\"1188496.jpg\")(\n",
      "  (label): Label()\n",
      ")\n"
     ]
    }
   ],
   "source": [
    "print(segment[0])"
   ]
  },
  {
   "cell_type": "code",
   "execution_count": null,
   "metadata": {},
   "outputs": [],
   "source": [
    "for data in segment:\n",
    "    print(data.label)\n",
    "    with data.open() as fp:\n",
    "        # Use the data as you like.\n",
    "        for label_keypoints2d in data.label.keypoints2d[0]:\n",
    "            x = data.label.keypoints2d[0].x\n",
    "            y = data.label.keypoints2d[0].y\n",
    "            v = data.label.keypoints2d[0].v"
   ]
  }
 ],
 "metadata": {
  "kernelspec": {
   "display_name": "Python 3",
   "language": "python",
   "name": "python3"
  },
  "language_info": {
   "codemirror_mode": {
    "name": "ipython",
    "version": 3
   },
   "file_extension": ".py",
   "mimetype": "text/x-python",
   "name": "python",
   "nbconvert_exporter": "python",
   "pygments_lexer": "ipython3",
   "version": "3.6.8"
  },
  "orig_nbformat": 4
 },
 "nbformat": 4,
 "nbformat_minor": 2
}
