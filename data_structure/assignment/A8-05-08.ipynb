{
 "cells": [
  {
   "attachments": {},
   "cell_type": "markdown",
   "metadata": {},
   "source": [
    "# 자료구조 7장"
   ]
  },
  {
   "attachments": {},
   "cell_type": "markdown",
   "metadata": {},
   "source": [
    "## 연습문제"
   ]
  },
  {
   "attachments": {},
   "cell_type": "markdown",
   "metadata": {},
   "source": [
    "#### 7.10\n",
    "다음 중 정렬되지 않은 테이블에서도 원하는 레코드를 찾을 수 있는 탐색 방법을 골라라.\n",
    "(1) 순차 탐색 (2) 이진 탐색 (3) 보간 탐색 (4) 해싱"
   ]
  },
  {
   "attachments": {},
   "cell_type": "markdown",
   "metadata": {},
   "source": [
    "> **(1)순차 탐색**"
   ]
  },
  {
   "attachments": {},
   "cell_type": "markdown",
   "metadata": {},
   "source": [
    "#### 7.11\n",
    "이진 탐색 알고리즘의 특징이 아닌 것은?\n",
    "(1) 탐색 효율이 좋고 탐색 시간이 적게 소요된다.\n",
    "(2) 검색할 데이터가 정렬되어 있어야 한다.\n",
    "(3) 피보나치 수열에 따라 다음에 비교할 대상을 선정하여 검색한다.\n",
    "(4) 비교를 할 때마다 검색 대상이 되는 데이터의 수가 절반으로 줄어든다."
   ]
  },
  {
   "attachments": {},
   "cell_type": "markdown",
   "metadata": {},
   "source": [
    "> **(3) 피보나치 수열에 따라 다음에 비교할 대상을 선정하여 검색한다.**"
   ]
  },
  {
   "attachments": {},
   "cell_type": "markdown",
   "metadata": {},
   "source": [
    "#### 7.12\n",
    "키 값 28을 가지고 아래의 리스트를 탐색할 때 다음의 탐색 방법에 따른 탐색 과정을 그리고 탐색 시에 필요한 비교 연산 횟수를 구하여라.\n",
    "[8 11 12 15 16 19 20 23 25 28 29 31 33 35 38 40]\n",
    "(1) 순차 탐색:\n",
    "(2) 이진 탐색:\n",
    "(3) 보간 탐색:"
   ]
  },
  {
   "attachments": {},
   "cell_type": "markdown",
   "metadata": {},
   "source": [
    "> **순차 탐색**\n",
    ">> 탐색과정: 8 → 11 → 12 → 15 → 16 → 19 → 20 → 23 → 25 → 28 (탐색 성공)\n",
    "\n",
    ">> 필요한 비교 연산 횟수: 10번\n",
    "\n",
    "> **이진 탐색**\n",
    ">>탐색과정: [23, 11, 16, 19, 20, 25, 28] → [19, 11, 16] → [16, 15] → [28, 29] → [28] (탐색 성공)\n",
    "\n",
    ">>필요한 비교 연산 횟수: 4번\n",
    "\n",
    "> **보간 탐색**\n",
    ">>12 → 23 → 29 → 28 (탐색 성공)\n",
    "\n",
    ">>필요한 비교 연산 횟수: 4번"
   ]
  },
  {
   "attachments": {},
   "cell_type": "markdown",
   "metadata": {},
   "source": [
    "#### 7.13\n",
    "크기가 13인 해시테이블에서 입력 자료 27과 130은 어떤 인덱스로 대응되는가? 해싱 함수는 h(key)=key%13라고 하자.\n",
    "(1) 1, 10 (2) 13, 0 (3) 1, 0 (4) 2, 3"
   ]
  },
  {
   "attachments": {},
   "cell_type": "markdown",
   "metadata": {},
   "source": [
    "> **(3)1, 0**"
   ]
  },
  {
   "attachments": {},
   "cell_type": "markdown",
   "metadata": {},
   "source": [
    "#### 7.14\n",
    "크기가 11인 해시테이블을 가정하자. 해시함수로는 다음을 사용한다.\n",
    "ℎ(𝑘) = 𝑘 𝑚𝑜𝑑 11\n",
    "\n",
    "입력 자료가 다음과 같은 순서로 입력된다고 하면 아래의 각 경우에 대하여 해시테이블\n",
    "의 내용을 그려라.\n",
    "\n",
    "[12 44 13 88 23 94 11 39 20 16 5]\n",
    "\n",
    "(1) 충돌을 선형조사법을 사용하여 처리\n",
    "\n",
    "(2) 이차조사법: 𝑖 ∗ 𝑖 사용: ℎ’(𝑘) = (ℎ(𝑘) + 𝑖 ∗ 𝑖) % 11 𝑓𝑜𝑟 𝑖 = 0, 1, … , 10\n",
    "\n",
    "(3) 이중 해시법: step = ℎ’ 𝑘 = 7 − (𝑘 𝑚𝑜𝑑 7)\n",
    "\n",
    "(4) 체이닝을 이용한 해시맵\n",
    "\n",
    "***"
   ]
  },
  {
   "attachments": {},
   "cell_type": "markdown",
   "metadata": {},
   "source": [
    "**(1) 충돌을 선형조사법을 사용하여 처리:**\n",
    "\n",
    "테이블: [39, 88, 20, 11, 44, 23, 94, 13, 12, 16, 5]\n",
    "충돌이 발생하는 경우 인덱스를 선형적으로 증가시키면서 다음 빈 공간을 찾는다.\n",
    "예를 들어, 13을 삽입할 때 충돌이 발생하므로 13의 다음 위치인 14부터 탐색하여 비어있는 인덱스 2에 삽입한다.\n",
    "\n",
    "**(2) 이차조사법: 𝑖 ∗ 𝑖 사용: ℎ’(𝑘) = (ℎ(𝑘) + 𝑖 ∗ 𝑖) % 11 𝑓𝑜𝑟 𝑖 = 0, 1, … , 10**\n",
    "\n",
    "테이블: [44, 20, 39, 88, 23, 94, 11, 13, 12, 16, 5]\n",
    "충돌이 발생하는 경우, 인덱스를 이차 함수를 이용하여 증가시키면서 다음 빈 공간을 찾는다.\n",
    "예를 들어, 13을 삽입할 때 충돌이 발생하므로 13 다음 위치에서 이차 함수에 따라 15번째 인덱스를 확인하고 비어있는 인덱스 15에 삽입한다.\n",
    "\n",
    "**(3) 이중 해시법: step = ℎ’ 𝑘 = 7 − (𝑘 𝑚𝑜𝑑 7)**\n",
    "\n",
    "테이블: [39, 11, 44, 94, 13, 23, 88, 12, 5, 16, 20]\n",
    "충돌이 발생한 경우, 두 번째 해시함수인 ℎ'를 이용하여 step 값을 계산하고 그 값만큼 인덱스를 이동시켜 다음 빈 공간을 찾는다.\n",
    "예를 들어, 16을 삽입할 때 충돌이 발생하므로 ℎ'(16) = 7 - (16 % 7) = 4를 계산하고, 16 다음 위치에서 step 값을 더한 8번째 인덱스를 확인하고 비어있는 인덱스 8에 삽입한다.\n",
    "\n",
    "**(4) 체이닝을 이용한 해시맵:**\n",
    "\n",
    "테이블: [[11, 22], [13], [44], [94], [], [5], [16], [39], [], [88], [23, 12, 20]]\n",
    "충돌이 발생한 경우, 해당 인덱스에 리스트를 만들어서 데이터를 추가한다.\n",
    "11번 인덱스에는 11과 44가 연결된 연결 리스트가, 12번 인덱스에는 12와 23가 연결된 연결 리스트가, 2번 인덱스에는 13과 39가 연결된 연결 리스트가 생성된다. 이와 같이 각 인덱스에 연결 리스트를 생성하여 입력 데이터를 삽입한다."
   ]
  },
  {
   "attachments": {},
   "cell_type": "markdown",
   "metadata": {},
   "source": [
    "#### 7. 17\n",
    "좋은 해시 함수의 조건을 설명하라."
   ]
  },
  {
   "attachments": {},
   "cell_type": "markdown",
   "metadata": {},
   "source": [
    "1. 일관성(Consistency): 같은 입력에 대해서는 항상 같은 출력을 반환합니다.\n",
    "2. 균등 분포(Uniform Distribution): 입력 공간의 모든 키 값이 해시 테이블의 모든 인덱스에 균등하게 분배되어 충돌을 최소화합니다.\n",
    "3. 최소 충돌(Minimal Collisions): 해시 함수가 서로 다른 입력에 대해 같은 출력을 내는 경우를 최소화하여 충돌이 발생하지 않거나 최소화합니다.\n",
    "4. 효율성(Efficiency): 해시 함수의 연산 속도가 빠르고 메모리 사용량이 적어야 합니다.\n",
    "5. 보안성(Security): 악의적인 입력에 대해서도 충돌이 일어나지 않도록 보안적인 측면도 고려해야 합니다."
   ]
  },
  {
   "attachments": {},
   "cell_type": "markdown",
   "metadata": {},
   "source": [
    "## 실습문제"
   ]
  },
  {
   "attachments": {},
   "cell_type": "markdown",
   "metadata": {},
   "source": [
    "#### P7.5\n",
    "순차탐색 맵을 수정하여 이진탐색 맵을 구현하고 테스트하라."
   ]
  },
  {
   "cell_type": "code",
   "execution_count": null,
   "metadata": {},
   "outputs": [],
   "source": [
    "class BinarySearchMap:\n",
    "    def __init__(self):\n",
    "        self.items = []\n",
    "\n",
    "    def __getitem__(self, key):\n",
    "        low = 0\n",
    "        high = len(self.items) - 1\n",
    "\n",
    "        while low <= high:\n",
    "            mid = (low + high) // 2\n",
    "            if self.items[mid][0] == key:\n",
    "                return self.items[mid][1]\n",
    "            elif self.items[mid][0] < key:\n",
    "                low = mid + 1\n",
    "            else:\n",
    "                high = mid - 1\n",
    "\n",
    "        return None\n",
    "\n",
    "    def __setitem__(self, key, value):\n",
    "        self.items.append((key, value))\n",
    "        self.items = sorted(self.items, key=lambda x: x[0])"
   ]
  },
  {
   "cell_type": "code",
   "execution_count": null,
   "metadata": {},
   "outputs": [],
   "source": [
    "bst_map = BinarySearchMap()\n",
    "\n",
    "bst_map[3] = 'apple'\n",
    "bst_map[1] = 'banana'\n",
    "bst_map[5] = 'cherry'\n",
    "bst_map[4] = 'date'\n",
    "\n",
    "assert bst_map[1] == 'banana'\n",
    "assert bst_map[4] == 'date'\n",
    "assert bst_map[6] == None\n"
   ]
  }
 ],
 "metadata": {
  "language_info": {
   "name": "python"
  },
  "orig_nbformat": 4
 },
 "nbformat": 4,
 "nbformat_minor": 2
}
