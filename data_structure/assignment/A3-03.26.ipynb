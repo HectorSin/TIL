{
 "cells": [
  {
   "attachments": {},
   "cell_type": "markdown",
   "metadata": {},
   "source": [
    "# 3.9"
   ]
  },
  {
   "cell_type": "code",
   "execution_count": 1,
   "metadata": {},
   "outputs": [],
   "source": [
    "class Set:\n",
    "    def __init__(self, ls = []):\n",
    "        self.items = ls\n",
    "\n",
    "    def size(self):\n",
    "        return len(self.items)\n",
    "    \n",
    "    def display(self, msg):\n",
    "        print(msg, self.items)\n",
    "\n",
    "    def contains(self, item):\n",
    "        return item in self.items\n",
    "\n",
    "    def insert(self, elem):\n",
    "        if elem not in self.items:\n",
    "            self.items.append(elem)\n",
    "\n",
    "    def delete(self, elem):\n",
    "        if elem in self.items:\n",
    "            self.items.remove(elem)\n",
    "\n",
    "    def union(self, setB):\n",
    "        setC = Set()\n",
    "        setC.items = list(self.items)\n",
    "        for elem in setB.items:\n",
    "            if elem in setB.items:\n",
    "                if elem not in self.items:\n",
    "                    setC.items.append(elem)\n",
    "        return setC\n",
    "\n",
    "    def intersect(self, setB):\n",
    "        setC = Set()\n",
    "        for elem in setB.items:\n",
    "            if elem in self.items:\n",
    "                setC.items.append(elem)\n",
    "        return setC\n",
    "\n",
    "    def difference(self, setB):\n",
    "        setC = Set()\n",
    "        for elem in self.items:\n",
    "            if elem not in setB.items:\n",
    "                setC.items.append(elem)\n",
    "        return setC\n",
    "\n",
    "    # 진 부분집합 검사 메소드\n",
    "    def partial_check(self, setB):\n",
    "        if len(self.items) >= len(setB.items):\n",
    "            return False\n",
    "        return all(element in setB.items for element in self.items)"
   ]
  },
  {
   "cell_type": "code",
   "execution_count": 21,
   "metadata": {},
   "outputs": [],
   "source": [
    "# 배열로 구현한 리스트\n",
    "class ArrayList:\n",
    "    def __init__(self):\n",
    "        self.items = []\n",
    "    def delete(self,pos):\n",
    "        return self.items.pop(pos)\n",
    "    def isEmpty(self):\n",
    "        return self.size() == 0\n",
    "    def getEntry(self, pos):\n",
    "        return self.items[pos]\n",
    "    def size(self):\n",
    "        return len(self.items)\n",
    "    def clear(self):\n",
    "        self.items=[]\n",
    "    def find(self, item):\n",
    "        return self.items.index(item)\n",
    "    def replace(self, pos, elem):\n",
    "        self.items[pos] = elem\n",
    "    def sort(self):\n",
    "        self.items.sort()\n",
    "    def merge(self, lst):\n",
    "        self.items.extend(lst)\n",
    "    def display(self, msg='ArrayList:'):\n",
    "        print(msg, '항목수=', self.size(), self.items)\n",
    "    def insert(self, item, pos):\n",
    "        itemB = [item]\n",
    "        itemB += self.items[pos:]\n",
    "        print(itemB)\n",
    "        self.items = self.items[:pos] + itemB\n",
    "        return self.items"
   ]
  },
  {
   "cell_type": "code",
   "execution_count": 22,
   "metadata": {},
   "outputs": [
    {
     "name": "stdout",
     "output_type": "stream",
     "text": [
      "[4, 3, 5, 2, 1]\n",
      "[3, 5, 4, 3, 5, 2, 1]\n"
     ]
    }
   ],
   "source": [
    "jip = ArrayList()\n",
    "jip.merge([3,5,3,5,2,1])\n",
    "jip.insert(4,2)\n",
    "print(jip.items)"
   ]
  },
  {
   "cell_type": "code",
   "execution_count": null,
   "metadata": {},
   "outputs": [],
   "source": []
  }
 ],
 "metadata": {
  "kernelspec": {
   "display_name": "Python 3",
   "language": "python",
   "name": "python3"
  },
  "language_info": {
   "codemirror_mode": {
    "name": "ipython",
    "version": 3
   },
   "file_extension": ".py",
   "mimetype": "text/x-python",
   "name": "python",
   "nbconvert_exporter": "python",
   "pygments_lexer": "ipython3",
   "version": "3.6.8"
  },
  "orig_nbformat": 4
 },
 "nbformat": 4,
 "nbformat_minor": 2
}
