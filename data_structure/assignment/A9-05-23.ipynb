{
 "cells": [
  {
   "attachments": {},
   "cell_type": "markdown",
   "metadata": {},
   "source": [
    "# 자료구조 8장"
   ]
  },
  {
   "attachments": {},
   "cell_type": "markdown",
   "metadata": {},
   "source": [
    "## 연습문제"
   ]
  },
  {
   "attachments": {},
   "cell_type": "markdown",
   "metadata": {},
   "source": [
    "### 8.1 다음 트리에 대한 각 물음에 답하라\n",
    "1. A\n",
    "2. 단말 노드는 E, K, G, H, I, J\n",
    "3. D의 부모 노드는 A\n",
    "4. D의 형제 노드는 B, C\n",
    "5. D의 자식 노드는 H, I, J\n",
    "6. D의 자손 노드는 H, I, J\n",
    "7. K의 조상 노드는 F, B, A\n",
    "8. B의 레벨은 2\n",
    "9. D의 차수는 3\n",
    "10. 트리의 높이는 4\n",
    "11. 트리의 차수는 3\n",
    "12. 이진 트리는 모든 노드의 차수가 2 이하인 트리를 의미합니다. 이 트리에서 노드 D는 3개의 자식 노드를 가지므로, 이 트리는 이진트리가 아닙니다."
   ]
  },
  {
   "attachments": {},
   "cell_type": "markdown",
   "metadata": {},
   "source": [
    "## 실습문제"
   ]
  }
 ],
 "metadata": {
  "language_info": {
   "name": "python"
  },
  "orig_nbformat": 4
 },
 "nbformat": 4,
 "nbformat_minor": 2
}
