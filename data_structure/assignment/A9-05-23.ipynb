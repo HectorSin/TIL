{
 "cells": [
  {
   "attachments": {},
   "cell_type": "markdown",
   "metadata": {},
   "source": [
    "# 자료구조 8장"
   ]
  },
  {
   "attachments": {},
   "cell_type": "markdown",
   "metadata": {},
   "source": [
    "## 연습문제"
   ]
  },
  {
   "attachments": {},
   "cell_type": "markdown",
   "metadata": {},
   "source": [
    "### 8.1 다음 트리에 대한 각 물음에 답하라\n",
    "1. A\n",
    "2. 단말 노드는 E, K, G, H, I, J\n",
    "3. D의 부모 노드는 A\n",
    "4. D의 형제 노드는 B, C\n",
    "5. D의 자식 노드는 H, I, J\n",
    "6. D의 자손 노드는 H, I, J\n",
    "7. K의 조상 노드는 F, B, A\n",
    "8. B의 레벨은 2\n",
    "9. D의 차수는 3\n",
    "10. 트리의 높이는 4\n",
    "11. 트리의 차수는 3\n",
    "12. 이진 트리는 모든 노드의 차수가 2 이하인 트리를 의미합니다. 이 트리에서 노드 D는 3개의 자식 노드를 가지므로, 이 트리는 이진트리가 아닙니다."
   ]
  },
  {
   "attachments": {},
   "cell_type": "markdown",
   "metadata": {},
   "source": [
    "### 8.3 10개의 노드로 만들어질 수 있는 이진트리의 최소 높이와 최대 높이는?"
   ]
  },
  {
   "attachments": {},
   "cell_type": "markdown",
   "metadata": {},
   "source": [
    "1. 최소 높이: 이진트리에서 트리의 높이를 최소화하려면 모든 레벨에서 노드가 최대한 많이 배치되어야 합니다. 즉, 가능한 한 '완전 이진 트리' 형태로 노드를 배치해야 합니다. 완전 이진 트리에서 높이 h는 노드의 수 n이 2^(h-1) <= n < 2^h를 만족하므로, 10개의 노드를 가진 트리의 최소 높이는 h=4입니다.\n",
    "\n",
    "2. 최대 높이: 반면 트리의 높이를 최대화하려면 가능한 한 한 쪽 방향으로 노드를 배치하는 '편향 이진 트리' 형태를 취해야 합니다. 편향 이진 트리에서 트리의 높이는 노드의 수와 같으므로, 10개의 노드를 가진 트리의 최대 높이는 10입니다."
   ]
  },
  {
   "attachments": {},
   "cell_type": "markdown",
   "metadata": {},
   "source": [
    "### 8.9 다음 트리에 대한 중위 순회 결과는?"
   ]
  },
  {
   "attachments": {},
   "cell_type": "markdown",
   "metadata": {},
   "source": [
    "중위 순회 결과: D → B → A → E → C → F"
   ]
  },
  {
   "attachments": {},
   "cell_type": "markdown",
   "metadata": {},
   "source": [
    "### 8.10 다음 트리를 전위 순회로 운행할 경우 다섯 번째로\n",
    "탐색되는 노드는?"
   ]
  },
  {
   "attachments": {},
   "cell_type": "markdown",
   "metadata": {},
   "source": [
    "전위 순회로 운행할 경우: A → B → D → C → E, 즉, E가 됩니다."
   ]
  },
  {
   "attachments": {},
   "cell_type": "markdown",
   "metadata": {},
   "source": [
    "### 8.11 다음 그림과 같은 이진트리를 후위 순회(post-order traversal)한 결과는?"
   ]
  },
  {
   "attachments": {},
   "cell_type": "markdown",
   "metadata": {},
   "source": [
    "위쪽 *을 *1, 밑을 *2라고 지칭\n",
    "\n",
    "A → B → / → C → *2 → D → *1 → E → +"
   ]
  },
  {
   "attachments": {},
   "cell_type": "markdown",
   "metadata": {},
   "source": [
    "### 8.12 배열 구조로 저장할 때 메모리의 가장 낭비가 큰 트리는?"
   ]
  },
  {
   "attachments": {},
   "cell_type": "markdown",
   "metadata": {},
   "source": [
    "경사 트리(Skewed Tree)"
   ]
  },
  {
   "attachments": {},
   "cell_type": "markdown",
   "metadata": {},
   "source": [
    "### 8.13 같은 수의 노드가 저장되는 경우, 가장 높이가 작아지는 트리는? \n",
    "(1) 경사트리 (2) 이진트리 (3) 이진탐색트리 (4) 완전이진트리"
   ]
  },
  {
   "attachments": {},
   "cell_type": "markdown",
   "metadata": {},
   "source": [
    "4) 완전이진트리"
   ]
  },
  {
   "attachments": {},
   "cell_type": "markdown",
   "metadata": {},
   "source": [
    "### 8.16 힙 트리에서 노드가 삭제되는 위치는 어디인가?"
   ]
  },
  {
   "attachments": {},
   "cell_type": "markdown",
   "metadata": {},
   "source": [
    "힙 트리(heap tree)에서 노드가 삭제되는 위치는 루트 노드"
   ]
  },
  {
   "attachments": {},
   "cell_type": "markdown",
   "metadata": {},
   "source": [
    "### 8.17 힙을 배열로 표현하는 것이 좋은 이유는 무엇인가?"
   ]
  },
  {
   "attachments": {},
   "cell_type": "markdown",
   "metadata": {},
   "source": [
    "1. **메모리 효율성**: \n",
    "배열을 사용하면 노드 간에 연결 정보를 별도로 저장할 필요가 없어 메모리 사용이 효율적입니다. 트리의 노드 간 연결을 나타내는 포인터가 필요 없으므로 메모리 공간을 절약할 수 있습니다.\n",
    "\n",
    "2. **계산 용이성**: \n",
    "힙은 완전 이진 트리이므로, 배열로 표현하면 부모 노드와 자식 노드 간의 관계를 쉽게 계산할 수 있습니다. 배열 인덱스를 i라고 할 때, 부모 노드의 인덱스는 i/2(소수점 이하 버림), 왼쪽 자식 노드의 인덱스는 2i, 오른쪽 자식 노드의 인덱스는 2i+1이 됩니다.\n",
    "\n",
    "3. **속도**: \n",
    "배열은 연속적인 메모리 공간에 데이터를 저장하므로 CPU 캐시 효율이 높아집니다. 이는 데이터 접근 속도를 높이는 데 도움이 됩니다.\n",
    "\n",
    "4. **구현의 단순성**: \n",
    "배열로 힙을 구현하면, 코드가 단순해지고 이해하기 쉽습니다. 포인터를 사용하는 것보다 더 직관적이며, 실수를 줄일 수 있습니다."
   ]
  },
  {
   "attachments": {},
   "cell_type": "markdown",
   "metadata": {},
   "source": [
    "### 8.18 힙의 연산중에서 하나의 노드가 삽입되거나 삭제되는 시간은 무엇에 비례하는가?"
   ]
  },
  {
   "attachments": {},
   "cell_type": "markdown",
   "metadata": {},
   "source": [
    "힙의 연산 중에서 하나의 노드가 삽입되거나 삭제되는 시간 복잡도는 힙의 높이에 비례합니다."
   ]
  },
  {
   "attachments": {},
   "cell_type": "markdown",
   "metadata": {},
   "source": [
    "### 8.19 다음 중 힙을 이용한 정렬이 특히 유용하게 사용될 수 있는 경우는? \n",
    "1. 데이터 100개 중에서 오름차순으로 20개만 뽑고자 할 때\n",
    "2. 비교적 데이터의 개수가 적을 때\n",
    "3. 정렬의 대상이 되는 레코드의 크기가 클 때\n",
    "4. 데이터가 역순으로 정렬되어 있을 때"
   ]
  },
  {
   "attachments": {},
   "cell_type": "markdown",
   "metadata": {},
   "source": [
    "1) 데이터 100개 중에서 오름차순으로 20개만 뽑고자 할 때"
   ]
  },
  {
   "attachments": {},
   "cell_type": "markdown",
   "metadata": {},
   "source": [
    "### 8.20 최소 힙에서 가장 작은 데이터가 있는 노드는?"
   ]
  },
  {
   "attachments": {},
   "cell_type": "markdown",
   "metadata": {},
   "source": [
    "최소 힙(Min Heap)에서 가장 작은 데이터는 루트 노드에 위치해 있습니다."
   ]
  },
  {
   "attachments": {},
   "cell_type": "markdown",
   "metadata": {},
   "source": [
    "### 8.24 다음의 최소 힙 트리에서 답하라.\n",
    "1. 2를 삽입하였을 경우, 힙 트리를 재구성하는 과정을 보여라.\n",
    "2. 삭제연산이 한번 이루어진 다음에 힙을 재구성하는 과정을 보여라."
   ]
  },
  {
   "attachments": {},
   "cell_type": "markdown",
   "metadata": {},
   "source": [
    "1. 2를 삽입하였을 경우, 힙 트리를 재구성하는 과정을 보여라."
   ]
  },
  {
   "cell_type": "code",
   "execution_count": null,
   "metadata": {},
   "outputs": [],
   "source": [
    "Step 1:\n",
    "    3\n",
    "   / \\\n",
    "  6   7\n",
    " / \\ / \\\n",
    "12 13 15 20\n",
    "/\n",
    "2\n",
    "\n",
    "Step 2:\n",
    "    3\n",
    "   / \\\n",
    "  2   7\n",
    " / \\ / \\\n",
    "12 13 15 20\n",
    "/\n",
    "6\n",
    "\n",
    "Step 3:\n",
    "    2\n",
    "   / \\\n",
    "  3   7\n",
    " / \\ / \\\n",
    "12 13 15 20\n",
    "/\n",
    "6\n"
   ]
  },
  {
   "attachments": {},
   "cell_type": "markdown",
   "metadata": {},
   "source": [
    "2. 삭제연산이 한번 이루어진 다음에 힙을 재구성하는 과정을 보여라."
   ]
  },
  {
   "cell_type": "code",
   "execution_count": null,
   "metadata": {},
   "outputs": [],
   "source": [
    "Step 1:\n",
    "    2\n",
    "   / \\\n",
    "  3   7\n",
    " / \\ / \\\n",
    "12 13 15 20\n",
    "/\n",
    "6\n",
    "\n",
    "Step 2: \n",
    "    6\n",
    "   / \\\n",
    "  3   7\n",
    " / \\ / \\\n",
    "12 13 15 20\n",
    "\n",
    "Step 3:\n",
    "    3\n",
    "   / \\\n",
    "  6   7\n",
    " / \\ / \\\n",
    "12 13 15 20"
   ]
  },
  {
   "attachments": {},
   "cell_type": "markdown",
   "metadata": {},
   "source": [
    "### 8.25 다음과 같은 숫자가 순서대로 주어졌을 때 다음 물음에 답하시오. \n",
    "> 10, 40, 30, 5, 12, 6, 15, 9, 60\n",
    "\n",
    "(1) 최대 힙 트리 구성\n",
    "(2) 최대 힙 트리가 저장된 배열\n",
    "(3) 최대값 제거 후 최대 힙 트리 재구성"
   ]
  },
  {
   "cell_type": "code",
   "execution_count": null,
   "metadata": {},
   "outputs": [],
   "source": [
    "# 1. 최대 힙 트리 구성\n",
    "      60\n",
    "    /    \\\n",
    "  40      30\n",
    " / \\     /  \\\n",
    "10  12  6    15\n",
    "  \\\n",
    "   5"
   ]
  },
  {
   "cell_type": "code",
   "execution_count": null,
   "metadata": {},
   "outputs": [],
   "source": [
    "# 2. 최대 힙 트리가 저장된 배열:\n",
    " [60, 40, 30, 10, 12, 6, 15, 5]"
   ]
  },
  {
   "cell_type": "code",
   "execution_count": null,
   "metadata": {},
   "outputs": [],
   "source": [
    "# 3. 최대값 제거 후 최대 힙 트리 재구성\n",
    "      40\n",
    "    /    \\\n",
    "  12      30\n",
    " / \\     /  \\\n",
    "10  5  6    15"
   ]
  },
  {
   "attachments": {},
   "cell_type": "markdown",
   "metadata": {},
   "source": [
    "## 실습문제"
   ]
  },
  {
   "attachments": {},
   "cell_type": "markdown",
   "metadata": {},
   "source": [
    "### P8.4\n",
    "이진트리의 모든 노드에서 왼쪽 서브트리와 오른쪽 서브트리의 높이\n",
    "의 차이가 2보다 작으면 이 트리를 ＂균형 잡혀 있다(balanced)“ 라고 한다. \n",
    "현재 이진트리가 균형 잡혀 있는지를 검사하는 다음 함수를 구현하라. \n",
    "def is_balanced (root) : "
   ]
  },
  {
   "cell_type": "code",
   "execution_count": 1,
   "metadata": {},
   "outputs": [],
   "source": [
    "class TreeNode:\n",
    "    def __init__(self, x):\n",
    "        self.val = x\n",
    "        self.left = None\n",
    "        self.right = None\n",
    "\n",
    "def height(root):\n",
    "    # 빈 트리의 높이는 -1\n",
    "    if root is None:\n",
    "        return -1\n",
    "\n",
    "    # 트리의 높이는 좌, 우 하위 트리의 높이 중 큰 값에 1을 더한 값\n",
    "    return max(height(root.left), height(root.right)) + 1\n",
    "\n",
    "def is_balanced(root):\n",
    "    # 빈 트리는 균형 트리\n",
    "    if root is None:\n",
    "        return True\n",
    "\n",
    "    # 왼쪽 하위 트리와 오른쪽 하위 트리의 높이 차이가 2 이상이면 균형 트리가 아님\n",
    "    if abs(height(root.left) - height(root.right)) >= 2:\n",
    "        return False\n",
    "\n",
    "    # 현재 노드는 균형이 잡혀있지만, 하위 트리에 대해서도 확인 필요\n",
    "    return is_balanced(root.left) and is_balanced(root.right)"
   ]
  },
  {
   "cell_type": "code",
   "execution_count": 2,
   "metadata": {},
   "outputs": [
    {
     "name": "stdout",
     "output_type": "stream",
     "text": [
      "True\n",
      "False\n"
     ]
    }
   ],
   "source": [
    "# 트리 노드 생성\n",
    "root = TreeNode(1)\n",
    "root.left = TreeNode(2)\n",
    "root.right = TreeNode(3)\n",
    "root.left.left = TreeNode(4)\n",
    "root.left.right = TreeNode(5)\n",
    "\n",
    "# 트리 균형 확인\n",
    "print(is_balanced(root))  # 결과: True\n",
    "\n",
    "# 균형이 깨진 트리 생성\n",
    "root = TreeNode(1)\n",
    "root.left = TreeNode(2)\n",
    "root.left.left = TreeNode(3)\n",
    "\n",
    "# 트리 균형 확인\n",
    "print(is_balanced(root))  # 결과: False"
   ]
  },
  {
   "attachments": {},
   "cell_type": "markdown",
   "metadata": {},
   "source": [
    "### P8.5 \n",
    "이진트리에서 경로의 길이(path length)를 root에서부터 모든 자식 노\n",
    "드까지의 경로의 길이의 합이라고 하자. 경로의 길이를 구하는 다음 함수\n",
    "를 구현하라.\n",
    "def path_length (root) : "
   ]
  },
  {
   "cell_type": "code",
   "execution_count": 3,
   "metadata": {},
   "outputs": [],
   "source": [
    "def path_length(root, depth=0):\n",
    "    # 빈 트리의 경우, 경로 길이는 0\n",
    "    if root is None:\n",
    "        return 0\n",
    "\n",
    "    # 현재 노드의 깊이(경로 길이) + 왼쪽 서브트리의 경로 길이 + 오른쪽 서브트리의 경로 길이\n",
    "    return depth + path_length(root.left, depth + 1) + path_length(root.right, depth + 1)\n"
   ]
  },
  {
   "cell_type": "code",
   "execution_count": 4,
   "metadata": {},
   "outputs": [
    {
     "name": "stdout",
     "output_type": "stream",
     "text": [
      "경로 길이: 8\n"
     ]
    }
   ],
   "source": [
    "# 이진 트리 생성\n",
    "root = TreeNode(1)\n",
    "root.left = TreeNode(2)\n",
    "root.right = TreeNode(3)\n",
    "root.left.left = TreeNode(4)\n",
    "root.left.right = TreeNode(5)\n",
    "root.right.left = TreeNode(6)\n",
    "\n",
    "# 경로 길이 계산\n",
    "length = path_length(root)\n",
    "print(\"경로 길이:\", length)"
   ]
  },
  {
   "attachments": {},
   "cell_type": "markdown",
   "metadata": {},
   "source": [
    "### P8.8\n",
    "배열로 표현된 완전이진트리 A가 힙 조건을 만족하는지를 검사하는\n",
    "다음 함수를 반복적인 방법으로 구현하고 테스트하라. 다음 함수들을 구현\n",
    "하여야 한다.\n",
    "def isMinHeapITer (A) : \n",
    "def isMaxHeapITer (A) :"
   ]
  },
  {
   "cell_type": "code",
   "execution_count": 5,
   "metadata": {},
   "outputs": [],
   "source": [
    "def isMinHeapIter(A):\n",
    "    n = len(A)\n",
    "\n",
    "    # 마지막 내부 노드까지 반복\n",
    "    for i in range((n // 2) - 1, -1, -1):\n",
    "        parent = i\n",
    "        left_child = (2 * parent) + 1\n",
    "        right_child = (2 * parent) + 2\n",
    "\n",
    "        # 왼쪽 자식과 비교\n",
    "        if left_child < n and A[parent] > A[left_child]:\n",
    "            return False\n",
    "\n",
    "        # 오른쪽 자식과 비교\n",
    "        if right_child < n and A[parent] > A[right_child]:\n",
    "            return False\n",
    "\n",
    "    return True\n",
    "\n",
    "\n",
    "def isMaxHeapIter(A):\n",
    "    n = len(A)\n",
    "\n",
    "    # 마지막 내부 노드까지 반복\n",
    "    for i in range((n // 2) - 1, -1, -1):\n",
    "        parent = i\n",
    "        left_child = (2 * parent) + 1\n",
    "        right_child = (2 * parent) + 2\n",
    "\n",
    "        # 왼쪽 자식과 비교\n",
    "        if left_child < n and A[parent] < A[left_child]:\n",
    "            return False\n",
    "\n",
    "        # 오른쪽 자식과 비교\n",
    "        if right_child < n and A[parent] < A[right_child]:\n",
    "            return False\n",
    "\n",
    "    return True"
   ]
  },
  {
   "cell_type": "code",
   "execution_count": 6,
   "metadata": {},
   "outputs": [
    {
     "name": "stdout",
     "output_type": "stream",
     "text": [
      "True\n",
      "False\n"
     ]
    }
   ],
   "source": [
    "A = [1, 2, 3, 4, 5, 6, 7]\n",
    "print(isMinHeapIter(A))  # 최소 힙 조건을 만족하므로 True 출력\n",
    "print(isMaxHeapIter(A))  # 최대 힙 조건을 만족하지 않으므로 False 출력"
   ]
  }
 ],
 "metadata": {
  "kernelspec": {
   "display_name": "Python 3",
   "language": "python",
   "name": "python3"
  },
  "language_info": {
   "codemirror_mode": {
    "name": "ipython",
    "version": 3
   },
   "file_extension": ".py",
   "mimetype": "text/x-python",
   "name": "python",
   "nbconvert_exporter": "python",
   "pygments_lexer": "ipython3",
   "version": "3.11.3"
  },
  "orig_nbformat": 4
 },
 "nbformat": 4,
 "nbformat_minor": 2
}
