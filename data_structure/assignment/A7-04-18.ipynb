{
 "cells": [
  {
   "attachments": {},
   "cell_type": "markdown",
   "metadata": {},
   "source": [
    "# 자료구조 7장"
   ]
  },
  {
   "attachments": {},
   "cell_type": "markdown",
   "metadata": {},
   "source": [
    "#### P7.1\n",
    "다음 자료에 대하여 “선택 정렬”을 사용하여 오름차순으로 정렬할 경우 step 3의 결과는?"
   ]
  },
  {
   "attachments": {},
   "cell_type": "markdown",
   "metadata": {},
   "source": [
    "> 3) 3,8,4,9,7"
   ]
  },
  {
   "attachments": {},
   "cell_type": "markdown",
   "metadata": {},
   "source": [
    "#### P7.2\n",
    "다음 초기 자료에 대하여 “삽입 정렬”을 이용하여 오름차순 정렬한 경우 step 1의 결과는?\n",
    "\n",
    "> 4) 3,8,4,9,7"
   ]
  },
  {
   "attachments": {},
   "cell_type": "markdown",
   "metadata": {},
   "source": [
    "#### P7.3\n",
    "다음 자료를 “버블 정렬”을 이용하여 오름차순으로 정렬할 경우 step 1의 결과는?\n",
    "\n",
    "> 4) 6,3,5,7,9"
   ]
  },
  {
   "attachments": {},
   "cell_type": "markdown",
   "metadata": {},
   "source": [
    "#### P7.5\n",
    "다음은 항목을 오름차순으로 정렬하는 삽입 정렬 함수이다. 빈 칸을 채워라.\n",
    "```\n",
    "def insertion_sort(A):\n",
    "    n = len(A)\n",
    "    for i in range(1, n):\n",
    "        key = A[i]\n",
    "        j = i-1\n",
    "        while j>=0 and _______:\n",
    "            ___________\n",
    "            j -= 1\n",
    "        A[j+1] = key\n",
    "```"
   ]
  },
  {
   "cell_type": "code",
   "execution_count": null,
   "metadata": {},
   "outputs": [],
   "source": [
    "def insertion_sort(A):\n",
    "    n = len(A)\n",
    "    for i in range(1, n):\n",
    "        key = A[i]\n",
    "        j = i-1\n",
    "        while j>=0 and A[j]>key:\n",
    "            A[j+1] = A[j]\n",
    "            j -= 1\n",
    "        A[j+1] = key"
   ]
  },
  {
   "attachments": {},
   "cell_type": "markdown",
   "metadata": {},
   "source": [
    "#### P7.6\n",
    "다음의 정렬기법을 이용하여 정수 배열을 오름차순으로 정렬하라. 각 단계에서의 배열의 내용을 나타내어라.\n",
    "\n",
    "[1] 선택 정렬\n",
    "\n",
    "1. 3 - 4 - 9 - 6 - 7 - 8 - 7 - 5\n",
    "2. 3 - 4 - 5 - 6 - 7 - 8 - 7 - 9\n",
    "3. 3 - 4 - 5 - 6 - 7 - 8 - 7 - 9\n",
    "4. 3 - 4 - 5 - 6 - 7 - 8 - 7 - 9\n",
    "5. 3 - 4 - 5 - 6 - 7 - 8 - 7 - 9\n",
    "6. 3 - 4 - 5 - 6 - 7 - 7 - 8 - 9\n",
    "7. 3 - 4 - 5 - 6 - 7 - 7 - 8 - 9\n",
    "8. 3 - 4 - 5 - 6 - 7 - 7 - 8 - 9\n",
    "\n",
    "[2] 삽입 정렬\n",
    "1. 4 - 7 - 9 - 6 - 3 - 8 - 7 - 5\n",
    "2. 4 - 6 - 7 - 9 - 3 - 8 - 7 - 5\n",
    "3. 3 - 4 - 6 - 7 - 9 - 8 - 7 - 5\n",
    "4. 3 - 4 - 6 - 7 - 8 - 9 - 7 - 5\n",
    "5. 3 - 4 - 6 - 7 - 7 - 8 - 9 - 5\n",
    "6. 3 - 4 - 5 - 6 - 7 - 7 - 8 - 9\n",
    "7. 3 - 4 - 5 - 6 - 7 - 7 - 8 - 9\n",
    "8. 3 - 4 - 5 - 6 - 7 - 7 - 8 - 9\n",
    "\n",
    "[3] 법블 정렬\n",
    "1. 4 - 7 - 6 - 3 - 8 - 7 - 5 - 9\n",
    "2. 4 - 6 - 3 - 7 - 7 - 5 - 8 - 9\n",
    "3. 4 - 3 - 6 - 7 - 5 - 7 - 8 - 9\n",
    "4. 3 - 4 - 6 - 5 - 7 - 7 - 8 - 9\n",
    "5. 3 - 4 - 5 - 6 - 7 - 7 - 8 - 9\n",
    "6. 3 - 4 - 5 - 6 - 7 - 7 - 8 - 9\n",
    "7. 3 - 4 - 5 - 6 - 7 - 7 - 8 - 9\n",
    "8. 3 - 4 - 5 - 6 - 7 - 7 - 8 - 9\n",
    "\n",
    "-> 3개 모두 같은 결과인 [3-4-5-6-7-8-9]를 얻게 된다"
   ]
  },
  {
   "attachments": {},
   "cell_type": "markdown",
   "metadata": {},
   "source": [
    "# 실습문제"
   ]
  },
  {
   "attachments": {},
   "cell_type": "markdown",
   "metadata": {},
   "source": [
    "#### P7.3\n",
    "7.3절의 합집합 코드를 참조하여 정렬된 리스트를 이용한 집합에서의 효율적인 교집합 함수를 구현하라."
   ]
  },
  {
   "cell_type": "code",
   "execution_count": null,
   "metadata": {},
   "outputs": [],
   "source": [
    "def intersection(self, setB):\n",
    "    newSet = Set()\n",
    "    a = 0\n",
    "    b = 0\n",
    "    while a < len(self.items) and b < len(setB.items):\n",
    "        valueA = self.items[a]\n",
    "        valueB = setB.items[b]\n",
    "        if valueA < valueB:\n",
    "            a += 1\n",
    "        elif valueA > valueB:\n",
    "            b += 1\n",
    "        else:\n",
    "            newSet.items.append(valueA)\n",
    "            a += 1\n",
    "            b += 1\n",
    "    return newSet"
   ]
  },
  {
   "attachments": {},
   "cell_type": "markdown",
   "metadata": {},
   "source": [
    "#### P7.4\n",
    "7.3절의 합집합 코드를 참조하여 정렬된 리스트를 이용한 집합에서의 효율적인 차집합 함수를 구현하라."
   ]
  },
  {
   "cell_type": "code",
   "execution_count": null,
   "metadata": {},
   "outputs": [],
   "source": [
    "def difference(self, setB):\n",
    "    newSet = Set()\n",
    "    a = 0\n",
    "    b = 0\n",
    "    while a < len(self.items) and b < len(setB.items):\n",
    "        valueA = self.items[a]\n",
    "        valueB = setB.items[b]\n",
    "        if valueA == valueB:\n",
    "            a += 1\n",
    "            b += 1\n",
    "        elif valueA < valueB:\n",
    "            newSet.items.append(valueA)\n",
    "            a += 1\n",
    "        else:\n",
    "            b += 1\n",
    "    while a < len(self.items):\n",
    "        newSet.items.append(self.items[a])\n",
    "        a += 1\n",
    "    return newSet"
   ]
  }
 ],
 "metadata": {
  "kernelspec": {
   "display_name": "Python 3",
   "language": "python",
   "name": "python3"
  },
  "language_info": {
   "name": "python",
   "version": "3.6.8"
  },
  "orig_nbformat": 4
 },
 "nbformat": 4,
 "nbformat_minor": 2
}
