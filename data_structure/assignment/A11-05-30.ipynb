{
 "cells": [
  {
   "attachments": {},
   "cell_type": "markdown",
   "metadata": {},
   "source": [
    "# 자료구조 10장"
   ]
  },
  {
   "attachments": {},
   "cell_type": "markdown",
   "metadata": {},
   "source": [
    "## 연습문제"
   ]
  },
  {
   "attachments": {},
   "cell_type": "markdown",
   "metadata": {},
   "source": [
    "### 10.6 다음 그래프를 정점 S에서 출발하여 깊이우선탐색을 하는 경우의 방문순서를 표시하라."
   ]
  },
  {
   "attachments": {},
   "cell_type": "markdown",
   "metadata": {},
   "source": [
    "S -> A -> D -> B -> C"
   ]
  },
  {
   "attachments": {},
   "cell_type": "markdown",
   "metadata": {},
   "source": [
    "### 10.7 위 문제의 그래프를 정점 S에서 출발하여 너비우선탐색을 하는 경우의 방문순서를 표시하라."
   ]
  },
  {
   "attachments": {},
   "cell_type": "markdown",
   "metadata": {},
   "source": [
    "S -> A -> B -> C -> D"
   ]
  },
  {
   "attachments": {},
   "cell_type": "markdown",
   "metadata": {},
   "source": [
    "### 10.8 정점의 개수를 𝑛, 간선의 개수를 𝑒라고 할 때, 인접 행렬에서 특정 정점의 차수를 계산하는 연산의 시간 복잡도는? "
   ]
  },
  {
   "attachments": {},
   "cell_type": "markdown",
   "metadata": {},
   "source": [
    "O(n)"
   ]
  },
  {
   "attachments": {},
   "cell_type": "markdown",
   "metadata": {},
   "source": [
    "### 10.9 어떤 그래프의 정점의 개수를 𝑛, 간선의 개수를 𝑒라고 하자. 그래프를 인접 행렬과 인접 리스트로 각각 표현한 경우 그래프에 존재하는 모든 간선의 수를 계산하는 연산의 시간 복잡도는?"
   ]
  },
  {
   "attachments": {},
   "cell_type": "markdown",
   "metadata": {},
   "source": [
    "인접 행렬은 O(n^2)의 시간 복잡도를 갖고, 인접 리스트는 O(n+e)의 시간 복잡도를 갖습니다."
   ]
  },
  {
   "attachments": {},
   "cell_type": "markdown",
   "metadata": {},
   "source": [
    "### 10.10 다음은 어떤 그래프를 인접 리스트로 표현한 것이다. 이 그래프를 정점 A에서부터 깊이 우선 탐색할 때, 정점이 방문되는 순서로 옳은 것은? "
   ]
  },
  {
   "attachments": {},
   "cell_type": "markdown",
   "metadata": {},
   "source": [
    "정점 A에서부터 깊이 우선 탐색(Depth-First Search, DFS)을 진행할 때, 정점이 방문되는 순서는 다음과 같습니다:\n",
    "\n",
    "A - B - E - G - F - C - D"
   ]
  },
  {
   "attachments": {},
   "cell_type": "markdown",
   "metadata": {},
   "source": [
    "### 10.11 다음의 그래프가 인접 행렬로 표현되어 있다고 가정하고, 정점 3에서 출발하여 깊이우선탐색을 경우의 방문순서를 적어라"
   ]
  },
  {
   "attachments": {},
   "cell_type": "markdown",
   "metadata": {},
   "source": [
    "정점 3에서 출발하여 깊이 우선 탐색(DFS)을 진행할 때, 정점이 방문되는 순서는 다음과 같습니다:\n",
    "\n",
    "3 - 4 - 2 - 1 - 0 - 5 - 6 - 7 - 8 - 9"
   ]
  },
  {
   "attachments": {},
   "cell_type": "markdown",
   "metadata": {},
   "source": [
    "### 10.12 위 문제에서 정점 3에서 출발하여 너비우선탐색을 한 경우의 방문순서를 적어라. "
   ]
  },
  {
   "attachments": {},
   "cell_type": "markdown",
   "metadata": {},
   "source": [
    "정점 3에서 출발하여 너비 우선 탐색(BFS)을 진행할 때, 정점이 방문되는 순서는 다음과 같습니다:\n",
    "\n",
    "3 - 4 - 5 - 2 - 1 - 6 - 0 - 7 - 8 - 9"
   ]
  },
  {
   "attachments": {},
   "cell_type": "markdown",
   "metadata": {},
   "source": [
    "### 10.13 다음의 그래프에서 가능한 신장 트리를 두 개 구해보라. 각 신장 트리의 간선의 가중치를 모두 더해보라."
   ]
  },
  {
   "attachments": {},
   "cell_type": "markdown",
   "metadata": {},
   "source": [
    "* 신장 트리 1:\n",
    "A - B (1)\n",
    "A - D (4)\n",
    "B - E (2)\n",
    "E - C (4)\n",
    "E - F (7)\n",
    "간선의 가중치의 합: 1 + 4 + 2 + 4 + 7 = 18\n",
    "\n",
    "* 신장 트리 2:\n",
    "A - B (1)\n",
    "A - D (4)\n",
    "B - D (4)\n",
    "D - E (4)\n",
    "E - C (4)\n",
    "C - F (5)\n",
    "간선의 가중치의 합: 1 + 4 + 4 + 4 + 4 + 5 = 22"
   ]
  },
  {
   "attachments": {},
   "cell_type": "markdown",
   "metadata": {},
   "source": [
    "### 10.14 다음의 그래프에 대하여 위상 정렬을 수행해보라."
   ]
  },
  {
   "attachments": {},
   "cell_type": "markdown",
   "metadata": {},
   "source": [
    "위상 정렬의 결과: 7, 5, 3, 1, 8, 10, 9, 2"
   ]
  },
  {
   "attachments": {},
   "cell_type": "markdown",
   "metadata": {},
   "source": [
    "## 실습문제"
   ]
  },
  {
   "attachments": {},
   "cell_type": "markdown",
   "metadata": {},
   "source": [
    "### 그래프가 다음과 같이 인접행렬로 표현되어 있다. 다음 물음에 답하라."
   ]
  },
  {
   "attachments": {},
   "cell_type": "markdown",
   "metadata": {},
   "source": [
    "vertex = ['A','B','C','D','E','F','G','H']\n",
    "\n",
    "adjMat = [[ 0, 1, 1, 0, 0, 0, 0, 0],\n",
    "\n",
    "    [ 1, 0, 0, 1, 0, 0, 0, 0],\n",
    "\n",
    "    [ 1, 0, 0, 1, 1, 0, 0, 0],\n",
    "\n",
    "    [ 0, 1, 1, 0, 0, 1, 0, 0],\n",
    "\n",
    "    [ 0, 0, 1, 0, 0, 0, 1, 1],\n",
    "\n",
    "    [ 0, 0, 0, 1, 0, 0, 0, 0],\n",
    "    \n",
    "    [ 0, 0, 0, 0, 1, 0, 0, 1],\n",
    "\n",
    "    [ 0, 0, 0, 0, 1, 0, 1, 0]]"
   ]
  },
  {
   "attachments": {},
   "cell_type": "markdown",
   "metadata": {},
   "source": [
    "### 10.1 인접행렬로 표현된 그래프에 대한 깊이우선탐색 알고리즘을 구현하시오."
   ]
  },
  {
   "cell_type": "code",
   "execution_count": 1,
   "metadata": {},
   "outputs": [
    {
     "name": "stdout",
     "output_type": "stream",
     "text": [
      "A B D C E G H F "
     ]
    }
   ],
   "source": [
    "def dfs(adjMat, start, visited):\n",
    "    visited[start] = True\n",
    "    print(vertex[start], end=' ')\n",
    "\n",
    "    for i in range(len(vertex)):\n",
    "        if adjMat[start][i] == 1 and not visited[i]:\n",
    "            dfs(adjMat, i, visited)\n",
    "\n",
    "vertex = ['A', 'B', 'C', 'D', 'E', 'F', 'G', 'H']\n",
    "adjMat = [[0, 1, 1, 0, 0, 0, 0, 0],\n",
    "          [1, 0, 0, 1, 0, 0, 0, 0],\n",
    "          [1, 0, 0, 1, 1, 0, 0, 0],\n",
    "          [0, 1, 1, 0, 0, 1, 0, 0],\n",
    "          [0, 0, 1, 0, 0, 0, 1, 1],\n",
    "          [0, 0, 0, 1, 0, 0, 0, 0],\n",
    "          [0, 0, 0, 0, 1, 0, 0, 1],\n",
    "          [0, 0, 0, 0, 1, 0, 1, 0]]\n",
    "\n",
    "visited = [False] * len(vertex)\n",
    "\n",
    "# 시작 정점을 A로 설정하여 탐색 시작\n",
    "start = 0\n",
    "dfs(adjMat, start, visited)"
   ]
  },
  {
   "attachments": {},
   "cell_type": "markdown",
   "metadata": {},
   "source": [
    "### 10.2 인접행렬로 표현된 그래프에 대한 너비우선탐색 알고리즘을 구현하시오. 단, 큐는 파이썬의 queue 모듈의 Queue 클래스를 사용\n"
   ]
  },
  {
   "cell_type": "code",
   "execution_count": 2,
   "metadata": {},
   "outputs": [
    {
     "name": "stdout",
     "output_type": "stream",
     "text": [
      "A B C D E F G H "
     ]
    }
   ],
   "source": [
    "from queue import Queue\n",
    "\n",
    "def bfs(adjMat, start):\n",
    "    visited = [False] * len(vertex)\n",
    "    q = Queue()\n",
    "    \n",
    "    visited[start] = True\n",
    "    q.put(start)\n",
    "\n",
    "    while not q.empty():\n",
    "        node = q.get()\n",
    "        print(vertex[node], end=' ')\n",
    "\n",
    "        for i in range(len(vertex)):\n",
    "            if adjMat[node][i] == 1 and not visited[i]:\n",
    "                visited[i] = True\n",
    "                q.put(i)\n",
    "\n",
    "vertex = ['A', 'B', 'C', 'D', 'E', 'F', 'G', 'H']\n",
    "adjMat = [[0, 1, 1, 0, 0, 0, 0, 0],\n",
    "          [1, 0, 0, 1, 0, 0, 0, 0],\n",
    "          [1, 0, 0, 1, 1, 0, 0, 0],\n",
    "          [0, 1, 1, 0, 0, 1, 0, 0],\n",
    "          [0, 0, 1, 0, 0, 0, 1, 1],\n",
    "          [0, 0, 0, 1, 0, 0, 0, 0],\n",
    "          [0, 0, 0, 0, 1, 0, 0, 1],\n",
    "          [0, 0, 0, 0, 1, 0, 1, 0]]\n",
    "\n",
    "# 시작 정점을 A로 설정하여 탐색 시작\n",
    "start = 0\n",
    "bfs(adjMat, start)"
   ]
  },
  {
   "attachments": {},
   "cell_type": "markdown",
   "metadata": {},
   "source": [
    "### 10.5 인접리스트(딕셔너리와 집합)로 표현된 그래프에 대해 위상정렬 알고리즘을 구현하라. 정점의 진입차수를 저장하는 inDeg의 처리가 까다로울 수 있다. inDeg를 딕셔너리로 처리해보라. "
   ]
  },
  {
   "cell_type": "code",
   "execution_count": 3,
   "metadata": {},
   "outputs": [
    {
     "name": "stdout",
     "output_type": "stream",
     "text": [
      "['A', 'C', 'B', 'E', 'D', 'G', 'F', 'H']\n"
     ]
    }
   ],
   "source": [
    "def topological_sort(graph):\n",
    "    inDeg = {}\n",
    "    result = []\n",
    "    queue = []\n",
    "\n",
    "    # 진입 차수 초기화\n",
    "    for node in graph:\n",
    "        inDeg[node] = 0\n",
    "\n",
    "    # 진입 차수 계산\n",
    "    for node in graph:\n",
    "        for neighbor in graph[node]:\n",
    "            inDeg[neighbor] += 1\n",
    "\n",
    "    # 진입 차수가 0인 정점을 큐에 추가\n",
    "    for node in graph:\n",
    "        if inDeg[node] == 0:\n",
    "            queue.append(node)\n",
    "\n",
    "    # 큐가 빌 때까지 반복\n",
    "    while queue:\n",
    "        node = queue.pop(0)\n",
    "        result.append(node)\n",
    "\n",
    "        # 현재 정점과 연결된 정점들의 진입 차수 감소\n",
    "        for neighbor in graph[node]:\n",
    "            inDeg[neighbor] -= 1\n",
    "\n",
    "            # 진입 차수가 0이 되면 큐에 추가\n",
    "            if inDeg[neighbor] == 0:\n",
    "                queue.append(neighbor)\n",
    "\n",
    "    return result\n",
    "\n",
    "# 인접 리스트로 표현된 그래프\n",
    "graph = {\n",
    "    'A': {'C', 'B'},\n",
    "    'B': {'D'},\n",
    "    'C': {'D', 'E'},\n",
    "    'D': {'F'},\n",
    "    'E': {'G', 'H'},\n",
    "    'F': set(),\n",
    "    'G': {'H'},\n",
    "    'H': set()\n",
    "}\n",
    "\n",
    "result = topological_sort(graph)\n",
    "print(result)"
   ]
  }
 ],
 "metadata": {
  "kernelspec": {
   "display_name": "Python 3",
   "language": "python",
   "name": "python3"
  },
  "language_info": {
   "codemirror_mode": {
    "name": "ipython",
    "version": 3
   },
   "file_extension": ".py",
   "mimetype": "text/x-python",
   "name": "python",
   "nbconvert_exporter": "python",
   "pygments_lexer": "ipython3",
   "version": "3.11.3"
  },
  "orig_nbformat": 4
 },
 "nbformat": 4,
 "nbformat_minor": 2
}
