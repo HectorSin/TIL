{
 "cells": [
  {
   "attachments": {},
   "cell_type": "markdown",
   "metadata": {},
   "source": [
    "### 2.4 섭씨 온도를 화씨 온도로 변환하는 함수를 구현하라"
   ]
  },
  {
   "cell_type": "code",
   "execution_count": 2,
   "metadata": {},
   "outputs": [
    {
     "name": "stdout",
     "output_type": "stream",
     "text": [
      "266.0\n"
     ]
    }
   ],
   "source": [
    "def cTof(c):\n",
    "    f = 32 + (180/100 * c)\n",
    "    return f\n",
    "\n",
    "# 130 섭씨 온도를 화씨 온도로 바꾸는 코드\n",
    "print(cTof(130))"
   ]
  },
  {
   "attachments": {},
   "cell_type": "markdown",
   "metadata": {},
   "source": [
    "### 2.6 A=[1,2,3,4]와 같이 리스트를 선언하고 이 리스트의 모든 값을 역순으로 출력하는 코드를 구현하라. 단, 인덱스 값으로는 음수만을 사용"
   ]
  },
  {
   "cell_type": "code",
   "execution_count": 5,
   "metadata": {},
   "outputs": [
    {
     "name": "stdout",
     "output_type": "stream",
     "text": [
      "4\n",
      "3\n",
      "2\n",
      "1\n"
     ]
    }
   ],
   "source": [
    "A = [1,2,3,4]\n",
    "\n",
    "count = -1\n",
    "\n",
    "for _ in range(len(A)):\n",
    "    print(A[count])\n",
    "    count -= 1\n"
   ]
  },
  {
   "attachments": {},
   "cell_type": "markdown",
   "metadata": {},
   "source": [
    "### 2.9 어느 식당의 음식에 대한 가격 정보를 다음과 같이 딕셔너리로 표현하자.\n",
    "> price = {'콩나물해장국':4500, '갈비탕':9000, '돈가스':8000}\n",
    "### 여기에 새로운 메뉴 '팟타이'를 7000원에 추가하고, 모든 메뉴와 가격을 출력하는 코드를 작성해보라."
   ]
  },
  {
   "cell_type": "code",
   "execution_count": 6,
   "metadata": {},
   "outputs": [
    {
     "name": "stdout",
     "output_type": "stream",
     "text": [
      "{'콩나물해장국': 4500, '갈비탕': 9000, '돈가스': 8000, '팟타이': 7000}\n"
     ]
    }
   ],
   "source": [
    "price = {'콩나물해장국':4500, '갈비탕':9000, '돈가스':8000}\n",
    "\n",
    "price['팟타이'] = 7000\n",
    "\n",
    "print(price)"
   ]
  },
  {
   "attachments": {},
   "cell_type": "markdown",
   "metadata": {},
   "source": [
    "### 2.10 위 문제에서 모든 메뉴의 가격을 500원 내리는 코드를 작성해보라"
   ]
  },
  {
   "cell_type": "code",
   "execution_count": 9,
   "metadata": {},
   "outputs": [
    {
     "name": "stdout",
     "output_type": "stream",
     "text": [
      "기존 가격 - {'콩나물해장국': 4500, '갈비탕': 9000, '돈가스': 8000, '팟타이': 7000}\n",
      "변동 가격 - {'콩나물해장국': 4000, '갈비탕': 8500, '돈가스': 7500, '팟타이': 6500}\n"
     ]
    }
   ],
   "source": [
    "print(\"기존 가격 - {}\".format(price))\n",
    "\n",
    "for x in price:\n",
    "    price[x] -=500\n",
    "\n",
    "print(\"변동 가격 - {}\".format(price))"
   ]
  },
  {
   "attachments": {},
   "cell_type": "markdown",
   "metadata": {},
   "source": [
    "### 2.12 다음을 계산하는 순환적인 함수를 작성하라.\n",
    "> 1 + 1/2 + 1/3 + ... + 1/n"
   ]
  },
  {
   "cell_type": "code",
   "execution_count": 13,
   "metadata": {},
   "outputs": [
    {
     "name": "stdout",
     "output_type": "stream",
     "text": [
      "2번 계산한 결과는 1.5입니다.\n"
     ]
    }
   ],
   "source": [
    "def rotateCal(num):\n",
    "    result = 0\n",
    "    for a in range(num):\n",
    "        result += (1/(a+1))\n",
    "    print(\"{}번 계산한 결과는 {}입니다.\".format(num, result))\n",
    "\n",
    "rotateCal(2)"
   ]
  },
  {
   "attachments": {},
   "cell_type": "markdown",
   "metadata": {},
   "source": [
    "### 2.15 문자열의 내용을 반대로 바꾸는 순환적인 함수 reverse()를 구현하라. reverse(\"ABCDE\")는 \"EDCBA\"를 반환해야 한다."
   ]
  },
  {
   "cell_type": "code",
   "execution_count": 16,
   "metadata": {},
   "outputs": [
    {
     "name": "stdout",
     "output_type": "stream",
     "text": [
      "EDCBA"
     ]
    }
   ],
   "source": [
    "def reverse(input):\n",
    "    for a in range(len(input)):\n",
    "        print(input[-a-1], end=\"\")\n",
    "\n",
    "reverse(\"ABCDE\")"
   ]
  }
 ],
 "metadata": {
  "kernelspec": {
   "display_name": "Python 3",
   "language": "python",
   "name": "python3"
  },
  "language_info": {
   "codemirror_mode": {
    "name": "ipython",
    "version": 3
   },
   "file_extension": ".py",
   "mimetype": "text/x-python",
   "name": "python",
   "nbconvert_exporter": "python",
   "pygments_lexer": "ipython3",
   "version": "3.11.2"
  },
  "orig_nbformat": 4
 },
 "nbformat": 4,
 "nbformat_minor": 2
}
