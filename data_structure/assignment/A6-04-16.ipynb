{
 "cells": [
  {
   "attachments": {},
   "cell_type": "markdown",
   "metadata": {},
   "source": [
    "# 자료구조 6장"
   ]
  },
  {
   "attachments": {},
   "cell_type": "markdown",
   "metadata": {},
   "source": [
    "#### 6.2 \n",
    "단순연결리스트로 구현한 연결된 스택(6.2절)에서 size() 연산의 시간 복잡도가 O(n)이다. 이를 O(1)\n",
    "으로 개선하기 위해 항목의 수를 관리하는 변수를 사용할 수 있다. 이를 위해 추가하거나 수정해야 하\n",
    "는 데이터 멤버와 메소드들을 자세히 설명하라."
   ]
  },
  {
   "attachments": {},
   "cell_type": "markdown",
   "metadata": {},
   "source": [
    "#### 6.3\n",
    "다음과 같은 연결 리스트에 아래와 같은 코드를 실행한다고 하자. 실행이 끝난 후에 포인터 p가 가\n",
    "리키는 노드는 어떤 노드인가? (코드에서 -> 대신 ., p->link 가 아니라 p.link)"
   ]
  },
  {
   "cell_type": "code",
   "execution_count": null,
   "metadata": {
    "vscode": {
     "languageId": "plaintext"
    }
   },
   "outputs": [],
   "source": [
    "p = list\n",
    "while p->link != None:\n",
    "    p = p -> link"
   ]
  },
  {
   "attachments": {},
   "cell_type": "markdown",
   "metadata": {},
   "source": [
    "#### 6.4\n",
    "앞 문제와 같은 연결 리스트에서 모든 노드의 데이터 필드를 순서대로 화면에 출력하기 위한 다\n",
    "음 코드의 빈 곳을 완성하라. (코드에서 -> 대신 ., p->link 가 아니라 p.link)"
   ]
  },
  {
   "cell_type": "code",
   "execution_count": null,
   "metadata": {
    "vscode": {
     "languageId": "plaintext"
    }
   },
   "outputs": [],
   "source": [
    "p = list\n",
    "while p->link != None:\n",
    "    p = p->link"
   ]
  },
  {
   "attachments": {},
   "cell_type": "markdown",
   "metadata": {},
   "source": [
    "#### 6.5\n",
    "앞 문제와 같은 연결 리스트에서 모든 노드의 데이터 필드를 역순으로 화면에 출력할 수 있는 코\n",
    "드를 작성하라. 순환 함수를 이용할 수 있다."
   ]
  },
  {
   "attachments": {},
   "cell_type": "markdown",
   "metadata": {},
   "source": [
    "#### 6.6\n",
    "연결 리스트(linked list)의 “preNode”노드와 그 다음 노드 사이에 새로운 “newNode”노드를 삽입하\n",
    "려고 한다. 빈 칸에 들어갈 문장으로 옳은 것은? (코드에서 -> 대신 ., p->link 가 아니라 p.link)"
   ]
  },
  {
   "attachments": {},
   "cell_type": "markdown",
   "metadata": {},
   "source": [
    "#### 6.7\n",
    "다음은 연결 리스트를 이용하여 스택을 표현한 것이다. 이에 대한 설명으로 옳지 않은 것\n",
    "은?(단, push는 스택에 자료를 삽입하는 연산이고, pop은 스택에서 자료를 삭제하는 연산이다)"
   ]
  },
  {
   "attachments": {},
   "cell_type": "markdown",
   "metadata": {},
   "source": [
    "#### 6.8\n",
    "덱은 삽입과 삭제가 양 끝에서 임의로 수행되는 자료구조이다. 다음 그림과 같이 단순 연결리스\n",
    "트로 덱을 구현한다고 할 때 O(1) 시간 내에 수행할 수 없는 연산은? (단, first와 last는 각각 덱의 첫\n",
    "번째 원소와 마지막 원소를 가리키며, 연산이 수행된 후에도 덱의 원형이 유지되어야 한다.)"
   ]
  },
  {
   "attachments": {},
   "cell_type": "markdown",
   "metadata": {},
   "source": [
    "#### 6.11\n",
    "연결된 큐를 원형연결리스트로 구현할 때 큐 클래스의 데이터 멤버로 head가 아니라 tail을\n",
    "사용하는 이유를 설명하라"
   ]
  },
  {
   "attachments": {},
   "cell_type": "markdown",
   "metadata": {},
   "source": [
    "## 실습문제\n",
    "#### P6.2\n",
    "6.3절의 연결된 리스트 클래스에 merge() 연산을 구현하라.\n",
    "\n",
    "– 연결리스트 A와 B가 있을 때, A.merge(B)는 연결리스트 A의 맨 뒤에 B\n",
    "를 추가하는 연산이다.\n",
    "\n",
    "– 연산 결과 A의 길이는 늘어나고, B의 길이는 0이 되도록 하라. "
   ]
  },
  {
   "attachments": {},
   "cell_type": "markdown",
   "metadata": {},
   "source": [
    "#### P 6.3\n",
    "다음 그림과 같이 단순연결리스트를 이용한 연결된 큐 클래스\n",
    "를 구현하라.\n",
    "– 데이터 멤버로는 전단을 가리키는 front와 후단을 가리키는 rear를 사용\n",
    "– 삽입은 후단을 통해, 삭제는 전단을 통해 이루어짐"
   ]
  }
 ],
 "metadata": {
  "language_info": {
   "name": "python"
  },
  "orig_nbformat": 4
 },
 "nbformat": 4,
 "nbformat_minor": 2
}
