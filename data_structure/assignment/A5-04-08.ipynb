{
 "cells": [
  {
   "attachments": {},
   "cell_type": "markdown",
   "metadata": {},
   "source": [
    "# 자료구조 5장"
   ]
  },
  {
   "attachments": {},
   "cell_type": "markdown",
   "metadata": {
    "vscode": {
     "languageId": "plaintext"
    }
   },
   "source": [
    "#### P5.2\n",
    "10, 20, 30, 40, 50을 큐에 넣었다고 가정하고 3개의 항목을 삭제하였다. 남아 있는 항목은?"
   ]
  },
  {
   "attachments": {},
   "cell_type": "markdown",
   "metadata": {},
   "source": [
    "- 큐는 FIFO 선입선출방식의 자료형\n",
    "> 40, 50"
   ]
  },
  {
   "attachments": {},
   "cell_type": "markdown",
   "metadata": {},
   "source": [
    "#### P5.4\n",
    "원형 큐의 front와 rear의 값이 각각 7과 2일 때, 이 원형 큐가 가지고 있는 데이터의 개수는?\n",
    "(단, MAX_QSIZE는 12이고, front와 rear의 초기값은 0이다.)"
   ]
  },
  {
   "attachments": {},
   "cell_type": "markdown",
   "metadata": {},
   "source": [
    "* 원형 큐는 배열의 인덱스를 순환하는 방식으로 구현되기 때문에, 큐의 끝과 시작이 서로 이어져 있습니다. 그렇기에 front와 rear의 값이 같아지는 것을 방지하기 위해 1개의 빈값을 둡니다. 그래서 (7+1)~2까지 총 7개의 자료가 있습니다.\n",
    "> 7개"
   ]
  },
  {
   "attachments": {},
   "cell_type": "markdown",
   "metadata": {},
   "source": [
    "#### P5.6\n",
    "다음 중 원형큐에서 공백상태를 검사할 때 사용하는 조건은?\n",
    "1. front ==0 && rear==0\n",
    "2. front ==(MAX_QSIZE-1) && rear == (MAX_QSIZE-1)\n",
    "3. front == rear\n",
    "4. front == (rear + 1) % MAX_QSIZE"
   ]
  },
  {
   "attachments": {},
   "cell_type": "markdown",
   "metadata": {},
   "source": [
    "원형 큐에서는 front와 rear 포인터가 같으면서 해당 위치의 데이터가 None인 경우를 큐가 비어있는 상태로 판단합니다.\n",
    "> 3. front == rear"
   ]
  },
  {
   "attachments": {},
   "cell_type": "markdown",
   "metadata": {},
   "source": [
    "#### P5.8\n",
    "다음과 같은 원형큐에서 다음의 연산을 차례로 수행한다고 하자. 각 단계가수행될 때 큐의 상태를 그려라. 현재 front는 0이고 rear는 2라고 하자.\n",
    "1. A 추가\n",
    "2. D 추가\n",
    "3. 삭제\n",
    "4. E 추가\n",
    "5. 삭제"
   ]
  },
  {
   "attachments": {},
   "cell_type": "markdown",
   "metadata": {},
   "source": [
    "각 과정을 수행한 후 결과\n",
    "1) *BCA*\n",
    "2) *BCAD\n",
    "3) **CAD\n",
    "4) E*CAD\n",
    "5) E**AD (front = 3, rear = 0)\n",
    "> E**AD\n"
   ]
  },
  {
   "attachments": {},
   "cell_type": "markdown",
   "metadata": {},
   "source": [
    "#### P5.13\n",
    "원형 덱에서 front를 시계방향과 반시계 방향으로 회전시킬 수 있는 방법을 유사코드(또는 파이선 코드)로 적어라."
   ]
  },
  {
   "cell_type": "code",
   "execution_count": null,
   "metadata": {},
   "outputs": [],
   "source": [
    "# 시계방향 회전\n",
    "def rotate_clockwise(self):\n",
    "    # 데이터가 비었는지 확인\n",
    "    if self.is_empty():\n",
    "        return\n",
    "    # 데이터가 max_size를 넘었는지 확인\n",
    "    self.front = (self.front + 1) % self.max_size\n",
    "\n",
    "# 반시계방향 회전\n",
    "def rotate_counterclockwise(self):\n",
    "    # 데이터가 비었는지 확인\n",
    "    if self.is_empty():\n",
    "        return\n",
    "    # 데이터가 max_size를 넘었는지 확인 + front가 0인 경우를 대비해 max_size를 한번 더함\n",
    "    self.front = (self.front - 1 + self.max_size) % self.max_size\n"
   ]
  },
  {
   "attachments": {},
   "cell_type": "markdown",
   "metadata": {},
   "source": [
    "#### P5.15 \n",
    "다음 코드의 연산 결과 큐에 남아 있는 내용을 순서대로 적어라."
   ]
  },
  {
   "cell_type": "code",
   "execution_count": null,
   "metadata": {},
   "outputs": [],
   "source": [
    "values = Queue()\n",
    "for i in range(20):\n",
    "    if i % 3 == 0:\n",
    "        values.enqueue(i)\n",
    "\n",
    "values = Queue()\n",
    "for i in range(20):\n",
    "    if i % 3 == 0:\n",
    "        values.enqueue(i)\n",
    "    elif i % 4 == 0:\n",
    "        values.dequeue()"
   ]
  },
  {
   "attachments": {},
   "cell_type": "markdown",
   "metadata": {},
   "source": [
    "> 0 -> 3 -> 6 -> 9 -> 12 -> 15 -> 18"
   ]
  },
  {
   "attachments": {},
   "cell_type": "markdown",
   "metadata": {},
   "source": [
    "#### P5.19\n",
    "공백상태의 우선순위 큐에 우선순위가 23, 28, 39, 14, 55인 항목을 삽입하였다. 5번의 삭제 연산을 할 때 출력되는 항목의 우선순위를 순서대로 적어라."
   ]
  },
  {
   "attachments": {},
   "cell_type": "markdown",
   "metadata": {},
   "source": [
    "#### P5.3 - 실습문제\n",
    "피보나치 수열을 효과적으로 계산하기 위하여 큐를 이용할 수 있다.\n",
    "• 피보나치 수열을 순환에 의하여 계산하게 되면 경우에 따라서는 많\n",
    "은 순환 함수의 호출에 의해 비효율적일 수 있다.\n",
    "– 이를 개선하기 위해 큐를 사용하는데 큐에는 처음에는 F(0)와 F(1)의 값\n",
    "이 들어가 있어 다음에 F(2)를 계산할 때 F(0)을 큐에서 제거한다. 그 다\n",
    "음에 계산된 F(2)를 다시 큐에 넣는다.\n",
    "• 피보나치 수열을 다음과 같이 정의된다. 큐를 이용하여 피보나치 수\n",
    "열을 계산하는 프로그램을 작성하시오.\n",
    "𝐹(0) = 0, 𝐹(1) = 1\n",
    "𝐹(𝑛) = 𝐹(𝑛 − 1) + 𝐹(𝑛 − 2)\n",
    "– 원형 큐 이용하기\n",
    "– F(0) ~ F(9) 까지 출력해보기"
   ]
  },
  {
   "attachments": {},
   "cell_type": "markdown",
   "metadata": {},
   "source": [
    "#### P5.4 - 실습문제\n",
    "회문(palindrome)이란 앞뒤 어느 쪽에서 읽어도 같은 말·구·문 등을 의미한\n",
    "다. 예를 들면 “eye”, “madam”, “I’m Adam”, “race car“ 등이다.\n",
    "– 구두점이나 스페이스, 대소문자 등은 무시\n",
    "• 덱을 이용하여 주어진 문자열이 회문인지 아닌지를 결정하는 프로그램을\n",
    "작성하시오.\n",
    "– 원형 덱 사용"
   ]
  },
  {
   "cell_type": "markdown",
   "metadata": {},
   "source": []
  }
 ],
 "metadata": {
  "language_info": {
   "name": "python"
  },
  "orig_nbformat": 4
 },
 "nbformat": 4,
 "nbformat_minor": 2
}
