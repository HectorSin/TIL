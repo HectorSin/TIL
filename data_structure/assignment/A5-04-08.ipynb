{
 "cells": [
  {
   "attachments": {},
   "cell_type": "markdown",
   "metadata": {},
   "source": [
    "# 자료구조 5장"
   ]
  },
  {
   "attachments": {},
   "cell_type": "markdown",
   "metadata": {
    "vscode": {
     "languageId": "plaintext"
    }
   },
   "source": [
    "#### P5.2\n",
    "10, 20, 30, 40, 50을 큐에 넣었다고 가정하고 3개의 항목을 삭제하였다. 남아 있는 항목은?"
   ]
  },
  {
   "attachments": {},
   "cell_type": "markdown",
   "metadata": {},
   "source": [
    "- 큐는 FIFO 선입선출방식의 자료형\n",
    "> 40, 50"
   ]
  },
  {
   "attachments": {},
   "cell_type": "markdown",
   "metadata": {},
   "source": [
    "#### P5.4\n",
    "원형 큐의 front와 rear의 값이 각각 7과 2일 때, 이 원형 큐가 가지고 있는 데이터의 개수는?\n",
    "(단, MAX_QSIZE는 12이고, front와 rear의 초기값은 0이다.)"
   ]
  },
  {
   "attachments": {},
   "cell_type": "markdown",
   "metadata": {},
   "source": [
    "* 원형 큐는 배열의 인덱스를 순환하는 방식으로 구현되기 때문에, 큐의 끝과 시작이 서로 이어져 있습니다. 그렇기에 front와 rear의 값이 같아지는 것을 방지하기 위해 1개의 빈값을 둡니다. 그래서 (7+1)~2까지 총 7개의 자료가 있습니다.\n",
    "> 7개"
   ]
  },
  {
   "attachments": {},
   "cell_type": "markdown",
   "metadata": {},
   "source": [
    "#### P5.6\n",
    "다음 중 원형큐에서 공백상태를 검사할 때 사용하는 조건은?\n",
    "1. front ==0 && rear==0\n",
    "2. front ==(MAX_QSIZE-1) && rear == (MAX_QSIZE-1)\n",
    "3. front == rear\n",
    "4. front == (rear + 1) % MAX_QSIZE"
   ]
  },
  {
   "attachments": {},
   "cell_type": "markdown",
   "metadata": {},
   "source": [
    "원형 큐에서는 front와 rear 포인터가 같으면서 해당 위치의 데이터가 None인 경우를 큐가 비어있는 상태로 판단합니다.\n",
    "> 3. front == rear"
   ]
  },
  {
   "attachments": {},
   "cell_type": "markdown",
   "metadata": {},
   "source": [
    "#### P5.8\n",
    "다음과 같은 원형큐에서 다음의 연산을 차례로 수행한다고 하자. 각 단계가수행될 때 큐의 상태를 그려라. 현재 front는 0이고 rear는 2라고 하자.\n",
    "1. A 추가\n",
    "2. D 추가\n",
    "3. 삭제\n",
    "4. E 추가\n",
    "5. 삭제"
   ]
  },
  {
   "attachments": {},
   "cell_type": "markdown",
   "metadata": {},
   "source": [
    "각 과정을 수행한 후 결과\n",
    "1) *BCA*\n",
    "2) *BCAD\n",
    "3) **CAD\n",
    "4) E*CAD\n",
    "5) E**AD (front = 3, rear = 0)\n",
    "> E**AD\n"
   ]
  },
  {
   "attachments": {},
   "cell_type": "markdown",
   "metadata": {},
   "source": [
    "#### P5.13\n",
    "원형 덱에서 front를 시계방향과 반시계 방향으로 회전시킬 수 있는 방법을 유사코드(또는 파이선 코드)로 적어라."
   ]
  },
  {
   "cell_type": "code",
   "execution_count": null,
   "metadata": {},
   "outputs": [],
   "source": [
    "# 시계방향 회전\n",
    "def rotate_clockwise(self):\n",
    "    # 데이터가 비었는지 확인\n",
    "    if self.is_empty():\n",
    "        return\n",
    "    # 데이터가 max_size를 넘었는지 확인\n",
    "    self.front = (self.front + 1) % self.max_size\n",
    "\n",
    "# 반시계방향 회전\n",
    "def rotate_counterclockwise(self):\n",
    "    # 데이터가 비었는지 확인\n",
    "    if self.is_empty():\n",
    "        return\n",
    "    # 데이터가 max_size를 넘었는지 확인 + front가 0인 경우를 대비해 max_size를 한번 더함\n",
    "    self.front = (self.front - 1 + self.max_size) % self.max_size\n"
   ]
  },
  {
   "attachments": {},
   "cell_type": "markdown",
   "metadata": {},
   "source": [
    "#### P5.15 \n",
    "다음 코드의 연산 결과 큐에 남아 있는 내용을 순서대로 적어라."
   ]
  },
  {
   "cell_type": "code",
   "execution_count": null,
   "metadata": {},
   "outputs": [],
   "source": [
    "values = Queue()\n",
    "for i in range(20):\n",
    "    if i % 3 == 0:\n",
    "        values.enqueue(i)\n",
    "\n",
    "values = Queue()\n",
    "for i in range(20):\n",
    "    if i % 3 == 0:\n",
    "        values.enqueue(i)\n",
    "    elif i % 4 == 0:\n",
    "        values.dequeue()"
   ]
  },
  {
   "attachments": {},
   "cell_type": "markdown",
   "metadata": {},
   "source": [
    "> 0 -> 3 -> 6 -> 9 -> 12 -> 15 -> 18"
   ]
  },
  {
   "attachments": {},
   "cell_type": "markdown",
   "metadata": {},
   "source": [
    "#### P5.19\n",
    "공백상태의 우선순위 큐에 우선순위가 23, 28, 39, 14, 55인 항목을 삽입하였다. 5번의 삭제 연산을 할 때 출력되는 항목의 우선순위를 순서대로 적어라."
   ]
  },
  {
   "attachments": {},
   "cell_type": "markdown",
   "metadata": {},
   "source": [
    "5번의 삭제 연산을 수행하면 우선순위가 가장 높은 항목부터 차례대로 삭제됩니다.\n",
    "출력되는 항목의 우선순위는 55, 39, 28, 23, 14 입니다.\n",
    "> 55, 39, 28, 23, 14"
   ]
  },
  {
   "attachments": {},
   "cell_type": "markdown",
   "metadata": {},
   "source": [
    "#### P5.3 - 실습문제\n",
    "피보나치 수열을 효과적으로 계산하기 위하여 큐를 이용할 수 있다.\n",
    "• 피보나치 수열을 순환에 의하여 계산하게 되면 경우에 따라서는 많\n",
    "은 순환 함수의 호출에 의해 비효율적일 수 있다.\n",
    "– 이를 개선하기 위해 큐를 사용하는데 큐에는 처음에는 F(0)와 F(1)의 값\n",
    "이 들어가 있어 다음에 F(2)를 계산할 때 F(0)을 큐에서 제거한다. 그 다\n",
    "음에 계산된 F(2)를 다시 큐에 넣는다.\n",
    "• 피보나치 수열을 다음과 같이 정의된다. 큐를 이용하여 피보나치 수\n",
    "열을 계산하는 프로그램을 작성하시오.\n",
    "𝐹(0) = 0, 𝐹(1) = 1\n",
    "𝐹(𝑛) = 𝐹(𝑛 − 1) + 𝐹(𝑛 − 2)\n",
    "– 원형 큐 이용하기\n",
    "– F(0) ~ F(9) 까지 출력해보기"
   ]
  },
  {
   "cell_type": "code",
   "execution_count": 2,
   "metadata": {},
   "outputs": [
    {
     "name": "stdout",
     "output_type": "stream",
     "text": [
      "F(0) = 0\n",
      "F(1) = 0\n",
      "F(2) = 1\n",
      "F(3) = 2\n",
      "F(4) = 3\n",
      "F(5) = 4\n",
      "F(6) = 5\n",
      "F(7) = 6\n",
      "F(8) = 7\n",
      "F(9) = 8\n"
     ]
    }
   ],
   "source": [
    "class CircularQueue:\n",
    "    def __init__(self, size):\n",
    "        self.queue = [None] * size  # 큐를 구현하기 위한 리스트\n",
    "        self.max_size = size  # 큐의 최대 크기\n",
    "        self.front = 0  # 큐의 앞쪽 인덱스\n",
    "        self.rear = 0  # 큐의 뒤쪽 인덱스\n",
    "\n",
    "    def is_empty(self):\n",
    "        # 큐가 비어있으면 True 반환\n",
    "        return self.front == self.rear and self.queue[self.front] is None\n",
    "\n",
    "    def is_full(self):\n",
    "        # 큐가 가득 차 있으면 True 반환\n",
    "        return self.front == self.rear and self.queue[self.front] is not None\n",
    "\n",
    "    def enqueue(self, item):\n",
    "        if not self.is_full():\n",
    "            # rear가 가리키는 위치에 새로운 데이터를 저장\n",
    "            self.queue[self.rear] = item\n",
    "            # rear 값을 1 증가시킴. 만약 rear가 max_size를 초과하면 0으로 변경\n",
    "            self.rear = (self.rear + 1) % self.max_size\n",
    "\n",
    "    def dequeue(self):\n",
    "        if not self.is_empty():\n",
    "            # front가 가리키는 위치의 데이터를 반환\n",
    "            item = self.queue[self.front]\n",
    "            # front가 가리키는 위치의 데이터를 None으로 변경\n",
    "            self.queue[self.front] = None\n",
    "            # front 값을 1 증가시킴. 만약 front가 max_size를 초과하면 0으로 변경\n",
    "            self.front = (self.front + 1) % self.max_size\n",
    "            return item\n",
    "\n",
    "\n",
    "def fibonacci(n):\n",
    "    # 최대 100개의 정수를 저장할 수 있는 원형 큐 생성\n",
    "    q = CircularQueue(100)\n",
    "\n",
    "    # 초기값 F(0)을 큐에 추가\n",
    "    q.enqueue(0)\n",
    "    # 초기값 F(1)을 큐에 추가\n",
    "    q.enqueue(1)\n",
    "\n",
    "    for i in range(2, n+1):\n",
    "        # 큐에서 가장 먼저 들어온 값을 first에 저장\n",
    "        first = q.dequeue()\n",
    "        # 두 번째 값은 큐에서 가장 먼저 들어온 값의 다음 값인 front가 가리키는 위치의 값\n",
    "        second = q.front\n",
    "        # first와 second를 더한 값을 result에 저장\n",
    "        result = first + second\n",
    "        # result를 큐에 추가\n",
    "        q.enqueue(result)\n",
    "    # 큐의 front가 가리키는 값을 반환\n",
    "    return q.front\n",
    "\n",
    "\n",
    "for i in range(10):\n",
    "    print(f\"F({i}) = {fibonacci(i)}\")"
   ]
  },
  {
   "attachments": {},
   "cell_type": "markdown",
   "metadata": {},
   "source": [
    "#### P5.4 - 실습문제\n",
    "회문(palindrome)이란 앞뒤 어느 쪽에서 읽어도 같은 말·구·문 등을 의미한\n",
    "다. 예를 들면 “eye”, “madam”, “I’m Adam”, “race car“ 등이다.\n",
    "– 구두점이나 스페이스, 대소문자 등은 무시\n",
    "• 덱을 이용하여 주어진 문자열이 회문인지 아닌지를 결정하는 프로그램을\n",
    "작성하시오.\n",
    "– 원형 덱 사용"
   ]
  },
  {
   "cell_type": "code",
   "execution_count": 7,
   "metadata": {},
   "outputs": [
    {
     "name": "stdout",
     "output_type": "stream",
     "text": [
      "True\n",
      "False\n"
     ]
    }
   ],
   "source": [
    "class CircularDeque:\n",
    "    def __init__(self, max_size):\n",
    "        self.front = 0\n",
    "        self.rear = 0\n",
    "        self.max_size = max_size\n",
    "        self.data = [None] * max_size\n",
    "\n",
    "    # 원형 덱의 크기를 반환\n",
    "    def size(self):\n",
    "        if self.rear >= self.front:\n",
    "            return self.rear - self.front\n",
    "        else:\n",
    "            return self.max_size - (self.front - self.rear)\n",
    "\n",
    "    # 원형 덱이 비어있는지 확인\n",
    "    def is_empty(self):\n",
    "        return self.front == self.rear\n",
    "\n",
    "    # 원형 덱이 가득 차 있는지 확인\n",
    "    def is_full(self):\n",
    "        return self.size() == self.max_size - 1\n",
    "\n",
    "    # 원형 덱의 앞쪽에 데이터를 추가\n",
    "    def enqueue_front(self, x):\n",
    "        if self.is_full():\n",
    "            raise Exception(\"Queue is full\")\n",
    "        self.front = (self.front - 1 + self.max_size) % self.max_size\n",
    "        self.data[self.front] = x\n",
    "\n",
    "    # 원형 덱의 앞쪽에서 데이터를 삭제하고 반환\n",
    "    def dequeue_front(self):\n",
    "        if self.is_empty():\n",
    "            raise Exception(\"Queue is empty\")\n",
    "        x = self.data[self.front]\n",
    "        self.front = (self.front + 1) % self.max_size\n",
    "        return x\n",
    "\n",
    "    # 원형 덱의 뒤쪽에 데이터를 추가\n",
    "    def enqueue_rear(self, x):\n",
    "        if self.is_full():\n",
    "            raise Exception(\"Queue is full\")\n",
    "        self.data[self.rear] = x\n",
    "        self.rear = (self.rear + 1) % self.max_size\n",
    "\n",
    "    # 원형 덱의 뒤쪽에서 데이터를 삭제하고 반환\n",
    "    def dequeue_rear(self):\n",
    "        if self.is_empty():\n",
    "            raise Exception(\"Queue is empty\")\n",
    "        self.rear = (self.rear - 1 + self.max_size) % self.max_size\n",
    "        x = self.data[self.rear]\n",
    "        return x\n",
    "\n",
    "import string\n",
    "\n",
    "# 문자열에서 구두점과 공백을 제거하는 함수\n",
    "def strip_string(s):\n",
    "    s = s.lower()\n",
    "    s = s.translate(str.maketrans(\"\", \"\", string.punctuation))\n",
    "    s = s.replace(\" \", \"\")\n",
    "    return s\n",
    "\n",
    "# 회문 판별 함수\n",
    "def is_palindrome(s):\n",
    "    deque = CircularDeque(len(s))  # 문자열 길이만큼의 원형 덱 생성\n",
    "    s = strip_string(s)  # 구두점과 공백을 제거한 문자열로 대체\n",
    "\n",
    "    for c in s:  # 문자열에서 한 글자씩 반복\n",
    "        deque.enqueue_front(c)  # 원형 덱의 앞쪽에 문자 추가\n",
    "\n",
    "    while deque.size() >= 2:  # 원형 덱의 크기가 2 이상일 때까지 반복\n",
    "        front = deque.dequeue_front()  # 원형 덱의 앞쪽에서 문자 1개를 꺼냄\n",
    "        rear = deque.dequeue_rear()  # 원형 덱의 뒤쪽에서 문자 1개를 꺼냄\n",
    "        if front != rear:  # 앞쪽 문자와 뒤쪽 문자가 다르면 회문이 아님\n",
    "            return False\n",
    "\n",
    "    return True  # 모든 문자를 비교한 결과 회문임\n",
    "\n",
    "# 회문 판별 함수 호출\n",
    "s = \"A man, a plan, a canal: Panama\"\n",
    "print(is_palindrome(s))  # True\n",
    "\n",
    "s = \"hello world\"\n",
    "print(is_palindrome(s))  # False\n"
   ]
  },
  {
   "cell_type": "code",
   "execution_count": null,
   "metadata": {},
   "outputs": [],
   "source": []
  }
 ],
 "metadata": {
  "kernelspec": {
   "display_name": "Python 3",
   "language": "python",
   "name": "python3"
  },
  "language_info": {
   "codemirror_mode": {
    "name": "ipython",
    "version": 3
   },
   "file_extension": ".py",
   "mimetype": "text/x-python",
   "name": "python",
   "nbconvert_exporter": "python",
   "pygments_lexer": "ipython3",
   "version": "3.6.8"
  },
  "orig_nbformat": 4
 },
 "nbformat": 4,
 "nbformat_minor": 2
}
