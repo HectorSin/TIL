{
 "cells": [
  {
   "attachments": {},
   "cell_type": "markdown",
   "metadata": {},
   "source": [
    "# 자료구조 5장"
   ]
  },
  {
   "cell_type": "code",
   "execution_count": null,
   "metadata": {},
   "outputs": [],
   "source": []
  },
  {
   "attachments": {},
   "cell_type": "markdown",
   "metadata": {},
   "source": [
    "피보나치 수열을 큐를 이용하여 계산하는 코드입니다. 원형 큐를 이용하여 구현하였으며, F(0)과 F(1)을 큐에 먼저 삽입한 후, 큐에서 F(0)을 제거하고 F(2)를 계산하여 다시 큐에 삽입합니다. 이후, 큐에서 F(1)을 제거하고 F(3)을 계산하여 큐에 삽입합니다. 이를 반복하여 F(9)까지 계산하고, 계산된 값들을 순서대로 출력합니다."
   ]
  },
  {
   "cell_type": "code",
   "execution_count": 2,
   "metadata": {},
   "outputs": [
    {
     "name": "stdout",
     "output_type": "stream",
     "text": [
      "[21, 34]\n"
     ]
    }
   ],
   "source": [
    "class CircularQueue:\n",
    "    def __init__(self, size):\n",
    "        self.size = size\n",
    "        self.front = 0\n",
    "        self.rear = 0\n",
    "        self.queue = [None] * size\n",
    "    \n",
    "    def enqueue(self, item):\n",
    "        if self.is_full():\n",
    "            return False\n",
    "        self.queue[self.rear] = item\n",
    "        self.rear = (self.rear + 1) % self.size\n",
    "        return True\n",
    "    \n",
    "    def dequeue(self):\n",
    "        if self.is_empty():\n",
    "            return None\n",
    "        item = self.queue[self.front]\n",
    "        self.queue[self.front] = None\n",
    "        self.front = (self.front + 1) % self.size\n",
    "        return item\n",
    "    \n",
    "    def is_empty(self):\n",
    "        return self.front == self.rear\n",
    "    \n",
    "    def is_full(self):\n",
    "        return (self.rear + 1) % self.size == self.front\n",
    "    \n",
    "    def queue_size(self):\n",
    "        return (self.rear - self.front + self.size) % self.size\n",
    "    \n",
    "def fibonacci(n):\n",
    "    queue = CircularQueue(n+1)\n",
    "    queue.enqueue(0)\n",
    "    queue.enqueue(1)\n",
    "    \n",
    "    for i in range(2, n+1):\n",
    "        f0 = queue.dequeue()\n",
    "        f1 = queue.queue[queue.front]\n",
    "        fn = f0 + f1\n",
    "        queue.enqueue(fn)\n",
    "    \n",
    "    result = []\n",
    "    for i in range(queue.queue_size()):\n",
    "        result.append(queue.dequeue())\n",
    "    \n",
    "    return result\n",
    "\n",
    "print(fibonacci(9))  # [0, 1, 1, 2, 3, 5, 8, 13, 21, 34]\n"
   ]
  },
  {
   "cell_type": "code",
   "execution_count": null,
   "metadata": {},
   "outputs": [],
   "source": []
  }
 ],
 "metadata": {
  "kernelspec": {
   "display_name": "Python 3",
   "language": "python",
   "name": "python3"
  },
  "language_info": {
   "codemirror_mode": {
    "name": "ipython",
    "version": 3
   },
   "file_extension": ".py",
   "mimetype": "text/x-python",
   "name": "python",
   "nbconvert_exporter": "python",
   "pygments_lexer": "ipython3",
   "version": "3.11.2"
  },
  "orig_nbformat": 4,
  "vscode": {
   "interpreter": {
    "hash": "f6ac0492ffaf5ca6d114b0b81d58689a6d21e9aea5e44eeb6e7dcf8336084862"
   }
  }
 },
 "nbformat": 4,
 "nbformat_minor": 2
}
