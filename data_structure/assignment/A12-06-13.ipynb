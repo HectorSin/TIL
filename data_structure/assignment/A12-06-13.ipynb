{
 "cells": [
  {
   "attachments": {},
   "cell_type": "markdown",
   "metadata": {},
   "source": [
    "# 자료구조 11장"
   ]
  },
  {
   "attachments": {},
   "cell_type": "markdown",
   "metadata": {},
   "source": [
    "## 연습문제"
   ]
  },
  {
   "attachments": {},
   "cell_type": "markdown",
   "metadata": {},
   "source": [
    "### 11.3 아래의 네트워크에 대하여 Kruskal의 MST 알고리즘을 이용해서 최소비용신장 트리가 구성되는 과정을 보여라"
   ]
  },
  {
   "attachments": {},
   "cell_type": "markdown",
   "metadata": {},
   "source": [
    "1. 간선을 비용의 오름차순으로 정렬합니다:\n",
    "(A-B, 1), (B-D, 1), (A-D, 2), (B-C, 3), (C-D, 3), (C-E, 1), (D-E, 2)\n",
    "\n",
    "2. 각 정점을 개별적인 집합으로 초기화합니다:\n",
    "{A}, {B}, {C}, {D}, {E}\n",
    "\n",
    "3. 가장 작은 비용을 가지는 간선부터 선택하면서 사이클을 형성하지 않는 경우에만 해당 간선을 MST에 추가합니다:\n",
    "(A-B, 1)을 추가합니다. MST: (A-B, 1)\n",
    "(B-D, 1)을 추가합니다. MST: (A-B, 1), (B-D, 1)\n",
    "(A-D, 2)은 A와 D가 이미 MST에 속해 있으므로 사이클을 형성하므로 무시합니다.\n",
    "(B-C, 3)을 추가합니다. MST: (A-B, 1), (B-D, 1), (B-C, 3)\n",
    "(C-D, 3)을 추가합니다. MST: (A-B, 1), (B-D, 1), (B-C, 3), (C-D, 3)\n",
    "(C-E, 1)을 추가합니다. MST: (A-B, 1), (B-D, 1), (B-C, 3), (C-D, 3), (C-E, 1)\n",
    "(D-E, 2)을 추가합니다. MST: (A-B, 1), (B-D, 1), (B-C, 3), (C-D, 3), (C-E, 1), (D-E, 2)\n",
    "\n",
    "4. 모든 간선을 확인하였고 MST가 완성되었습니다. 최소 비용 신장 트리인 MST는 다음과 같습니다:\n",
    "(A-B, 1), (B-D, 1), (B-C, 3), (C-D, 3), (C-E, 1), (D-E, 2)"
   ]
  },
  {
   "attachments": {},
   "cell_type": "markdown",
   "metadata": {},
   "source": [
    "### 11.4 위의 문제의 그래프에 대하여 Prim의 MST 알고리즘을 이용해서 최소비용 신장 트리가 구성되는 과정을 보여라. (정점 A부터 시작)"
   ]
  },
  {
   "attachments": {},
   "cell_type": "markdown",
   "metadata": {},
   "source": [
    "1. 초기화:\n",
    "\n",
    "MST: 빈 상태\n",
    "방문한 정점: {A}\n",
    "선택한 간선: 빈 상태\n",
    "A와 연결된 간선 중 최소 비용의 간선을 선택합니다:\n",
    "\n",
    "2. A-B: 1\n",
    "A-D: 2 (A-B 간선과 비용 비교)\n",
    "선택한 간선: (A-B, 1)\n",
    "\n",
    "B와 연결된 간선 중 방문하지 않은 정점과의 최소 비용의 간선을 선택합니다:\n",
    "\n",
    "3. B-D: 1\n",
    "선택한 간선: (A-B, 1), (B-D, 1)\n",
    "\n",
    "D와 연결된 간선 중 방문하지 않은 정점과의 최소 비용의 간선을 선택합니다:\n",
    "\n",
    "4. D-C: 3\n",
    "선택한 간선: (A-B, 1), (B-D, 1), (D-C, 3)\n",
    "\n",
    "C와 연결된 간선 중 방문하지 않은 정점과의 최소 비용의 간선을 선택합니다:\n",
    "\n",
    "5. C-E: 1\n",
    "선택한 간선: (A-B, 1), (B-D, 1), (D-C, 3), (C-E, 1)\n",
    "\n",
    "E와 연결된 간선 중 방문하지 않은 정점과의 최소 비용의 간선을 선택합니다:\n",
    "\n",
    "6. E-F: 7\n",
    "선택한 간선: (A-B, 1), (B-D, 1), (D-C, 3), (C-E, 1), (E-F, 7)\n",
    "\n",
    "F와 연결된 간선 중 방문하지 않은 정점과의 최소 비용의 간선을 선택합니다:\n",
    "\n",
    "7. F-G: 4\n",
    "선택한 간선: (A-B, 1), (B-D, 1), (D-C, 3), (C-E, 1), (E-F, 7), (F-G, 4)\n",
    "\n",
    "G와 연결된 간선 중 방문하지 않은 정점과의 최소 비용의 간선을 선택합니다:\n",
    "\n",
    "8. G-H: 6\n",
    "선택한 간선: (A-B, 1), (B-D, 1), (D-C, 3), (C-E, 1), (E-F, 7), (F-G, 4), (G-H, 6)\n",
    "\n",
    "모든 정점을 방문하였고 MST가 완성되었습니다. 최소 비용 신장 트리인 MST는 다음과 같습니다:\n",
    "(A-B, 1), (B-D, 1), (D-C, 3), (C-E, 1), (E-F, 7), (F-G, 4), (G-H, 6)"
   ]
  },
  {
   "attachments": {},
   "cell_type": "markdown",
   "metadata": {},
   "source": [
    "### 11.7 가중치 그래프의 정점의 수를 𝑛, 간선의 수를 𝑒라 하자. Kruskal과 Prim의 최소비용 신장 트리의 시간 복잡도를 쓰시오."
   ]
  },
  {
   "attachments": {},
   "cell_type": "markdown",
   "metadata": {},
   "source": [
    "\n",
    "Kruskal의 알고리즘의 시간 복잡도:\n",
    "\n",
    "간선의 수가 𝑒일 때, 간선을 정렬하는데 소요되는 시간 복잡도: O(𝑒log𝑒)\n",
    "Union-Find 자료구조를 사용하여 사이클 검사 및 간선 추가하는데 소요되는 시간 복잡도: O(𝑒α(𝑛))\n",
    "(α(𝑛)은 역 Ackermann 함수로, 상수에 근사한 값)\n",
    "총 시간 복잡도: O(𝑒log𝑒 + 𝑒α(𝑛))\n",
    "Prim의 알고리즘의 시간 복잡도:\n",
    "\n",
    "정점의 수가 𝑛일 때, 우선순위 큐를 사용하여 간선을 선택하는데 소요되는 시간 복잡도: O(𝑛log𝑛)\n",
    "정점을 방문하고 연결된 간선을 업데이트하는데 소요되는 시간 복잡도: O(𝑒)\n",
    "총 시간 복잡도: O(𝑛log𝑛 + 𝑒)\n",
    "따라서 Kruskal과 Prim의 최소비용 신장 트리 알고리즘은 각각 O(𝑒log𝑒 + 𝑒α(𝑛))와 O(𝑛log𝑛 + 𝑒)의 시간 복잡도를 가집니다."
   ]
  },
  {
   "attachments": {},
   "cell_type": "markdown",
   "metadata": {},
   "source": [
    "### 10.10  다음 그래프에서 정점 S부터 E까지의 최단 거리를 계산해보자. Dijkstra  알고리즘을 사용한다. 각 단계에서 dist 배열의 내용을 적으시오. "
   ]
  },
  {
   "attachments": {},
   "cell_type": "markdown",
   "metadata": {},
   "source": [
    "\n",
    "다익스트라(Dijkstra) 알고리즘을 사용하여 S부터 E까지의 최단 거리를 계산해보겠습니다. 각 단계에서의 dist 배열의 내용을 적겠습니다.\n",
    "\n",
    "1단계:\n",
    "S: 0\n",
    "A: 무한대\n",
    "B: 무한대\n",
    "C: 무한대\n",
    "D: 무한대\n",
    "E: 무한대\n",
    "\n",
    "2단계:\n",
    "S: 0\n",
    "A: 14\n",
    "B: 7\n",
    "C: 9\n",
    "D: 무한대\n",
    "E: 무한대\n",
    "\n",
    "3단계:\n",
    "S: 0\n",
    "A: 14\n",
    "B: 7\n",
    "C: 9\n",
    "D: 20\n",
    "E: 무한대\n",
    "\n",
    "4단계:\n",
    "S: 0\n",
    "A: 14\n",
    "B: 7\n",
    "C: 9\n",
    "D: 20\n",
    "E: 26\n",
    "\n",
    "최종 결과:\n",
    "S부터 E까지의 최단 거리는 26입니다."
   ]
  },
  {
   "attachments": {},
   "cell_type": "markdown",
   "metadata": {},
   "source": [
    "## 실습문제"
   ]
  },
  {
   "attachments": {},
   "cell_type": "markdown",
   "metadata": {},
   "source": [
    "### P11.3 11.3절의 Kruskal의 최소비용 신장 트리 코드에서는 가중치가 가장 작은 간선을 뽑기 위해 간선을 가중치의 오름차순으로 정렬하였다. 이 코드를 힙을 사용하는 방법으로 수정하라. 힙을 사용한다면 가중치가 작은 간선을 뽑아야 하기 때문에 최소 힙을 사용해야 한다. 파이썬의 heapq 모듈을 사용해도 됨"
   ]
  },
  {
   "cell_type": "code",
   "execution_count": 5,
   "metadata": {},
   "outputs": [
    {
     "name": "stdout",
     "output_type": "stream",
     "text": [
      "간선 추가: (A, B, 1)\n",
      "간선 추가: (C, D, 2)\n",
      "간선 추가: (A, C, 3)\n",
      "간선 추가: (D, E, 6)\n"
     ]
    }
   ],
   "source": [
    "vertex = ['A', 'B', 'C', 'D', 'E']\n",
    "adj = [\n",
    "    [None, 1, 3, None, 9],\n",
    "    [1, None, 4, 5, None],\n",
    "    [3, 4, None, 2, 7],\n",
    "    [None, 5, 2, None, 6],\n",
    "    [9, None, 7, 6, None]\n",
    "]\n",
    "\n",
    "import heapq\n",
    "\n",
    "parent = []\n",
    "set_size = 0\n",
    "\n",
    "def init_set(nSets):\n",
    "    global set_size, parent\n",
    "    set_size = nSets\n",
    "    for i in range(nSets):\n",
    "        parent.append(-1)\n",
    "\n",
    "def find(id):\n",
    "    while parent[id] >= 0:\n",
    "        id = parent[id]\n",
    "    return id\n",
    "\n",
    "def union(s1, s2):\n",
    "    global set_size\n",
    "    parent[s1] = s2\n",
    "    set_size -= 1\n",
    "\n",
    "def MSTKruskal(vertex, adj):\n",
    "    vsize = len(vertex)\n",
    "    init_set(vsize)\n",
    "    eList = []\n",
    "\n",
    "    for i in range(vsize - 1):\n",
    "        for j in range(i + 1, vsize):\n",
    "            if adj[i][j] is not None:\n",
    "                heapq.heappush(eList, (adj[i][j], i, j))\n",
    "\n",
    "    edgeAccepted = 0\n",
    "    while edgeAccepted < vsize - 1:\n",
    "        e = heapq.heappop(eList)\n",
    "        uset = find(e[1])\n",
    "        vset = find(e[2])\n",
    "\n",
    "        if uset != vset:\n",
    "            print(\"간선 추가: (%s, %s, %d)\" % (vertex[e[1]], vertex[e[2]], e[0]))\n",
    "            union(uset, vset)\n",
    "            edgeAccepted += 1\n",
    "\n",
    "# 실험 코드\n",
    "MSTKruskal(vertex, adj)"
   ]
  }
 ],
 "metadata": {
  "kernelspec": {
   "display_name": "Python 3",
   "language": "python",
   "name": "python3"
  },
  "language_info": {
   "codemirror_mode": {
    "name": "ipython",
    "version": 3
   },
   "file_extension": ".py",
   "mimetype": "text/x-python",
   "name": "python",
   "nbconvert_exporter": "python",
   "pygments_lexer": "ipython3",
   "version": "3.11.3"
  },
  "orig_nbformat": 4
 },
 "nbformat": 4,
 "nbformat_minor": 2
}
