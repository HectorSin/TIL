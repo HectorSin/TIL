{
 "cells": [
  {
   "cell_type": "markdown",
   "metadata": {},
   "source": [
    "# 3장 연습문제"
   ]
  },
  {
   "cell_type": "markdown",
   "metadata": {},
   "source": [
    "#### 3.1\n",
    "공통점: ,로 구분해서 여러 자료형을 요소로 가질수 있는 객체 모음, 여러 항목을 담을 수 있는 컨테이너, 인덱싱&슬라이싱 가능\n",
    "차이점: 항목의 순서가 있음(리스트), 항목의 순서가 없음(집합), 리스트 중복 포함, 집합 중복 없음"
   ]
  },
  {
   "cell_type": "markdown",
   "metadata": {},
   "source": [
    "#### 3.2\n",
    "[30, 20, 40, 50]"
   ]
  },
  {
   "cell_type": "markdown",
   "metadata": {},
   "source": [
    "#### 3.3\n",
    "[30, 60, 50]"
   ]
  },
  {
   "cell_type": "markdown",
   "metadata": {},
   "source": [
    "#### 3.4\n",
    "리스트가 동적 배열로 구현된 경우 삽입시에 리스트의 크기가 부족하면 새로운 배열을 할당하고 기존항목을 복사해야 하기 때문"
   ]
  },
  {
   "cell_type": "markdown",
   "metadata": {},
   "source": [
    "#### [3.9] 부분집합을 검사하는 메소드를 3.6절의 Set 클래스에 추가하라"
   ]
  },
  {
   "cell_type": "code",
   "execution_count": 1,
   "metadata": {},
   "outputs": [],
   "source": [
    "class Set:\n",
    "    def __init__(self, ls = []):\n",
    "        self.items = ls\n",
    "\n",
    "    def size(self):\n",
    "        return len(self.items)\n",
    "    \n",
    "    def display(self, msg):\n",
    "        print(msg, self.items)\n",
    "\n",
    "    def contains(self, item):\n",
    "        return item in self.items\n",
    "\n",
    "    def insert(self, elem):\n",
    "        if elem not in self.items:\n",
    "            self.items.append(elem)\n",
    "\n",
    "    def delete(self, elem):\n",
    "        if elem in self.items:\n",
    "            self.items.remove(elem)\n",
    "\n",
    "    def union(self, setB):\n",
    "        setC = Set()\n",
    "        setC.items = list(self.items)\n",
    "        for elem in setB.items:\n",
    "            if elem in setB.items:\n",
    "                if elem not in self.items:\n",
    "                    setC.items.append(elem)\n",
    "        return setC\n",
    "\n",
    "    def intersect(self, setB):\n",
    "        setC = Set()\n",
    "        for elem in setB.items:\n",
    "            if elem in self.items:\n",
    "                setC.items.append(elem)\n",
    "        return setC\n",
    "\n",
    "    def difference(self, setB):\n",
    "        setC = Set()\n",
    "        for elem in self.items:\n",
    "            if elem not in setB.items:\n",
    "                setC.items.append(elem)\n",
    "        return setC\n",
    "\n",
    "    # 진 부분집합 검사 메소드\n",
    "    def partial_check(self, setB):\n",
    "        if len(self.items) >= len(setB.items):\n",
    "            return False\n",
    "        return all(element in setB.items for element in self.items)"
   ]
  },
  {
   "cell_type": "markdown",
   "metadata": {},
   "source": [
    "#### [P3.3] 3.6절의 구현에서 다음 연산들을 구현하라"
   ]
  },
  {
   "cell_type": "code",
   "execution_count": 11,
   "metadata": {},
   "outputs": [],
   "source": [
    "# 3.3절 배열로 구현한 리스트\n",
    "class ArrayList:\n",
    "    def __init__(self):\n",
    "        self.items = []\n",
    "    def delete(self,pos):\n",
    "        return self.items.pop(pos)\n",
    "    def isEmpty(self):\n",
    "        return self.size() == 0\n",
    "    def getEntry(self, pos):\n",
    "        return self.items[pos]\n",
    "    def size(self):\n",
    "        return len(self.items)\n",
    "    def clear(self):\n",
    "        self.items=[]\n",
    "    def find(self, item):\n",
    "        return self.items.index(item)\n",
    "    def replace(self, pos, elem):\n",
    "        self.items[pos] = elem\n",
    "    def sort(self):\n",
    "        self.items.sort()\n",
    "    def merge(self, lst):\n",
    "        self.items.extend(lst)\n",
    "    def display(self, msg='ArrayList:'):\n",
    "        print(msg, '항목수=', self.size(), self.items)\n",
    "    # insert() 연산\n",
    "    def insert(self, item, pos):\n",
    "        if pos == len(self.items):\n",
    "            self.items.append(item)\n",
    "        else:\n",
    "            itemB = self.items[pos:]\n",
    "            self.items = self.items[:pos]\n",
    "            self.items.append(item)\n",
    "            for item in itemB:\n",
    "                self.items.append(item)\n",
    "        return self.items\n",
    "    # delete() 연산\n",
    "    def delete(self, pos):\n",
    "        if pos == len(self.items):\n",
    "            self.items.pop(-1)\n",
    "        else:\n",
    "             itemB = self.items[pos+1:]\n",
    "             self.items = self.items[:pos+1]\n",
    "             self.items.pop(-1)\n",
    "             for item in itemB:\n",
    "                self.items.append(item)\n",
    "        return self.items\n",
    "    # find() 연산\n",
    "    def find(self, item):\n",
    "        trial = 0\n",
    "        local = []\n",
    "        for index in self.items:\n",
    "            if index == item:\n",
    "                local.append(trial)\n",
    "            else:\n",
    "                trial += 1\n",
    "        if local == []:\n",
    "            print(\"해당하는 숫자를 찾지 못했습니다.\")\n",
    "        else:\n",
    "            return local\n",
    "    # merge() 연산\n",
    "    def merge(self, items):\n",
    "        for item in items:\n",
    "            self.items.append(item)\n",
    "        return self.items"
   ]
  },
  {
   "cell_type": "code",
   "execution_count": 12,
   "metadata": {},
   "outputs": [
    {
     "name": "stdout",
     "output_type": "stream",
     "text": [
      "[3, 5, 4, 3, 5, 2, 1]\n",
      "[1, 3]\n",
      "[3, 5, 4, 3, 5, 2, 1, 3, 4, 2]\n"
     ]
    }
   ],
   "source": [
    "jip = ArrayList()\n",
    "jip.merge([3,5,3,5,2,1])\n",
    "jip.insert(4,2)\n",
    "print(jip.items)\n",
    "print(jip.find(5))\n",
    "print(jip.merge([3,4,2]))"
   ]
  },
  {
   "cell_type": "markdown",
   "metadata": {},
   "source": [
    "#### [P3.3] 3.6절의 집합의 구현에서 다음 연산들을 제시한 바와 같이 다시 구현하라"
   ]
  },
  {
   "cell_type": "code",
   "execution_count": 44,
   "metadata": {},
   "outputs": [],
   "source": [
    "# 3.6절의 코드\n",
    "class Set:\n",
    "    def __init__(self):\n",
    "        self.items = []\n",
    "    # 집합의 크기\n",
    "    def size(self):\n",
    "        return len(self.items)\n",
    "    # 화면에 출력\n",
    "    def display(self, msg):\n",
    "        print(msg, self.items)\n",
    "    # contains()\n",
    "    def contains(self, elem):\n",
    "        for item in self.items:\n",
    "            if item == elem:\n",
    "                return True\n",
    "        return False\n",
    "    # delete()\n",
    "    def delete(self, item):\n",
    "        itemB = []\n",
    "        for check in self.items:\n",
    "            if check != item:\n",
    "                itemB.append(check)\n",
    "        self.items = itemB\n",
    "        return self.items\n",
    "    # in 연산자를 사용하지 않는 메소드\n",
    "    # insert()\n",
    "    def insert(self, item):\n",
    "        if self.contains(item):\n",
    "            print(\"이미 안에 데이터가 있습니다.\")\n",
    "        else:\n",
    "            self.items.append(item)\n",
    "    # union()\n",
    "    def union(self, setB):\n",
    "        citem = []\n",
    "        for Bitem in setB:\n",
    "            if self.contains(Bitem):\n",
    "                pass\n",
    "            else:\n",
    "                citem.append(Bitem)\n",
    "        for item in citem:\n",
    "            self.items.append(item)\n",
    "        return self.items  \n",
    "    # intersect()\n",
    "    def intersect(self, setB):\n",
    "        citem = []\n",
    "        for Bitem in setB:\n",
    "            if self.contains(Bitem):\n",
    "                citem.append(Bitem)\n",
    "        return citem\n",
    "    # difference()\n",
    "    def difference(self, setB):\n",
    "        citem = []\n",
    "        for Bitem in setB:\n",
    "            if not self.contains(Bitem):\n",
    "                citem.append(Bitem)\n",
    "        return citem\n",
    "    # 연산자 중복을 이용한 difference()\n",
    "    def difference(self, setB):\n",
    "        citem = []\n",
    "        for item in self.items:\n",
    "            check = 0\n",
    "            for Bitem in setB:\n",
    "                if item == Bitem:\n",
    "                    check += 1\n",
    "            if check == 0:\n",
    "                citem.append(item)\n",
    "        return citem\n"
   ]
  },
  {
   "cell_type": "code",
   "execution_count": 45,
   "metadata": {},
   "outputs": [
    {
     "name": "stdout",
     "output_type": "stream",
     "text": [
      "[3, 5, 7]\n",
      "[5, 7]\n",
      "[5, 7, 3, 4, 2]\n",
      "[3, 5]\n",
      "[5, 7, 4]\n"
     ]
    }
   ],
   "source": [
    "dada = Set()\n",
    "dada.insert(3)\n",
    "dada.insert(5)\n",
    "dada.insert(7)\n",
    "print(dada.items)\n",
    "print(dada.delete(3))\n",
    "print(dada.union([3,5,4,2]))\n",
    "print(dada.intersect([1,3,5]))\n",
    "print(dada.difference([2,3,8,9]))"
   ]
  },
  {
   "cell_type": "markdown",
   "metadata": {},
   "source": [
    "#### [P3.4] 추상 자료형으로 정의된 다항식 클래스를 파이썬 리스트를 이용해 구현하라"
   ]
  },
  {
   "cell_type": "code",
   "execution_count": 13,
   "metadata": {},
   "outputs": [],
   "source": [
    "class Polynomial:\n",
    "    def __init__(self, coeffs):\n",
    "        self.coeffs = coeffs\n",
    "\n",
    "    def degree(self):\n",
    "        #다항식의 최고 차수를 반환\n",
    "        return len(self.coeffs) - 1\n",
    "\n",
    "    def evaluate(self, scalar):\n",
    "        #미지수에 scalar를 대입한 값을 계산\n",
    "        result = 0\n",
    "        for i in range(len(self.coeffs)):\n",
    "            result += self.coeffs[i] * (scalar ** i)\n",
    "        return result\n",
    "\n",
    "    def add(self, rhs):\n",
    "        #현재 다항식과 다항식 rhs를 더한 새로운 다항식을 만들어 반환합니다.\n",
    "        new_coeffs = [0] * max(len(self.coeffs), len(rhs.coeffs))\n",
    "        for i in range(len(new_coeffs)):\n",
    "            if i < len(self.coeffs):\n",
    "                new_coeffs[i] += self.coeffs[i]\n",
    "            if i < len(rhs.coeffs):\n",
    "                new_coeffs[i] += rhs.coeffs[i]\n",
    "        return Polynomial(new_coeffs)\n",
    "\n",
    "    def subtract(self, rhs):\n",
    "        # 현재 다항식에서 다항식 rhs를 뺀 새로운 다항식을 만들어 반환합니다.\n",
    "        new_coeffs = [0] * max(len(self.coeffs), len(rhs.coeffs))\n",
    "        for i in range(len(new_coeffs)):\n",
    "            if i < len(self.coeffs):\n",
    "                new_coeffs[i] += self.coeffs[i]\n",
    "            if i < len(rhs.coeffs):\n",
    "                new_coeffs[i] -= rhs.coeffs[i]\n",
    "        return Polynomial(new_coeffs)\n",
    "\n",
    "    def multiply(self, rhs):\n",
    "        # 현재 다항식과 다항식 rhs를 곱한 새로운 다항식을 만들어 반환합니다.\n",
    "        new_coeffs = [0] * (len(self.coeffs) + len(rhs.coeffs) - 1)\n",
    "        for i in range(len(self.coeffs)):\n",
    "            for j in range(len(rhs.coeffs)):\n",
    "                new_coeffs[i + j] += self.coeffs[i] * rhs.coeffs[j]\n",
    "        return Polynomial(new_coeffs)\n",
    "\n",
    "    def display(self, sen):\n",
    "        # 현재 다항식을 화면에 출력합니다.\n",
    "        s = \"\"\n",
    "        for i in range(len(self.coeffs)):\n",
    "            if self.coeffs[i] == 0:\n",
    "                continue\n",
    "            if i == 0:\n",
    "                s += str(self.coeffs[i])\n",
    "            elif i == 1:\n",
    "                s += \" + \" + str(self.coeffs[i]) + \"x\"\n",
    "            else:\n",
    "                s += \" + \" + str(self.coeffs[i]) + \"x^\" + str(i)\n",
    "        print(sen + str(s))"
   ]
  },
  {
   "cell_type": "code",
   "execution_count": 16,
   "metadata": {},
   "outputs": [
    {
     "name": "stdout",
     "output_type": "stream",
     "text": [
      "A(x) = 12 + -3x + 5x^2\n",
      "B(x) = -4 + -6x^2 + 2x^3\n",
      "C(x) = 8 + -3x + -1x^2 + 2x^3\n",
      "C(2) =  14\n"
     ]
    }
   ],
   "source": [
    "a = Polynomial([12,-3,5])\n",
    "b = Polynomial([-4,0,-6,2])\n",
    "c = a.add(b)\n",
    "a.display(\"A(x) = \")\n",
    "b.display(\"B(x) = \")\n",
    "c.display(\"C(x) = \")\n",
    "print(\"C(2) = \", c.evaluate(2))"
   ]
  }
 ],
 "metadata": {
  "kernelspec": {
   "display_name": "Python 3",
   "language": "python",
   "name": "python3"
  },
  "language_info": {
   "codemirror_mode": {
    "name": "ipython",
    "version": 3
   },
   "file_extension": ".py",
   "mimetype": "text/x-python",
   "name": "python",
   "nbconvert_exporter": "python",
   "pygments_lexer": "ipython3",
   "version": "3.10.9"
  }
 },
 "nbformat": 4,
 "nbformat_minor": 2
}
