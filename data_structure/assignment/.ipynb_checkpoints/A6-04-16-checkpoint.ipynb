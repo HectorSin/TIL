{
 "cells": [
  {
   "cell_type": "markdown",
   "metadata": {},
   "source": [
    "# 자료구조 6장"
   ]
  },
  {
   "cell_type": "markdown",
   "metadata": {},
   "source": [
    "#### 6.2 \n",
    "단순연결리스트로 구현한 연결된 스택(6.2절)에서 size() 연산의 시간 복잡도가 O(n)이다. 이를 O(1)\n",
    "으로 개선하기 위해 항목의 수를 관리하는 변수를 사용할 수 있다. 이를 위해 추가하거나 수정해야 하\n",
    "는 데이터 멤버와 메소드들을 자세히 설명하라.\n",
    "\n",
    "```\n",
    "def size(self):\n",
    "    node = self.top\n",
    "    count = 0\n",
    "    while not node == None:\n",
    "        node = node.link\n",
    "        count += 1\n",
    "    return count\n",
    "```"
   ]
  },
  {
   "cell_type": "markdown",
   "metadata": {},
   "source": [
    "> 스택에 새로운 항목이 삽입될 때마다 항목의 수를 관리하는 변수를 업데이트 해주어야 합니다. size 멤버 변수를 추가해고, push()메소드에서는 새로운 항속이 스택에 추가될때마다 size 변수를 1 증가시키게 pop()메소드에서는 1감소시키게 함으로써 size()메소드를 호출할때마다 모두 순환할 필요없이 O(1)의 시간 복잡도로 반환 가능해짐"
   ]
  },
  {
   "cell_type": "markdown",
   "metadata": {},
   "source": [
    "#### 6.3\n",
    "다음과 같은 연결 리스트에 아래와 같은 코드를 실행한다고 하자. 실행이 끝난 후에 포인터 p가 가\n",
    "리키는 노드는 어떤 노드인가? (코드에서 -> 대신 ., p->link 가 아니라 p.link)\n",
    "\n",
    "```\n",
    "p = list\n",
    "while p->link != None:\n",
    "    p = p -> link\n",
    "```"
   ]
  },
  {
   "cell_type": "markdown",
   "metadata": {
    "vscode": {
     "languageId": "plaintext"
    }
   },
   "source": [
    "> D에 연결"
   ]
  },
  {
   "cell_type": "markdown",
   "metadata": {},
   "source": [
    "#### 6.4\n",
    "앞 문제와 같은 연결 리스트에서 모든 노드의 데이터 필드를 순서대로 화면에 출력하기 위한 다\n",
    "음 코드의 빈 곳을 완성하라. (코드에서 -> 대신 ., p->link 가 아니라 p.link)\n",
    "\n",
    "```\n",
    "p = list\n",
    "while p->link != None:\n",
    "    ***\n",
    "    p = p->link\n",
    "```"
   ]
  },
  {
   "cell_type": "markdown",
   "metadata": {},
   "source": [
    "빈 곳 (***)\n",
    "```\n",
    "print(p.data)\n",
    "p = p.link\n",
    "```"
   ]
  },
  {
   "cell_type": "markdown",
   "metadata": {},
   "source": [
    "#### 6.5\n",
    "앞 문제와 같은 연결 리스트에서 모든 노드의 데이터 필드를 역순으로 화면에 출력할 수 있는 코\n",
    "드를 작성하라. 순환 함수를 이용할 수 있다."
   ]
  },
  {
   "cell_type": "markdown",
   "metadata": {},
   "source": [
    "```\n",
    "def reverse(p):\n",
    "    if p == None:\n",
    "        return\n",
    "    reverse(p.link)\n",
    "    print(p.data)\n",
    "```"
   ]
  },
  {
   "cell_type": "markdown",
   "metadata": {},
   "source": [
    "#### 6.6\n",
    "연결 리스트(linked list)의 “preNode”노드와 그 다음 노드 사이에 새로운 “newNode”노드를 삽입하\n",
    "려고 한다. 빈 칸에 들어갈 문장으로 옳은 것은? (코드에서 -> 대신 ., p->link 가 아니라 p.link)"
   ]
  },
  {
   "cell_type": "markdown",
   "metadata": {},
   "source": [
    "> 2) newNode.link = preNode.link"
   ]
  },
  {
   "cell_type": "markdown",
   "metadata": {},
   "source": [
    "#### 6.7\n",
    "다음은 연결 리스트를 이용하여 스택을 표현한 것이다. 이에 대한 설명으로 옳지 않은 것\n",
    "은?(단, push는 스택에 자료를 삽입하는 연산이고, pop은 스택에서 자료를 삭제하는 연산이다)"
   ]
  },
  {
   "cell_type": "markdown",
   "metadata": {},
   "source": [
    "> 3) (b)에서 자료 C를 가져오려면 pop 연산이 2회(3회) 필요하다."
   ]
  },
  {
   "cell_type": "markdown",
   "metadata": {},
   "source": [
    "#### 6.8\n",
    "덱은 삽입과 삭제가 양 끝에서 임의로 수행되는 자료구조이다. 다음 그림과 같이 단순 연결리스\n",
    "트로 덱을 구현한다고 할 때 O(1) 시간 내에 수행할 수 없는 연산은? (단, first와 last는 각각 덱의 첫\n",
    "번째 원소와 마지막 원소를 가리키며, 연산이 수행된 후에도 덱의 원형이 유지되어야 한다.)"
   ]
  },
  {
   "cell_type": "markdown",
   "metadata": {},
   "source": [
    "> 4) deleteLast 연산: 덱의 마지막 원소를 삭제"
   ]
  },
  {
   "cell_type": "markdown",
   "metadata": {},
   "source": [
    "#### 6.11\n",
    "연결된 큐를 원형연결리스트로 구현할 때 큐 클래스의 데이터 멤버로 head가 아니라 tail을\n",
    "사용하는 이유를 설명하라"
   ]
  },
  {
   "cell_type": "markdown",
   "metadata": {},
   "source": [
    "front와 rear로 가기에 더 효율적 -> O(1)만에 찾음\n",
    "head로하면 tail을 찾기위해 O(n)이 걸림"
   ]
  },
  {
   "cell_type": "markdown",
   "metadata": {},
   "source": [
    "## 실습문제\n",
    "#### P6.2\n",
    "6.3절의 연결된 리스트 클래스에 merge() 연산을 구현하라.\n",
    "\n",
    "– 연결리스트 A와 B가 있을 때, A.merge(B)는 연결리스트 A의 맨 뒤에 B\n",
    "를 추가하는 연산이다.\n",
    "\n",
    "– 연산 결과 A의 길이는 늘어나고, B의 길이는 0이 되도록 하라. "
   ]
  },
  {
   "cell_type": "code",
   "execution_count": 3,
   "metadata": {},
   "outputs": [],
   "source": [
    "class Node:\n",
    "    def __init__(self, elem, link=None):\n",
    "        self.data = elem\n",
    "        self.link = link\n",
    "\n",
    "class LinkedList:\n",
    "    def __init__(self):\n",
    "        self.head = None\n",
    "\n",
    "    def is_empty(self):\n",
    "        return self.head == None\n",
    "\n",
    "    def append(self, item):\n",
    "        new_node = Node(item)\n",
    "        # 연결 리스트가 비어있는 경우\n",
    "        if self.is_empty():\n",
    "            # head 노드로 새로운 노드를 지정\n",
    "            self.head = new_node\n",
    "        else:\n",
    "            node = self.head\n",
    "            while node.link:\n",
    "                node = node.link\n",
    "            # 마지막 노드의 link를 새로운 노드로 지정\n",
    "            node.link = new_node\n",
    "\n",
    "    def merge(self, other):\n",
    "        # other 연결 리스트가 비어있는 경우\n",
    "        if other.is_empty():\n",
    "            return\n",
    "        # self 연결 리스트가 비어있는 경우\n",
    "        elif self.is_empty():\n",
    "            # other의 head를 self의 head로 지정\n",
    "            self.head = other.head\n",
    "        else:\n",
    "            node = self.head\n",
    "            while node.link:\n",
    "                node = node.link\n",
    "            # self 연결 리스트의 마지막 노드와 other 연결 리스트의 head 노드를 연결\n",
    "            node.link = other.head\n",
    "        # other 연결 리스트의 head를 None으로 변경하여 길이가 0이 되도록 함\n",
    "        other.head = None"
   ]
  },
  {
   "cell_type": "code",
   "execution_count": 4,
   "metadata": {},
   "outputs": [
    {
     "name": "stdout",
     "output_type": "stream",
     "text": [
      "1 2 3 4 5 "
     ]
    }
   ],
   "source": [
    "a = LinkedList()\n",
    "a.append(1)\n",
    "a.append(2)\n",
    "a.append(3)\n",
    "\n",
    "b = LinkedList()\n",
    "b.append(4)\n",
    "b.append(5)\n",
    "\n",
    "a.merge(b)\n",
    "\n",
    "# a 리스트 출력\n",
    "node = a.head\n",
    "while node:\n",
    "    print(node.data, end=' ')\n",
    "    node = node.link\n",
    "# 출력 결과: 1 2 3 4 5\n",
    "\n",
    "# b 리스트 출력\n",
    "node = b.head\n",
    "while node:\n",
    "    print(node.data, end=' ')\n",
    "    node = node.link\n",
    "# 출력 결과: (아무 것도 출력되지 않음)\n"
   ]
  },
  {
   "cell_type": "markdown",
   "metadata": {},
   "source": [
    "#### P 6.3\n",
    "다음 그림과 같이 단순연결리스트를 이용한 연결된 큐 클래스\n",
    "를 구현하라.\n",
    "– 데이터 멤버로는 전단을 가리키는 front와 후단을 가리키는 rear를 사용\n",
    "– 삽입은 후단을 통해, 삭제는 전단을 통해 이루어짐"
   ]
  },
  {
   "cell_type": "code",
   "execution_count": 5,
   "metadata": {},
   "outputs": [],
   "source": [
    "class Node:\n",
    "    def __init__(self, item, link=None):\n",
    "        self.item = item  # 노드의 데이터\n",
    "        self.link = link  # 다음 노드를 가리키는 링크\n",
    "\n",
    "class LinkedQueue:\n",
    "    def __init__(self):\n",
    "        self.front = None  # 큐의 전단\n",
    "        self.rear = None  # 큐의 후단\n",
    "\n",
    "    def is_empty(self):\n",
    "        return self.front == None\n",
    "\n",
    "    def enqueue(self, item):\n",
    "        new_node = Node(item)  # 새로운 노드 생성\n",
    "        if self.is_empty():  # 큐가 비어있는 경우\n",
    "            self.front = new_node  # front와 rear를 새로운 노드로 지정\n",
    "        else:\n",
    "            self.rear.link = new_node  # rear 노드의 link를 새로운 노드로 지정\n",
    "        self.rear = new_node  # rear를 새로운 노드로 지정\n",
    "\n",
    "    def dequeue(self):\n",
    "        if self.is_empty():  # 큐가 비어있는 경우\n",
    "            raise Exception(\"Queue is empty\")  # 예외 발생\n",
    "        item = self.front.item  # front 노드의 item 값을 저장\n",
    "        self.front = self.front.link  # front를 다음 노드로 변경\n",
    "        if self.is_empty():  # 큐가 비어있는 경우\n",
    "            self.rear = None  # rear도 None으로 변경\n",
    "        return item  # 삭제된 item 값 반환\n"
   ]
  },
  {
   "cell_type": "code",
   "execution_count": 6,
   "metadata": {},
   "outputs": [
    {
     "name": "stdout",
     "output_type": "stream",
     "text": [
      "1\n",
      "2\n",
      "3\n",
      "4\n",
      "5\n"
     ]
    }
   ],
   "source": [
    "queue = LinkedQueue()  # 연결된 큐 객체 생성\n",
    "\n",
    "queue.enqueue(1)  # 큐에 1 추가\n",
    "queue.enqueue(2)  # 큐에 2 추가\n",
    "queue.enqueue(3)  # 큐에 3 추가\n",
    "\n",
    "print(queue.dequeue())  # 큐에서 가장 앞쪽에 있는 항목(1)을 삭제하고 출력\n",
    "print(queue.dequeue())  # 큐에서 가장 앞쪽에 있는 항목(2)을 삭제하고 출력\n",
    "print(queue.dequeue())  # 큐에서 가장 앞쪽에 있는 항목(3)을 삭제하고 출력\n",
    "\n",
    "queue.enqueue(4)  # 큐에 4 추가\n",
    "queue.enqueue(5)  # 큐에 5 추가\n",
    "\n",
    "print(queue.dequeue())  # 큐에서 가장 앞쪽에 있는 항목(4)을 삭제하고 출력\n",
    "print(queue.dequeue())  # 큐에서 가장 앞쪽에 있는 항목(5)을 삭제하고 출력\n"
   ]
  }
 ],
 "metadata": {
  "kernelspec": {
   "display_name": "Python 3",
   "language": "python",
   "name": "python3"
  },
  "language_info": {
   "codemirror_mode": {
    "name": "ipython",
    "version": 3
   },
   "file_extension": ".py",
   "mimetype": "text/x-python",
   "name": "python",
   "nbconvert_exporter": "python",
   "pygments_lexer": "ipython3",
   "version": "3.10.9"
  }
 },
 "nbformat": 4,
 "nbformat_minor": 2
}
