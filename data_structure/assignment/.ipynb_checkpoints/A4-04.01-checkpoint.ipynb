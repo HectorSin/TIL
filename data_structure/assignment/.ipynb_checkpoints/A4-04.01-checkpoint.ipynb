{
 "cells": [
  {
   "cell_type": "markdown",
   "metadata": {},
   "source": [
    "# 자료구조 과제"
   ]
  },
  {
   "cell_type": "markdown",
   "metadata": {},
   "source": [
    "### 연습문제"
   ]
  },
  {
   "cell_type": "markdown",
   "metadata": {},
   "source": [
    "#### 4.3\n",
    "> 1,2,4\n",
    "\n",
    "#### 4.6\n",
    "> (3) A, B, D, C\n",
    "\n",
    "#### 4.10\n",
    "> 18개 항목\n",
    "\n",
    "#### 4.13\n",
    "> 1) [0,3,6,9]\n",
    "> 2) [0,9,12,18]\n",
    "\n",
    "#### 4.14\n",
    "> []\n",
    "\n",
    "> ['{']\n",
    "\n",
    "> ['{', '['] \n",
    "\n",
    "> ['{', '[', '(']\n",
    "\n",
    "> ['{', '[', '*']\n",
    "\n",
    "> ['{'], []\n",
    "\n",
    "#### 4.18\n",
    "1. 첫 번째로 수행되는 연산은 E + B입니다.\n",
    "2. 두 번째로 수행되는 연산은 D * (E + B)입니다.\n",
    "3. 세 번째로 수행되는 연산은 A - (D * (E + B))입니다."
   ]
  },
  {
   "cell_type": "markdown",
   "metadata": {},
   "source": [
    "### 실습문제"
   ]
  },
  {
   "cell_type": "markdown",
   "metadata": {},
   "source": [
    "#### P4.1 사용자로부터 문자열을 읽고 이것을 역순으로 출력하는 프로그램을 작성하라."
   ]
  },
  {
   "cell_type": "code",
   "execution_count": 5,
   "metadata": {},
   "outputs": [
    {
     "name": "stdout",
     "output_type": "stream",
     "text": [
      "입력받은 문자: everyday\n",
      "역순으로 출력: yadyreve\n"
     ]
    }
   ],
   "source": [
    "class Stack:\n",
    "    def __init__(self):\n",
    "        self.items = []\n",
    "\n",
    "    def is_empty(self):\n",
    "        # self.items 리스트가 비어있으면 `True`를, 그렇지 않으면 `False`를 반환 (bool함수로 비어있는지 여부 확인 - 비어있으면 'False' 반환)\n",
    "        return not bool(self.items)\n",
    "\n",
    "    def push(self, item):\n",
    "        # 입력받은 item 합치기\n",
    "        self.items.append(item)\n",
    "\n",
    "    def pop(self):\n",
    "        # 마지막 item 빼서 반환\n",
    "        return self.items.pop()\n",
    "\n",
    "def reverse_string(string):\n",
    "    stack = Stack()\n",
    "    # 생성한 stack안에 입력받은 문자 하나씩 넣기\n",
    "    for char in string:\n",
    "        stack.push(char)\n",
    "    reversed_string = \"\"\n",
    "    # stack안에 모든 요소를 빼서 reversed_sting에 넣기(이 과정에서 순서가 반대로 된다)\n",
    "    while not stack.is_empty():\n",
    "        reversed_string += stack.pop()\n",
    "    return reversed_string\n",
    "\n",
    "string = input(\"문자열을 입력하세요: \")\n",
    "reversed_string = reverse_string(string)\n",
    "print(\"입력받은 문자: {}\".format(string))\n",
    "print(\"역순으로 출력: {}\".format(reversed_string))"
   ]
  },
  {
   "cell_type": "markdown",
   "metadata": {},
   "source": [
    "#### 회문(palindrome)이란 앞뒤 어느 쪽에서 읽어도 같은 말,구,문 등을 의미한다. 예로 “eye”, “madam”, “I’m Adam”, “race car”등이다. 여기서 물론 구두점이나 스페이스, 대소문자 등은 무시하여야 한다. 스택을 이용하여 주어진 문자열이 회문인지 아닌지를 결정하는 프로그램을 스택을 이용해 작성하라."
   ]
  },
  {
   "cell_type": "code",
   "execution_count": 6,
   "metadata": {},
   "outputs": [
    {
     "name": "stdout",
     "output_type": "stream",
     "text": [
      "gayyag는 회문입니다.\n"
     ]
    }
   ],
   "source": [
    "# 위에 구현한 스택 다시 사용\n",
    "class Stack:\n",
    "    def __init__(self):\n",
    "        self.items = []\n",
    "\n",
    "    def is_empty(self):\n",
    "        return not bool(self.items)\n",
    "\n",
    "    def push(self, item):\n",
    "        self.items.append(item)\n",
    "\n",
    "    def pop(self):\n",
    "        return self.items.pop()\n",
    "\n",
    "# 회문 체크하는 클래스 생성\n",
    "def is_palindrome(string):\n",
    "    stack = Stack()\n",
    "    for char in string:\n",
    "        if char.isalpha():\n",
    "            # 입력받은 문자를 소문자로 변형시켜 스택에 입력\n",
    "            stack.push(char.lower())\n",
    "    for char in string:\n",
    "        if char.isalpha():\n",
    "            # 이전에 입력한 스택에서 하나씩 요소를 꺼내면서(역순) 기존 문자와 같은지 확인 - 이 과정에서 회문이 아닌 문자들은 'False'반환\n",
    "            if stack.pop() != char.lower():\n",
    "                return False\n",
    "    return True\n",
    "\n",
    "string = input(\"문자열을 입력하세요: \")\n",
    "if is_palindrome(string):\n",
    "    print(\"{}는 회문입니다.\".format(string))\n",
    "else:\n",
    "    print(\"{}는 회문이 아닙니다.\".format(string))"
   ]
  }
 ],
 "metadata": {
  "kernelspec": {
   "display_name": "Python 3",
   "language": "python",
   "name": "python3"
  },
  "language_info": {
   "codemirror_mode": {
    "name": "ipython",
    "version": 3
   },
   "file_extension": ".py",
   "mimetype": "text/x-python",
   "name": "python",
   "nbconvert_exporter": "python",
   "pygments_lexer": "ipython3",
   "version": "3.10.9"
  }
 },
 "nbformat": 4,
 "nbformat_minor": 2
}
