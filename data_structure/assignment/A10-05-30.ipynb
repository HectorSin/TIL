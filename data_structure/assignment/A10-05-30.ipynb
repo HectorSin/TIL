{
 "cells": [
  {
   "attachments": {},
   "cell_type": "markdown",
   "metadata": {},
   "source": [
    "# 자료구조 9장"
   ]
  },
  {
   "attachments": {},
   "cell_type": "markdown",
   "metadata": {},
   "source": [
    "## 연습문제"
   ]
  },
  {
   "attachments": {},
   "cell_type": "markdown",
   "metadata": {},
   "source": [
    "### 9.2 다음의 트리는 이진탐색트리이다. 이 트리가 이진탐색트리가 되는지 이유를 설명하라."
   ]
  },
  {
   "attachments": {},
   "cell_type": "markdown",
   "metadata": {},
   "source": [
    "1. 노드 8은 왼쪽 서브트리의 값보다 크고 오른쪽 서브트리의 값보다 작습니다.\n",
    "2. 왼쪽 서브트리의 값은 3이고, 왼쪽 자식 노드의 값은 1이며, 오른쪽 자식 노드의 값은 5입니다.\n",
    "3. 오른쪽 서브트리의 값은 9이고, 왼쪽 자식 노드의 값은 없으며, 오른쪽 자식 노드의 값은 12입니다.\n",
    "4. 5의 왼쪽 자식 노드는 4이며, 오른쪽 자식 노드는 없습니다.\n",
    "5. 12의 왼쪽 자식 노드는 11이며, 오른쪽 자식 노드는 없습니다.\n",
    "\n",
    "이진 탐색 트리 조건을 만족하기 때문에 주어진 트리는 이진 탐색 트리입니다. 모든 노드에서 왼쪽 서브트리의 값은 해당 노드의 값보다 작고, 오른쪽 서브트리의 값은 해당 노드의 값보다 큽니다. 이러한 특성으로 인해 이진 탐색 트리의 탐색, 삽입, 삭제 등의 연산을 효율적으로 수행할 수 있습니다."
   ]
  },
  {
   "attachments": {},
   "cell_type": "markdown",
   "metadata": {},
   "source": [
    "### 9.3 위 문제의 이진탐색트리에 7을 추가한 트리를 그림으로 표현하라."
   ]
  },
  {
   "cell_type": "code",
   "execution_count": null,
   "metadata": {},
   "outputs": [],
   "source": [
    "      8\n",
    "    /   \\\n",
    "   3     9\n",
    "  / \\     \\\n",
    " 1   5    12\n",
    "    /    /\n",
    "   4    11\n",
    "        /\n",
    "       7"
   ]
  },
  {
   "attachments": {},
   "cell_type": "markdown",
   "metadata": {},
   "source": [
    "### 9.4 문제 9.2의 이진탐색트리에서 4를 탐색할 때 거치는 노드를 순서대로 나열하라. "
   ]
  },
  {
   "attachments": {},
   "cell_type": "markdown",
   "metadata": {},
   "source": [
    "8 -> 3 -> 5 -> 4"
   ]
  },
  {
   "attachments": {},
   "cell_type": "markdown",
   "metadata": {},
   "source": [
    "### 9.5 문제 9.2의 이진탐색트리에서 노드 9를 삭제한 후 재구성된 트리를 그림으로 표현하라. "
   ]
  },
  {
   "cell_type": "code",
   "execution_count": null,
   "metadata": {},
   "outputs": [],
   "source": [
    "     8\n",
    "   /   \\\n",
    "  3     11\n",
    " / \\      \\\n",
    "1   5     12\n",
    "   /\n",
    "  4"
   ]
  },
  {
   "attachments": {},
   "cell_type": "markdown",
   "metadata": {},
   "source": [
    "### 9.6 문제 9.2의 이진탐색트리에서 노드 8을 삭제한 후 재구성된 트리를 그림으로 표현하라."
   ]
  },
  {
   "cell_type": "code",
   "execution_count": null,
   "metadata": {},
   "outputs": [],
   "source": [
    "     9\n",
    "    / \\\n",
    "   3   12\n",
    "  /   /  \\\n",
    " 1   11  13\n",
    "      /\n",
    "     10"
   ]
  },
  {
   "attachments": {},
   "cell_type": "markdown",
   "metadata": {},
   "source": [
    "### 9.12 배열에 정렬된 값이 들어 있는 경우에 이진탐색이라는 효과적인 탐색기법을 사용할 수 있다. 이진탐색을 이용한 탐색과 이진탐색트리를 이용한 탐색의 장단점을 설명하라. "
   ]
  },
  {
   "attachments": {},
   "cell_type": "markdown",
   "metadata": {},
   "source": [
    "**이진 탐색**:\n",
    "\n",
    "장점:\n",
    "탐색 대상이 정렬된 배열에 있는 경우에만 적용 가능합니다.\n",
    "탐색 범위를 반씩 줄여나가기 때문에 평균적으로 빠른 탐색 속도를 가집니다.\n",
    "탐색 시간 복잡도는 O(log n)으로 매우 효율적입니다.\n",
    "\n",
    "단점:\n",
    "탐색 이전에 정렬된 배열을 유지해야 합니다. 새로운 값을 삽입하거나 삭제할 경우에는 배열을 재정렬해야 하므로 추가적인 비용이 발생합니다.\n",
    "삽입이나 삭제 작업이 빈번하게 일어나는 경우에는 유지보수 비용이 크게 증가할 수 있습니다.\n",
    "\n",
    "**이진 탐색 트리**:\n",
    "\n",
    "장점:\n",
    "탐색 대상이 정렬되어 있을 필요가 없습니다. 트리의 구조 자체가 정렬된 상태를 유지하기 때문에 언제든지 탐색이 가능합니다.\n",
    "탐색, 삽입, 삭제 작업 모두 평균적으로 O(log n)의 시간 복잡도를 가집니다.\n",
    "트리의 구조를 활용하여 다양한 연산을 효율적으로 수행할 수 있습니다.\n",
    "\n",
    "단점:\n",
    "탐색을 위한 트리 구조를 유지해야 하므로, 삽입이나 삭제 작업에 비용이 발생합니다.\n",
    "트리의 균형을 유지하기 위한 추가적인 작업이 필요할 수 있습니다. 트리가 불균형한 경우 탐색 성능이 저하될 수 있습니다."
   ]
  },
  {
   "attachments": {},
   "cell_type": "markdown",
   "metadata": {},
   "source": [
    "### 9.14 데이터가 어떤 순서로 입력되었을 경우에 가장 불균형한 이진탐색트리가 되는가?"
   ]
  },
  {
   "attachments": {},
   "cell_type": "markdown",
   "metadata": {},
   "source": [
    "데이터가 정렬된 순서로 입력되었을 경우에 가장 불균형한 이진 탐색 트리가 됩니다. 정렬된 순서로 데이터가 입력되면 트리의 왼쪽 또는 오른쪽으로만 계속해서 분기되어 이진 탐색 트리의 균형이 깨집니다. 이러한 경우에는 트리의 높이가 최대로 증가하고, 탐색이나 삽입, 삭제 작업의 성능이 저하될 수 있습니다."
   ]
  },
  {
   "attachments": {},
   "cell_type": "markdown",
   "metadata": {},
   "source": [
    "### 9.15 균형 이진탐색트리에서 다음 연산의 시간복잡도를 설명하라. \n",
    "1. 임의의 key 값의 노드 탐색 연산 \n",
    "2. 노드 삽입 연산\n",
    "3. 노드 삭제 연산 \n",
    "4. 트리의 최소값이나 최대값을 가진 노드 탐색 연산\n",
    "5. 트리의 노드 수 계산 \n",
    "6. 단말 노드의 수 계산\n",
    "7. 트리의 높이 계산"
   ]
  },
  {
   "attachments": {},
   "cell_type": "markdown",
   "metadata": {},
   "source": [
    "1. 임의의 key 값의 노드 탐색 연산: 균형 이진 탐색 트리의 특성을 이용하여 탐색을 수행하므로 시간 복잡도는 O(log n)입니다. 트리의 높이에 비례하는 시간이 소요됩니다.\n",
    "\n",
    "2. 노드 삽입 연산: 균형 이진 탐색 트리에서의 노드 삽입 연산은 적절한 위치를 찾아서 삽입하는 작업이므로, 탐색 연산과 동일한 시간 복잡도인 O(log n)입니다. 삽입 후에도 트리의 균형을 유지하기 위한 재조정 작업이 필요할 수 있습니다.\n",
    "\n",
    "3. 노드 삭제 연산: 균형 이진 탐색 트리에서의 노드 삭제 연산은 삭제할 노드를 찾는 과정과 삭제 후에 트리의 균형을 유지하는 작업으로 이루어집니다. 탐색 연산과 마찬가지로 O(log n)의 시간 복잡도를 가지지만, 삭제 후에 균형 재조정 작업이 추가로 수행될 수 있습니다.\n",
    "\n",
    "4. 트리의 최소값이나 최대값을 가진 노드 탐색 연산: 균형 이진 탐색 트리에서는 최소값 또는 최대값을 가진 노드는 각각 가장 왼쪽 노드와 가장 오른쪽 노드입니다. 따라서 이 연산은 O(log n)의 시간 복잡도를 갖습니다.\n",
    "\n",
    "5. 트리의 노드 수 계산: 모든 노드를 탐색하여 개수를 계산해야 하므로 O(n)의 시간 복잡도를 가집니다.\n",
    "\n",
    "6. 단말 노드의 수 계산: 단말 노드는 자식이 없는 노드이므로 단말 노드의 수를 계산하기 위해서는 모든 노드를 탐색해야 합니다. 따라서 O(n)의 시간 복잡도를 가집니다.\n",
    "\n",
    "7. 트리의 높이 계산: 균형 이진 탐색 트리에서의 높이는 O(log n)으로 유지되므로, 높이 계산은 상수 시간인 O(1)의 시간 복잡도를 가집니다."
   ]
  },
  {
   "attachments": {},
   "cell_type": "markdown",
   "metadata": {},
   "source": [
    "### 9.17 공백상태인 AVL 트리에 다음과 같은 순서로 노드들이 추가된다. 생성되는 AVL 트리를 그려라. \n",
    "[1, 2, 3, 4, 5, 6, 7, 8, 9]\n"
   ]
  },
  {
   "cell_type": "code",
   "execution_count": null,
   "metadata": {},
   "outputs": [],
   "source": [
    "          4\n",
    "       /     \\\n",
    "     2         6\n",
    "   /   \\     /   \\\n",
    "  1     3   5     8\n",
    "                   \\\n",
    "                    9"
   ]
  },
  {
   "attachments": {},
   "cell_type": "markdown",
   "metadata": {},
   "source": [
    "## 실습문제"
   ]
  },
  {
   "attachments": {},
   "cell_type": "markdown",
   "metadata": {},
   "source": [
    "### P9.1 이진탐색트리에서 최대 키와 최소 키를 가진 노드를 탐색하는 함수를 순환 구조를 이용하여 구현하시오. \n",
    "– 반복 구조로 구현한 9.2절의 함수들을 참고"
   ]
  },
  {
   "cell_type": "code",
   "execution_count": 1,
   "metadata": {},
   "outputs": [],
   "source": [
    "def find_max_key(node):\n",
    "    if node is None:\n",
    "        return None\n",
    "    \n",
    "    while node.right is not None:\n",
    "        node = node.right\n",
    "    \n",
    "    return node\n",
    "\n",
    "def find_min_key(node):\n",
    "    if node is None:\n",
    "        return None\n",
    "    \n",
    "    while node.left is not None:\n",
    "        node = node.left\n",
    "    \n",
    "    return node"
   ]
  },
  {
   "cell_type": "code",
   "execution_count": 2,
   "metadata": {},
   "outputs": [
    {
     "name": "stdout",
     "output_type": "stream",
     "text": [
      "최대 키: 9\n",
      "최소 키: 1\n"
     ]
    }
   ],
   "source": [
    "# 이진탐색트리의 노드를 나타내는 클래스\n",
    "class Node:\n",
    "    def __init__(self, key):\n",
    "        self.key = key\n",
    "        self.left = None\n",
    "        self.right = None\n",
    "\n",
    "# 이진탐색트리 생성\n",
    "root = Node(5)\n",
    "root.left = Node(3)\n",
    "root.right = Node(8)\n",
    "root.left.left = Node(1)\n",
    "root.left.right = Node(4)\n",
    "root.right.left = Node(6)\n",
    "root.right.right = Node(9)\n",
    "\n",
    "# 최대 키 탐색\n",
    "max_node = find_max_key(root)\n",
    "if max_node is not None:\n",
    "    print(\"최대 키:\", max_node.key)\n",
    "else:\n",
    "    print(\"트리가 비어 있습니다.\")\n",
    "\n",
    "# 최소 키 탐색\n",
    "min_node = find_min_key(root)\n",
    "if min_node is not None:\n",
    "    print(\"최소 키:\", min_node.key)\n",
    "else:\n",
    "    print(\"트리가 비어 있습니다.\")"
   ]
  },
  {
   "attachments": {},
   "cell_type": "markdown",
   "metadata": {},
   "source": [
    "### P9.3 다음 배열에 들어있는 숫자들을 정렬시키는 함수를 작성하시오. \n",
    "– 배열에 들어있는 숫자들을 이진 탐색 트리에 추가한 후에 트리를 중위 순회하면서 숫자들을 출력\n",
    "\n",
    "[11 3 4 1 56 5 6 2 98 32 23]"
   ]
  },
  {
   "cell_type": "code",
   "execution_count": 3,
   "metadata": {},
   "outputs": [
    {
     "name": "stdout",
     "output_type": "stream",
     "text": [
      "1 2 3 4 5 6 11 23 32 56 98 "
     ]
    }
   ],
   "source": [
    "# 이진탐색트리의 노드를 나타내는 클래스\n",
    "class Node:\n",
    "    def __init__(self, key):\n",
    "        self.key = key\n",
    "        self.left = None\n",
    "        self.right = None\n",
    "\n",
    "# 이진탐색트리에 노드 추가\n",
    "def insert_bst(root, key):\n",
    "    if root is None:\n",
    "        return Node(key)\n",
    "    \n",
    "    if key < root.key:\n",
    "        root.left = insert_bst(root.left, key)\n",
    "    else:\n",
    "        root.right = insert_bst(root.right, key)\n",
    "    \n",
    "    return root\n",
    "\n",
    "# 중위 순회\n",
    "def inorder_traversal(node):\n",
    "    if node is not None:\n",
    "        inorder_traversal(node.left)\n",
    "        print(node.key, end=\" \")\n",
    "        inorder_traversal(node.right)\n",
    "\n",
    "# 주어진 배열\n",
    "arr = [11, 3, 4, 1, 56, 5, 6, 2, 98, 32, 23]\n",
    "\n",
    "# 이진탐색트리 생성 및 노드 추가\n",
    "root = None\n",
    "for num in arr:\n",
    "    root = insert_bst(root, num)\n",
    "\n",
    "# 중위 순회를 통한 정렬된 결과 출력\n",
    "inorder_traversal(root)"
   ]
  }
 ],
 "metadata": {
  "kernelspec": {
   "display_name": "Python 3",
   "language": "python",
   "name": "python3"
  },
  "language_info": {
   "codemirror_mode": {
    "name": "ipython",
    "version": 3
   },
   "file_extension": ".py",
   "mimetype": "text/x-python",
   "name": "python",
   "nbconvert_exporter": "python",
   "pygments_lexer": "ipython3",
   "version": "3.11.3"
  },
  "orig_nbformat": 4
 },
 "nbformat": 4,
 "nbformat_minor": 2
}
