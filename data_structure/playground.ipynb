{
 "cells": [
  {
   "cell_type": "code",
   "execution_count": 3,
   "metadata": {},
   "outputs": [
    {
     "name": "stdout",
     "output_type": "stream",
     "text": [
      "30\n",
      "10\n",
      "99\n",
      "22\n"
     ]
    }
   ],
   "source": [
    "gain = 99\n",
    "man = 22\n",
    "jack = gain\n",
    "ppa = man\n",
    "gain = 30\n",
    "man = 10\n",
    "print(gain)\n",
    "print(man)\n",
    "print(jack)\n",
    "print(ppa)"
   ]
  },
  {
   "cell_type": "code",
   "execution_count": 10,
   "metadata": {},
   "outputs": [
    {
     "name": "stdout",
     "output_type": "stream",
     "text": [
      "{1, 2, 3, 4, 5}\n",
      "{1, 2, 3}\n"
     ]
    }
   ],
   "source": [
    "s1 = {1,3,2,2}\n",
    "s2 = {4,5,2,3}\n",
    "s3 = s1.union(s2)\n",
    "print(s3)\n",
    "print(s1)"
   ]
  },
  {
   "cell_type": "code",
   "execution_count": 3,
   "metadata": {},
   "outputs": [],
   "source": [
    "# 선택 정렬 알고리즘\n",
    "def selection_sort(A):\n",
    "    n = len(A)\n",
    "    for i in range(n-1):\n",
    "        least = i\n",
    "        for j in range(i+1, n):\n",
    "            if (A[j]<A[least]):\n",
    "                least = j\n",
    "        A[i], A[least] = A[least], A[i]\n",
    "        print(\"현재 리스트의 상태는{}입니다.\".format(A))\n",
    "    return A"
   ]
  },
  {
   "cell_type": "code",
   "execution_count": 4,
   "metadata": {},
   "outputs": [
    {
     "name": "stdout",
     "output_type": "stream",
     "text": [
      "현재 리스트의 상태는[0, 4, 5, 7, 3, 5, 9, 1]입니다.\n",
      "현재 리스트의 상태는[0, 1, 5, 7, 3, 5, 9, 4]입니다.\n",
      "현재 리스트의 상태는[0, 1, 3, 7, 5, 5, 9, 4]입니다.\n",
      "현재 리스트의 상태는[0, 1, 3, 4, 5, 5, 9, 7]입니다.\n",
      "현재 리스트의 상태는[0, 1, 3, 4, 5, 5, 9, 7]입니다.\n",
      "현재 리스트의 상태는[0, 1, 3, 4, 5, 5, 9, 7]입니다.\n",
      "현재 리스트의 상태는[0, 1, 3, 4, 5, 5, 7, 9]입니다.\n",
      "[0, 1, 3, 4, 5, 5, 7, 9]\n"
     ]
    }
   ],
   "source": [
    "B = [1,4,5,7,3,5,9,0]\n",
    "\n",
    "print(selection_sort(B))"
   ]
  },
  {
   "cell_type": "code",
   "execution_count": 5,
   "metadata": {},
   "outputs": [],
   "source": [
    "# 삽입 정렬(insertion sort)\n",
    "def insertion_sort(A):\n",
    "    n = len(A)\n",
    "    for i in range(1, n):\n",
    "        key = A[i]\n",
    "        j = i-1\n",
    "        while j>=0 and A[j] > key:\n",
    "            A[j+1] = A[j]\n",
    "            j -= 1\n",
    "        A[j+1] = key\n",
    "        print(\"현재 리스트의 상태는{}입니다.\".format(A))\n",
    "    return A"
   ]
  },
  {
   "cell_type": "code",
   "execution_count": 7,
   "metadata": {},
   "outputs": [
    {
     "name": "stdout",
     "output_type": "stream",
     "text": [
      "삽입 정렬\n",
      "현재 리스트의 상태는[1, 4, 5, 7, 3, 5, 9, 0]입니다.\n",
      "현재 리스트의 상태는[1, 4, 5, 7, 3, 5, 9, 0]입니다.\n",
      "현재 리스트의 상태는[1, 4, 5, 7, 3, 5, 9, 0]입니다.\n",
      "현재 리스트의 상태는[1, 3, 4, 5, 7, 5, 9, 0]입니다.\n",
      "현재 리스트의 상태는[1, 3, 4, 5, 5, 7, 9, 0]입니다.\n",
      "현재 리스트의 상태는[1, 3, 4, 5, 5, 7, 9, 0]입니다.\n",
      "현재 리스트의 상태는[0, 1, 3, 4, 5, 5, 7, 9]입니다.\n",
      "[0, 1, 3, 4, 5, 5, 7, 9]\n"
     ]
    }
   ],
   "source": [
    "B = [1,4,5,7,3,5,9,0]\n",
    "print(\"삽입 정렬\")\n",
    "print(insertion_sort(B))"
   ]
  },
  {
   "cell_type": "code",
   "execution_count": 18,
   "metadata": {},
   "outputs": [],
   "source": [
    "# 버블 정렬\n",
    "def bubble_sort(A):\n",
    "    n = len(A)\n",
    "    for i in range(n-1, 0, -1):\n",
    "        bChanged = False\n",
    "        for j in range(i):\n",
    "            if (A[j]>A[j+1]):\n",
    "                A[j], A[j+1] = A[j+1], A[j]\n",
    "                bChanged = True\n",
    "                \n",
    "        if not bChanged:\n",
    "            break\n",
    "        print(A)\n",
    "    return A"
   ]
  },
  {
   "cell_type": "code",
   "execution_count": 16,
   "metadata": {},
   "outputs": [
    {
     "name": "stdout",
     "output_type": "stream",
     "text": [
      "버블 정렬\n",
      "[1, 4, 5, 7, 3, 5, 9, 0]\n",
      "현재 리스트의 상태는[1, 4, 5, 3, 5, 7, 0, 9]입니다.\n",
      "현재 리스트의 상태는[1, 4, 3, 5, 5, 0, 7, 9]입니다.\n",
      "현재 리스트의 상태는[1, 3, 4, 5, 0, 5, 7, 9]입니다.\n",
      "현재 리스트의 상태는[1, 3, 4, 0, 5, 5, 7, 9]입니다.\n",
      "현재 리스트의 상태는[1, 3, 0, 4, 5, 5, 7, 9]입니다.\n",
      "현재 리스트의 상태는[1, 0, 3, 4, 5, 5, 7, 9]입니다.\n",
      "현재 리스트의 상태는[0, 1, 3, 4, 5, 5, 7, 9]입니다.\n",
      "[0, 1, 3, 4, 5, 5, 7, 9]\n"
     ]
    }
   ],
   "source": [
    "B = [1,4,5,7,3,5,9,0]\n",
    "print(\"버블 정렬\")\n",
    "print(B)\n",
    "print(bubble_sort(B))"
   ]
  },
  {
   "cell_type": "code",
   "execution_count": null,
   "metadata": {},
   "outputs": [],
   "source": []
  }
 ],
 "metadata": {
  "kernelspec": {
   "display_name": "Python 3",
   "language": "python",
   "name": "python3"
  },
  "language_info": {
   "codemirror_mode": {
    "name": "ipython",
    "version": 3
   },
   "file_extension": ".py",
   "mimetype": "text/x-python",
   "name": "python",
   "nbconvert_exporter": "python",
   "pygments_lexer": "ipython3",
   "version": "3.11.2"
  },
  "orig_nbformat": 4
 },
 "nbformat": 4,
 "nbformat_minor": 2
}
