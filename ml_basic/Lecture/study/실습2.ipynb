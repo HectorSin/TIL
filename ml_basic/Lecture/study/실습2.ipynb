{
 "cells": [
  {
   "cell_type": "markdown",
   "metadata": {
    "id": "5PBDbVINtxZ5"
   },
   "source": [
    "# kernel and install graphviz"
   ]
  },
  {
   "cell_type": "code",
   "execution_count": null,
   "metadata": {
    "id": "ChJLAvrHtxZ9"
   },
   "outputs": [],
   "source": [
    "# conda activate \"[env]\"\n",
    "# conda install ipykernel\n",
    "# python -m ipykernel install --user --name [env] --display-name \"[displayKenrelName]\""
   ]
  },
  {
   "cell_type": "code",
   "execution_count": null,
   "metadata": {
    "id": "rptOyqoctxZ-"
   },
   "outputs": [],
   "source": [
    "# conda install graphviz\n",
    "# conda install -c conda-forge python-graphviz"
   ]
  },
  {
   "cell_type": "markdown",
   "metadata": {
    "id": "0aV36zGvJDhl"
   },
   "source": [
    "# import lib"
   ]
  },
  {
   "cell_type": "code",
   "execution_count": null,
   "metadata": {
    "executionInfo": {
     "elapsed": 341,
     "status": "ok",
     "timestamp": 1679489534299,
     "user": {
      "displayName": "이병한",
      "userId": "17139807818283072330"
     },
     "user_tz": -540
    },
    "id": "WHZOEFnHB470"
   },
   "outputs": [],
   "source": [
    "import numpy as np\n",
    "import os\n",
    "import seaborn as sns\n",
    "import pandas as pd\n",
    "np.random.seed(42)"
   ]
  },
  {
   "cell_type": "code",
   "execution_count": null,
   "metadata": {
    "executionInfo": {
     "elapsed": 1,
     "status": "ok",
     "timestamp": 1679489534770,
     "user": {
      "displayName": "이병한",
      "userId": "17139807818283072330"
     },
     "user_tz": -540
    },
    "id": "9G3qcSs_CCJ8"
   },
   "outputs": [],
   "source": [
    "%matplotlib inline\n",
    "import matplotlib.pyplot as plt"
   ]
  },
  {
   "cell_type": "markdown",
   "metadata": {
    "id": "DASnHjLsO7mu"
   },
   "source": [
    "# drop NaN"
   ]
  },
  {
   "cell_type": "code",
   "execution_count": null,
   "metadata": {
    "executionInfo": {
     "elapsed": 5,
     "status": "ok",
     "timestamp": 1679489536061,
     "user": {
      "displayName": "이병한",
      "userId": "17139807818283072330"
     },
     "user_tz": -540
    },
    "id": "80aeTClQO_bb"
   },
   "outputs": [],
   "source": [
    "titanic = sns.load_dataset('titanic')"
   ]
  },
  {
   "cell_type": "code",
   "execution_count": null,
   "metadata": {
    "colab": {
     "base_uri": "https://localhost:8080/",
     "height": 424
    },
    "executionInfo": {
     "elapsed": 5,
     "status": "ok",
     "timestamp": 1679489536061,
     "user": {
      "displayName": "이병한",
      "userId": "17139807818283072330"
     },
     "user_tz": -540
    },
    "id": "0LPIE6CvPRci",
    "outputId": "6945a87d-3ed1-4c3e-b05a-7f2fd8c338cc"
   },
   "outputs": [],
   "source": [
    "titanic"
   ]
  },
  {
   "cell_type": "code",
   "execution_count": null,
   "metadata": {
    "colab": {
     "base_uri": "https://localhost:8080/",
     "height": 424
    },
    "executionInfo": {
     "elapsed": 4,
     "status": "ok",
     "timestamp": 1679489536061,
     "user": {
      "displayName": "이병한",
      "userId": "17139807818283072330"
     },
     "user_tz": -540
    },
    "id": "3VZt3sG0PXZe",
    "outputId": "dc078986-a46a-4a93-ea5a-65bccffa32db"
   },
   "outputs": [],
   "source": [
    "titanic.dropna(axis = 0)"
   ]
  },
  {
   "cell_type": "code",
   "execution_count": null,
   "metadata": {
    "colab": {
     "base_uri": "https://localhost:8080/",
     "height": 424
    },
    "executionInfo": {
     "elapsed": 4,
     "status": "ok",
     "timestamp": 1679489536062,
     "user": {
      "displayName": "이병한",
      "userId": "17139807818283072330"
     },
     "user_tz": -540
    },
    "id": "pA4buzvfPB0w",
    "outputId": "8ffda9aa-a918-4d56-ee87-33e86b649125"
   },
   "outputs": [],
   "source": [
    "titanic.dropna(axis = 1)"
   ]
  },
  {
   "cell_type": "markdown",
   "metadata": {
    "id": "UymK8_woJIGu"
   },
   "source": [
    "# load iris data"
   ]
  },
  {
   "cell_type": "markdown",
   "metadata": {
    "id": "6GclhWsEvuZ6"
   },
   "source": [
    "https://scikit-learn.org/stable/modules/generated/sklearn.datasets.load_iris.html"
   ]
  },
  {
   "cell_type": "code",
   "execution_count": null,
   "metadata": {
    "executionInfo": {
     "elapsed": 1,
     "status": "ok",
     "timestamp": 1679489536988,
     "user": {
      "displayName": "이병한",
      "userId": "17139807818283072330"
     },
     "user_tz": -540
    },
    "id": "4D6NiDewGHlQ"
   },
   "outputs": [],
   "source": [
    "from sklearn.datasets import load_iris\n",
    "iris = load_iris(as_frame=True)"
   ]
  },
  {
   "cell_type": "code",
   "execution_count": null,
   "metadata": {
    "colab": {
     "base_uri": "https://localhost:8080/",
     "height": 424
    },
    "executionInfo": {
     "elapsed": 2,
     "status": "ok",
     "timestamp": 1679489537536,
     "user": {
      "displayName": "이병한",
      "userId": "17139807818283072330"
     },
     "user_tz": -540
    },
    "id": "oHoNiD3ptxaB",
    "outputId": "1f93cd5b-a5fc-423a-99d6-cfceac76d67b"
   },
   "outputs": [],
   "source": [
    "iris.data"
   ]
  },
  {
   "cell_type": "code",
   "execution_count": null,
   "metadata": {
    "colab": {
     "base_uri": "https://localhost:8080/"
    },
    "executionInfo": {
     "elapsed": 6,
     "status": "ok",
     "timestamp": 1679489538272,
     "user": {
      "displayName": "이병한",
      "userId": "17139807818283072330"
     },
     "user_tz": -540
    },
    "id": "eX4gwUHoGv3s",
    "outputId": "82651ef4-80df-4026-a7d7-350d1907695b"
   },
   "outputs": [],
   "source": [
    "iris.feature_names"
   ]
  },
  {
   "cell_type": "code",
   "execution_count": null,
   "metadata": {
    "colab": {
     "base_uri": "https://localhost:8080/",
     "height": 424
    },
    "executionInfo": {
     "elapsed": 4,
     "status": "ok",
     "timestamp": 1679489538272,
     "user": {
      "displayName": "이병한",
      "userId": "17139807818283072330"
     },
     "user_tz": -540
    },
    "id": "LaI7hp-TtxaC",
    "outputId": "7878064e-2a8a-47b4-942a-c3dec616a79d"
   },
   "outputs": [],
   "source": [
    "df = iris.data\n",
    "df"
   ]
  },
  {
   "cell_type": "code",
   "execution_count": null,
   "metadata": {
    "colab": {
     "base_uri": "https://localhost:8080/",
     "height": 424
    },
    "executionInfo": {
     "elapsed": 2,
     "status": "ok",
     "timestamp": 1679489538604,
     "user": {
      "displayName": "이병한",
      "userId": "17139807818283072330"
     },
     "user_tz": -540
    },
    "id": "Gu4UBfxttxaD",
    "outputId": "1fbf1fa8-6f54-41f2-f24d-1cbdae69e173"
   },
   "outputs": [],
   "source": [
    "df['label'] = iris.target\n",
    "df"
   ]
  },
  {
   "cell_type": "code",
   "execution_count": null,
   "metadata": {
    "colab": {
     "base_uri": "https://localhost:8080/",
     "height": 300
    },
    "executionInfo": {
     "elapsed": 2,
     "status": "ok",
     "timestamp": 1679489538982,
     "user": {
      "displayName": "이병한",
      "userId": "17139807818283072330"
     },
     "user_tz": -540
    },
    "id": "MJiiF8_qtxaD",
    "outputId": "3258c7ac-5bc1-4743-b0c6-bf28c0cba20e"
   },
   "outputs": [],
   "source": [
    "df.describe()"
   ]
  },
  {
   "cell_type": "markdown",
   "metadata": {
    "id": "cSsf0iNfJcJH"
   },
   "source": [
    "# Visualization data"
   ]
  },
  {
   "cell_type": "markdown",
   "metadata": {
    "id": "ygzumwFcv7yF"
   },
   "source": [
    "https://seaborn.pydata.org/generated/seaborn.scatterplot.html"
   ]
  },
  {
   "cell_type": "code",
   "execution_count": null,
   "metadata": {
    "colab": {
     "base_uri": "https://localhost:8080/",
     "height": 406
    },
    "executionInfo": {
     "elapsed": 1048,
     "status": "ok",
     "timestamp": 1679489540393,
     "user": {
      "displayName": "이병한",
      "userId": "17139807818283072330"
     },
     "user_tz": -540
    },
    "id": "0APUHn_x4yFI",
    "outputId": "064b107a-e46c-49a3-a6e7-f20347b41d74"
   },
   "outputs": [],
   "source": [
    "plt.figure(figsize=(8, 6))\n",
    "sns.scatterplot(x=df['petal length (cm)'], y=df[\"petal width (cm)\"], hue= df[\"label\"])"
   ]
  },
  {
   "cell_type": "code",
   "execution_count": null,
   "metadata": {
    "colab": {
     "base_uri": "https://localhost:8080/",
     "height": 406
    },
    "executionInfo": {
     "elapsed": 712,
     "status": "ok",
     "timestamp": 1679489541101,
     "user": {
      "displayName": "이병한",
      "userId": "17139807818283072330"
     },
     "user_tz": -540
    },
    "id": "lHirdl-wHJgJ",
    "outputId": "2c069a7f-93e6-4d6c-d242-e6be59453291"
   },
   "outputs": [],
   "source": [
    "plt.figure(figsize=(8, 6))\n",
    "sns.scatterplot(data=df, x='petal length (cm)', y=\"petal width (cm)\", hue= \"label\")"
   ]
  },
  {
   "cell_type": "code",
   "execution_count": null,
   "metadata": {
    "colab": {
     "base_uri": "https://localhost:8080/",
     "height": 408
    },
    "executionInfo": {
     "elapsed": 4,
     "status": "ok",
     "timestamp": 1679489541101,
     "user": {
      "displayName": "이병한",
      "userId": "17139807818283072330"
     },
     "user_tz": -540
    },
    "id": "9Ytcc0aYtxaE",
    "outputId": "d248290a-0d20-42f1-f3d3-b3e59ce765bc"
   },
   "outputs": [],
   "source": [
    "plt.figure(figsize=(8, 6))\n",
    "sns.scatterplot(data=df, x='sepal length (cm)', y=\"sepal width (cm)\", hue= \"label\")"
   ]
  },
  {
   "cell_type": "markdown",
   "metadata": {
    "id": "P68jWCDag-Qt"
   },
   "source": [
    "# Train DecisionTree Classifier"
   ]
  },
  {
   "cell_type": "markdown",
   "metadata": {
    "id": "Zo-Cae1wyR_w"
   },
   "source": [
    "Scikit-learn URL :\n",
    "https://scikit-learn.org/stable/modules/generated/sklearn.tree.DecisionTreeClassifier.html"
   ]
  },
  {
   "cell_type": "markdown",
   "metadata": {
    "id": "IokG221JX7vZ"
   },
   "source": [
    "![image.png](data:image/png;base64,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)"
   ]
  },
  {
   "cell_type": "code",
   "execution_count": null,
   "metadata": {
    "executionInfo": {
     "elapsed": 1,
     "status": "ok",
     "timestamp": 1679489542536,
     "user": {
      "displayName": "이병한",
      "userId": "17139807818283072330"
     },
     "user_tz": -540
    },
    "id": "IWWlsijgCEH0"
   },
   "outputs": [],
   "source": [
    "from sklearn.tree import DecisionTreeClassifier\n",
    "\n",
    "iris = load_iris()\n",
    "# X = iris.data[:, 2:] # petal length and width\n",
    "X = df[['petal length (cm)',\"petal width (cm)\"]] # petal length and width\n",
    "y = iris.target"
   ]
  },
  {
   "cell_type": "code",
   "execution_count": null,
   "metadata": {
    "colab": {
     "base_uri": "https://localhost:8080/",
     "height": 75
    },
    "executionInfo": {
     "elapsed": 4,
     "status": "ok",
     "timestamp": 1679489543006,
     "user": {
      "displayName": "이병한",
      "userId": "17139807818283072330"
     },
     "user_tz": -540
    },
    "id": "inRhRKCqDvt8",
    "outputId": "07d5f094-62fb-47bd-94d9-5a7df40c1369"
   },
   "outputs": [],
   "source": [
    "tree_clf = DecisionTreeClassifier(criterion='gini', max_depth=2, random_state=42)\n",
    "tree_clf.fit(X, y)"
   ]
  },
  {
   "cell_type": "code",
   "execution_count": null,
   "metadata": {
    "colab": {
     "base_uri": "https://localhost:8080/"
    },
    "executionInfo": {
     "elapsed": 3,
     "status": "ok",
     "timestamp": 1679489543006,
     "user": {
      "displayName": "이병한",
      "userId": "17139807818283072330"
     },
     "user_tz": -540
    },
    "id": "TicJqDC7hevh",
    "outputId": "7122c890-93d6-4270-902f-1b698b2db6ca"
   },
   "outputs": [],
   "source": [
    "tree_clf.predict_proba([[5, 1.5]])"
   ]
  },
  {
   "cell_type": "code",
   "execution_count": null,
   "metadata": {
    "colab": {
     "base_uri": "https://localhost:8080/"
    },
    "executionInfo": {
     "elapsed": 3,
     "status": "ok",
     "timestamp": 1679489543423,
     "user": {
      "displayName": "이병한",
      "userId": "17139807818283072330"
     },
     "user_tz": -540
    },
    "id": "2x3tsti7hiDn",
    "outputId": "16ed6a51-2a0b-488e-91bb-4426a44fb50e"
   },
   "outputs": [],
   "source": [
    "tree_clf.predict([[5, 1.5]])"
   ]
  },
  {
   "cell_type": "code",
   "execution_count": null,
   "metadata": {
    "colab": {
     "base_uri": "https://localhost:8080/"
    },
    "executionInfo": {
     "elapsed": 2,
     "status": "ok",
     "timestamp": 1679489543423,
     "user": {
      "displayName": "이병한",
      "userId": "17139807818283072330"
     },
     "user_tz": -540
    },
    "id": "Wgc67oeQtxaH",
    "outputId": "36f29f09-dcab-4ca3-9007-bef19c22dd9f"
   },
   "outputs": [],
   "source": [
    "tree_clf.feature_importances_"
   ]
  },
  {
   "cell_type": "markdown",
   "metadata": {
    "id": "gwDCoCIchMBs"
   },
   "source": [
    "# Visualization Decision Tree"
   ]
  },
  {
   "cell_type": "code",
   "execution_count": null,
   "metadata": {
    "executionInfo": {
     "elapsed": 1,
     "status": "ok",
     "timestamp": 1679489543882,
     "user": {
      "displayName": "이병한",
      "userId": "17139807818283072330"
     },
     "user_tz": -540
    },
    "id": "4ZlM6OnLCQDU"
   },
   "outputs": [],
   "source": [
    "PROJECT_ROOT_DIR = \".\"\n",
    "CHAPTER_ID = \"decision_trees\"\n",
    "IMAGES_PATH = os.path.join(PROJECT_ROOT_DIR, \"images\", CHAPTER_ID)\n",
    "os.makedirs(IMAGES_PATH, exist_ok=True)"
   ]
  },
  {
   "cell_type": "code",
   "execution_count": null,
   "metadata": {
    "colab": {
     "base_uri": "https://localhost:8080/",
     "height": 441
    },
    "executionInfo": {
     "elapsed": 471,
     "status": "ok",
     "timestamp": 1679489544738,
     "user": {
      "displayName": "이병한",
      "userId": "17139807818283072330"
     },
     "user_tz": -540
    },
    "id": "9uqRxpDVCEp9",
    "outputId": "3cd07b9a-88e4-46e5-d942-d2bfb38004a0",
    "scrolled": true
   },
   "outputs": [],
   "source": [
    "from sklearn.tree import export_graphviz\n",
    "from graphviz import Source\n",
    "\n",
    "export_graphviz(\n",
    "        tree_clf,\n",
    "        out_file=os.path.join(IMAGES_PATH, \"iris_tree.dot\"),\n",
    "        feature_names=iris.feature_names[2:],\n",
    "        class_names=iris.target_names,\n",
    "        rounded=True,\n",
    "        filled=True\n",
    "    )\n",
    "Source.from_file(os.path.join(IMAGES_PATH, \"iris_tree.dot\"))"
   ]
  },
  {
   "cell_type": "markdown",
   "metadata": {
    "id": "HNZR54xEYUNE"
   },
   "source": [
    "# visualization decision boundary"
   ]
  },
  {
   "cell_type": "code",
   "execution_count": null,
   "metadata": {
    "executionInfo": {
     "elapsed": 2,
     "status": "ok",
     "timestamp": 1679489544738,
     "user": {
      "displayName": "이병한",
      "userId": "17139807818283072330"
     },
     "user_tz": -540
    },
    "id": "bIItNWh1S3Sy"
   },
   "outputs": [],
   "source": [
    "axes=[0, 7.5, 0, 3]\n",
    "x1s = np.linspace(axes[0], axes[1], 100)\n",
    "x2s = np.linspace(axes[2], axes[3], 100)"
   ]
  },
  {
   "cell_type": "code",
   "execution_count": null,
   "metadata": {
    "colab": {
     "base_uri": "https://localhost:8080/"
    },
    "executionInfo": {
     "elapsed": 2,
     "status": "ok",
     "timestamp": 1679489545071,
     "user": {
      "displayName": "이병한",
      "userId": "17139807818283072330"
     },
     "user_tz": -540
    },
    "id": "-_Z_N-Gv55LO",
    "outputId": "78e5ad3d-e52f-4b15-e705-ee28502f28af"
   },
   "outputs": [],
   "source": [
    "x1s"
   ]
  },
  {
   "cell_type": "code",
   "execution_count": null,
   "metadata": {
    "executionInfo": {
     "elapsed": 1,
     "status": "ok",
     "timestamp": 1679489545071,
     "user": {
      "displayName": "이병한",
      "userId": "17139807818283072330"
     },
     "user_tz": -540
    },
    "id": "4A1ZwrB85ZWd"
   },
   "outputs": [],
   "source": [
    "x1, x2 = np.meshgrid(x1s, x2s)"
   ]
  },
  {
   "cell_type": "code",
   "execution_count": null,
   "metadata": {
    "colab": {
     "base_uri": "https://localhost:8080/"
    },
    "executionInfo": {
     "elapsed": 3,
     "status": "ok",
     "timestamp": 1679489545484,
     "user": {
      "displayName": "이병한",
      "userId": "17139807818283072330"
     },
     "user_tz": -540
    },
    "id": "nxx4Kntt57zK",
    "outputId": "0349f379-d1a4-4ec2-f695-f185f3b0b0bb"
   },
   "outputs": [],
   "source": [
    "x1[0]"
   ]
  },
  {
   "cell_type": "code",
   "execution_count": null,
   "metadata": {
    "colab": {
     "base_uri": "https://localhost:8080/"
    },
    "executionInfo": {
     "elapsed": 2,
     "status": "ok",
     "timestamp": 1679489545484,
     "user": {
      "displayName": "이병한",
      "userId": "17139807818283072330"
     },
     "user_tz": -540
    },
    "id": "R8ytNu8Q6JnH",
    "outputId": "e7da713e-d72f-4250-d0ad-5a74e05f469c"
   },
   "outputs": [],
   "source": [
    "x2[2]"
   ]
  },
  {
   "cell_type": "code",
   "execution_count": null,
   "metadata": {
    "executionInfo": {
     "elapsed": 5,
     "status": "ok",
     "timestamp": 1679489546000,
     "user": {
      "displayName": "이병한",
      "userId": "17139807818283072330"
     },
     "user_tz": -540
    },
    "id": "pCN5YBjz5bh1"
   },
   "outputs": [],
   "source": [
    "X_new = np.c_[x1.ravel(), x2.ravel()]"
   ]
  },
  {
   "cell_type": "code",
   "execution_count": null,
   "metadata": {
    "colab": {
     "base_uri": "https://localhost:8080/"
    },
    "executionInfo": {
     "elapsed": 637,
     "status": "ok",
     "timestamp": 1679489546633,
     "user": {
      "displayName": "이병한",
      "userId": "17139807818283072330"
     },
     "user_tz": -540
    },
    "id": "Spi3yDLU5cVD",
    "outputId": "203b41ef-69d6-49dc-f3c0-0102749c0045"
   },
   "outputs": [],
   "source": [
    "y_pred = tree_clf.predict(X_new)"
   ]
  },
  {
   "cell_type": "code",
   "execution_count": null,
   "metadata": {
    "colab": {
     "base_uri": "https://localhost:8080/"
    },
    "executionInfo": {
     "elapsed": 2,
     "status": "ok",
     "timestamp": 1679489547131,
     "user": {
      "displayName": "이병한",
      "userId": "17139807818283072330"
     },
     "user_tz": -540
    },
    "id": "j5mWEsPC719l",
    "outputId": "59f55159-6af0-431b-ed19-32597a6646e1"
   },
   "outputs": [],
   "source": [
    "y_pred.shape"
   ]
  },
  {
   "cell_type": "code",
   "execution_count": null,
   "metadata": {
    "executionInfo": {
     "elapsed": 3,
     "status": "ok",
     "timestamp": 1679489547798,
     "user": {
      "displayName": "이병한",
      "userId": "17139807818283072330"
     },
     "user_tz": -540
    },
    "id": "YJNBZatr5P-J"
   },
   "outputs": [],
   "source": [
    "y_pred = y_pred.reshape(x1.shape)"
   ]
  },
  {
   "cell_type": "code",
   "execution_count": null,
   "metadata": {
    "colab": {
     "base_uri": "https://localhost:8080/"
    },
    "executionInfo": {
     "elapsed": 2,
     "status": "ok",
     "timestamp": 1679489549571,
     "user": {
      "displayName": "이병한",
      "userId": "17139807818283072330"
     },
     "user_tz": -540
    },
    "id": "1VnSbXxv79vX",
    "outputId": "243ae204-cd58-4b44-cf2c-242e6e399de2"
   },
   "outputs": [],
   "source": [
    "x1.shape, x2.shape, y_pred.shape"
   ]
  },
  {
   "cell_type": "code",
   "execution_count": null,
   "metadata": {
    "colab": {
     "base_uri": "https://localhost:8080/",
     "height": 515
    },
    "executionInfo": {
     "elapsed": 437,
     "status": "ok",
     "timestamp": 1679489550461,
     "user": {
      "displayName": "이병한",
      "userId": "17139807818283072330"
     },
     "user_tz": -540
    },
    "id": "KYp8txpuxO8q",
    "outputId": "2586cc62-6008-48f3-acce-3424ebf2ca4e"
   },
   "outputs": [],
   "source": [
    "plt.figure(figsize=(16, 8))\n",
    "sns.scatterplot(data=df, x='petal length (cm)', y=\"petal width (cm)\", hue= \"label\")"
   ]
  },
  {
   "cell_type": "code",
   "execution_count": null,
   "metadata": {
    "colab": {
     "base_uri": "https://localhost:8080/",
     "height": 519
    },
    "executionInfo": {
     "elapsed": 473,
     "status": "ok",
     "timestamp": 1679489550931,
     "user": {
      "displayName": "이병한",
      "userId": "17139807818283072330"
     },
     "user_tz": -540
    },
    "id": "yp0hifrExUN-",
    "outputId": "7db013ef-c882-4796-c7e1-640886d91a6d"
   },
   "outputs": [],
   "source": [
    "plt.figure(figsize=(16, 8))\n",
    "sns.scatterplot(data=df, x='petal length (cm)', y=\"petal width (cm)\", hue= \"label\")\n",
    "plt.contourf(x1, x2, y_pred, alpha=0.3)"
   ]
  },
  {
   "cell_type": "code",
   "execution_count": null,
   "metadata": {
    "colab": {
     "base_uri": "https://localhost:8080/",
     "height": 519
    },
    "executionInfo": {
     "elapsed": 1061,
     "status": "ok",
     "timestamp": 1679489551991,
     "user": {
      "displayName": "이병한",
      "userId": "17139807818283072330"
     },
     "user_tz": -540
    },
    "id": "TEh-weRQxmBB",
    "outputId": "60b3543f-c1a9-4ba2-d18e-34d4d525dc86"
   },
   "outputs": [],
   "source": [
    "plt.figure(figsize=(16, 8))\n",
    "plt.contourf(x1, x2, y_pred, alpha=0.3)\n",
    "sns.scatterplot(data=df, x='petal length (cm)', y=\"petal width (cm)\", hue= \"label\")\n",
    "\n",
    "\n",
    "plt.plot([2.45, 2.45], [0, 3], \"k-\", linewidth=2)\n",
    "plt.plot([2.45, 7.5], [1.75, 1.75], \"k--\", linewidth=2)\n",
    "plt.text(1.40, 1.0, \"Depth=0\", fontsize=13)\n",
    "plt.text(3.2, 1.80, \"Depth=1\", fontsize=13)\n",
    "\n",
    "# patal length = 2.45\n",
    "#patal width = 1.75"
   ]
  },
  {
   "cell_type": "markdown",
   "metadata": {
    "id": "VsdNDKtjVP5G"
   },
   "source": [
    "# is it only one DT?"
   ]
  },
  {
   "cell_type": "code",
   "execution_count": null,
   "metadata": {
    "colab": {
     "base_uri": "https://localhost:8080/",
     "height": 75
    },
    "executionInfo": {
     "elapsed": 7,
     "status": "ok",
     "timestamp": 1679489551992,
     "user": {
      "displayName": "이병한",
      "userId": "17139807818283072330"
     },
     "user_tz": -540
    },
    "id": "EcsfUcmPC39L",
    "outputId": "376dde4e-a9fb-4b9c-94f7-b985ef5543c7"
   },
   "outputs": [],
   "source": [
    "tree_clf_tweaked = DecisionTreeClassifier(max_depth=2, random_state=40)\n",
    "tree_clf_tweaked.fit(X, y)"
   ]
  },
  {
   "cell_type": "code",
   "execution_count": null,
   "metadata": {
    "colab": {
     "base_uri": "https://localhost:8080/",
     "height": 441
    },
    "executionInfo": {
     "elapsed": 5,
     "status": "ok",
     "timestamp": 1679489551992,
     "user": {
      "displayName": "이병한",
      "userId": "17139807818283072330"
     },
     "user_tz": -540
    },
    "id": "R-dr9JDeifsc",
    "outputId": "a82e1b57-7b3a-4ad9-bc36-8deee33d0dec"
   },
   "outputs": [],
   "source": [
    "export_graphviz(\n",
    "        tree_clf_tweaked,\n",
    "        out_file=os.path.join(IMAGES_PATH, \"iris_tree.dot\"),\n",
    "        feature_names=iris.feature_names[2:],\n",
    "        class_names=iris.target_names,\n",
    "        rounded=True,\n",
    "        filled=True\n",
    "    )\n",
    "Source.from_file(os.path.join(IMAGES_PATH, \"iris_tree.dot\"))"
   ]
  },
  {
   "cell_type": "code",
   "execution_count": null,
   "metadata": {
    "colab": {
     "base_uri": "https://localhost:8080/",
     "height": 337
    },
    "executionInfo": {
     "elapsed": 472,
     "status": "ok",
     "timestamp": 1679489553551,
     "user": {
      "displayName": "이병한",
      "userId": "17139807818283072330"
     },
     "user_tz": -540
    },
    "id": "QK1TD5XACkys",
    "outputId": "59d061fe-877e-47c1-c036-9d137bf7fc45"
   },
   "outputs": [],
   "source": [
    "plt.figure(figsize=(8, 4))\n",
    "axes=[0, 7.5, 0, 3]\n",
    "x1s = np.linspace(axes[0], axes[1], 100)\n",
    "x2s = np.linspace(axes[2], axes[3], 100)\n",
    "x1, x2 = np.meshgrid(x1s, x2s)\n",
    "X_new = np.c_[x1.ravel(), x2.ravel()]\n",
    "y_pred = tree_clf_tweaked.predict(X_new).reshape(x1.shape)\n",
    "plt.contourf(x1, x2, y_pred, alpha=0.3)\n",
    "sns.scatterplot(data=df, x='petal length (cm)', y=\"petal width (cm)\", hue= \"label\")\n",
    "\n",
    "plt.plot([0, 7.5], [0.8, 0.8], \"k-\", linewidth=2)\n",
    "plt.plot([0, 7.5], [1.75, 1.75], \"k--\", linewidth=2)\n",
    "plt.text(1.0, 0.9, \"Depth=0\", fontsize=15)\n",
    "plt.text(1.0, 1.80, \"Depth=1\", fontsize=13)"
   ]
  },
  {
   "cell_type": "code",
   "execution_count": null,
   "metadata": {
    "colab": {
     "base_uri": "https://localhost:8080/",
     "height": 75
    },
    "executionInfo": {
     "elapsed": 3,
     "status": "ok",
     "timestamp": 1679489553551,
     "user": {
      "displayName": "이병한",
      "userId": "17139807818283072330"
     },
     "user_tz": -540
    },
    "id": "iqRAbK7ztxaJ",
    "outputId": "b5d0acf7-0938-4dbf-bbcf-74cd20e4f8a2"
   },
   "outputs": [],
   "source": [
    "tree_clf_overfit = DecisionTreeClassifier(max_depth=10, random_state=40)\n",
    "tree_clf_overfit.fit(X, y)"
   ]
  },
  {
   "cell_type": "code",
   "execution_count": null,
   "metadata": {
    "colab": {
     "base_uri": "https://localhost:8080/",
     "height": 917
    },
    "executionInfo": {
     "elapsed": 333,
     "status": "ok",
     "timestamp": 1679489629205,
     "user": {
      "displayName": "이병한",
      "userId": "17139807818283072330"
     },
     "user_tz": -540
    },
    "id": "5q69La7OtxaJ",
    "outputId": "f2d82fd1-168b-416b-c74d-b2a218f96484"
   },
   "outputs": [],
   "source": [
    "export_graphviz(\n",
    "        tree_clf_overfit,\n",
    "        out_file=os.path.join(IMAGES_PATH, \"iris_tree.dot\"),\n",
    "        feature_names=iris.feature_names[2:],\n",
    "        class_names=iris.target_names,\n",
    "        rounded=True,\n",
    "        filled=True\n",
    "    )\n",
    "Source.from_file(os.path.join(IMAGES_PATH, \"iris_tree.dot\"))"
   ]
  },
  {
   "cell_type": "code",
   "execution_count": null,
   "metadata": {
    "colab": {
     "base_uri": "https://localhost:8080/",
     "height": 337
    },
    "executionInfo": {
     "elapsed": 707,
     "status": "ok",
     "timestamp": 1679489633055,
     "user": {
      "displayName": "이병한",
      "userId": "17139807818283072330"
     },
     "user_tz": -540
    },
    "id": "KpN1DQwEtxaJ",
    "outputId": "fa2c3901-a5ac-4b09-92f1-cd6ca1a52028"
   },
   "outputs": [],
   "source": [
    "plt.figure(figsize=(8, 4))\n",
    "axes=[0, 7.5, 0, 3]\n",
    "x1s = np.linspace(axes[0], axes[1], 100)\n",
    "x2s = np.linspace(axes[2], axes[3], 100)\n",
    "x1, x2 = np.meshgrid(x1s, x2s)\n",
    "X_new = np.c_[x1.ravel(), x2.ravel()]\n",
    "y_pred = tree_clf_overfit.predict(X_new).reshape(x1.shape)\n",
    "plt.contourf(x1, x2, y_pred, alpha=0.3)\n",
    "sns.scatterplot(data=df, x='petal length (cm)', y=\"petal width (cm)\", hue= \"label\")"
   ]
  },
  {
   "cell_type": "markdown",
   "metadata": {
    "id": "FPWb7pS_ih4q"
   },
   "source": [
    "# split dataset(train and test)"
   ]
  },
  {
   "cell_type": "code",
   "execution_count": null,
   "metadata": {
    "executionInfo": {
     "elapsed": 416,
     "status": "ok",
     "timestamp": 1679489635139,
     "user": {
      "displayName": "이병한",
      "userId": "17139807818283072330"
     },
     "user_tz": -540
    },
    "id": "v3-TdhwTI49L"
   },
   "outputs": [],
   "source": [
    "from sklearn.model_selection import train_test_split\n",
    "from sklearn.metrics import accuracy_score"
   ]
  },
  {
   "cell_type": "code",
   "execution_count": null,
   "metadata": {
    "executionInfo": {
     "elapsed": 1,
     "status": "ok",
     "timestamp": 1679489635725,
     "user": {
      "displayName": "이병한",
      "userId": "17139807818283072330"
     },
     "user_tz": -540
    },
    "id": "KjDGbhn6Ot36"
   },
   "outputs": [],
   "source": [
    "X_train, X_test, y_train, y_test = train_test_split(iris.data, y, test_size= 0.2, random_state = 11)"
   ]
  },
  {
   "cell_type": "code",
   "execution_count": null,
   "metadata": {
    "executionInfo": {
     "elapsed": 1,
     "status": "ok",
     "timestamp": 1679489635725,
     "user": {
      "displayName": "이병한",
      "userId": "17139807818283072330"
     },
     "user_tz": -540
    },
    "id": "zUXcoAhjPCZX"
   },
   "outputs": [],
   "source": [
    "clf = DecisionTreeClassifier(max_depth= 10,random_state=42)"
   ]
  },
  {
   "cell_type": "code",
   "execution_count": null,
   "metadata": {
    "colab": {
     "base_uri": "https://localhost:8080/"
    },
    "executionInfo": {
     "elapsed": 2,
     "status": "ok",
     "timestamp": 1679489636571,
     "user": {
      "displayName": "이병한",
      "userId": "17139807818283072330"
     },
     "user_tz": -540
    },
    "id": "LfMcriC0txaK",
    "outputId": "fc26fd44-ce63-445c-cee6-3a977bddf0ef"
   },
   "outputs": [],
   "source": [
    "clf.fit(X_train,y_train)\n",
    "pred_train = clf.predict(X_train)\n",
    "accuracy_score(pred_train, y_train)"
   ]
  },
  {
   "cell_type": "code",
   "execution_count": null,
   "metadata": {
    "executionInfo": {
     "elapsed": 1,
     "status": "ok",
     "timestamp": 1679489636571,
     "user": {
      "displayName": "이병한",
      "userId": "17139807818283072330"
     },
     "user_tz": -540
    },
    "id": "TgKa3AB_PQe3"
   },
   "outputs": [],
   "source": [
    "pred_test = clf.predict(X_test)"
   ]
  },
  {
   "cell_type": "code",
   "execution_count": null,
   "metadata": {
    "colab": {
     "base_uri": "https://localhost:8080/"
    },
    "executionInfo": {
     "elapsed": 2,
     "status": "ok",
     "timestamp": 1679489636989,
     "user": {
      "displayName": "이병한",
      "userId": "17139807818283072330"
     },
     "user_tz": -540
    },
    "id": "w2AjEnvfPjlt",
    "outputId": "5b388f0f-46f2-4cd9-a1bf-20ab3d89f2a6"
   },
   "outputs": [],
   "source": [
    "pred_test"
   ]
  },
  {
   "cell_type": "code",
   "execution_count": null,
   "metadata": {
    "colab": {
     "base_uri": "https://localhost:8080/"
    },
    "executionInfo": {
     "elapsed": 1,
     "status": "ok",
     "timestamp": 1679489637347,
     "user": {
      "displayName": "이병한",
      "userId": "17139807818283072330"
     },
     "user_tz": -540
    },
    "id": "5-NhWitwPUv3",
    "outputId": "1ff398b6-c324-4e27-a695-2af243dde366"
   },
   "outputs": [],
   "source": [
    "y_test"
   ]
  },
  {
   "cell_type": "code",
   "execution_count": null,
   "metadata": {
    "colab": {
     "base_uri": "https://localhost:8080/"
    },
    "executionInfo": {
     "elapsed": 3,
     "status": "ok",
     "timestamp": 1679489637765,
     "user": {
      "displayName": "이병한",
      "userId": "17139807818283072330"
     },
     "user_tz": -540
    },
    "id": "nrFosI1SPYPO",
    "outputId": "2cc1ca1e-1c5d-4b50-a683-a06834da83bd"
   },
   "outputs": [],
   "source": [
    "print(f\"정확도: {accuracy_score(pred_test, y_test)}\")"
   ]
  },
  {
   "cell_type": "code",
   "execution_count": null,
   "metadata": {
    "colab": {
     "base_uri": "https://localhost:8080/",
     "height": 917
    },
    "executionInfo": {
     "elapsed": 6,
     "status": "ok",
     "timestamp": 1679489638094,
     "user": {
      "displayName": "이병한",
      "userId": "17139807818283072330"
     },
     "user_tz": -540
    },
    "id": "cfkTQA0MphZw",
    "outputId": "be2045f7-8153-42e7-e5f2-cca432507005"
   },
   "outputs": [],
   "source": [
    "export_graphviz(\n",
    "        clf,\n",
    "        out_file=os.path.join(IMAGES_PATH, \"iris_tree.dot\"),\n",
    "        feature_names=iris.feature_names,\n",
    "        class_names=iris.target_names,\n",
    "        rounded=True,\n",
    "        filled=True\n",
    "    )\n",
    "Source.from_file(os.path.join(IMAGES_PATH, \"iris_tree.dot\"))"
   ]
  },
  {
   "cell_type": "code",
   "execution_count": null,
   "metadata": {
    "colab": {
     "base_uri": "https://localhost:8080/"
    },
    "executionInfo": {
     "elapsed": 445,
     "status": "ok",
     "timestamp": 1679489641691,
     "user": {
      "displayName": "이병한",
      "userId": "17139807818283072330"
     },
     "user_tz": -540
    },
    "id": "TGVtZhSHtxaL",
    "outputId": "3dba77d0-7158-40a8-9201-dca59728aba6"
   },
   "outputs": [],
   "source": [
    "clf.feature_importances_"
   ]
  },
  {
   "cell_type": "code",
   "execution_count": null,
   "metadata": {
    "colab": {
     "base_uri": "https://localhost:8080/"
    },
    "executionInfo": {
     "elapsed": 9,
     "status": "ok",
     "timestamp": 1679489641692,
     "user": {
      "displayName": "이병한",
      "userId": "17139807818283072330"
     },
     "user_tz": -540
    },
    "id": "_BrjhxswtxaL",
    "outputId": "ace5b577-507f-45ac-829f-db9bf6fa17fb"
   },
   "outputs": [],
   "source": [
    "iris.feature_names"
   ]
  },
  {
   "cell_type": "code",
   "execution_count": null,
   "metadata": {
    "colab": {
     "base_uri": "https://localhost:8080/",
     "height": 432
    },
    "executionInfo": {
     "elapsed": 512,
     "status": "ok",
     "timestamp": 1679489642198,
     "user": {
      "displayName": "이병한",
      "userId": "17139807818283072330"
     },
     "user_tz": -540
    },
    "id": "_pzdMB7Goqrk",
    "outputId": "04362dde-2769-42bf-c54f-d3a85ce332a3"
   },
   "outputs": [],
   "source": [
    "sns.barplot(x = iris.feature_names, y = clf.feature_importances_)\n",
    "plt.xticks(rotation = 90)"
   ]
  },
  {
   "cell_type": "markdown",
   "metadata": {
    "id": "uWFb6FpOiy37"
   },
   "source": [
    "# assignment\n",
    "\n",
    "### DT를 학습시켜 DT graph를 시각화하고 test set에 대한 정확도를 출력하시오\n",
    "### 그리고 가장 중요한 feature를 2가지를 선택해서 다시 DT classifier를 학습시키시오.\n",
    "### 이후  decision boundary를 시각화 하시오.\n"
   ]
  },
  {
   "cell_type": "code",
   "execution_count": null,
   "metadata": {
    "id": "WaIJP0eDi1m3"
   },
   "outputs": [],
   "source": [
    "from sklearn.datasets import load_wine\n",
    "from sklearn.model_selection import train_test_split\n",
    "data = load_wine()\n",
    "X_train, X_test, y_train, y_test = train_test_split(data.data, data.target, test_size= 0.2, random_state = 11)"
   ]
  },
  {
   "cell_type": "markdown",
   "metadata": {
    "id": "Tr4Qoi2PmL7N"
   },
   "source": [
    "# graph(tree) Viz"
   ]
  },
  {
   "cell_type": "markdown",
   "metadata": {
    "id": "ms2o0Wa_mUAs"
   },
   "source": [
    "# Accuracy 정확도 출력"
   ]
  },
  {
   "cell_type": "markdown",
   "metadata": {
    "id": "JSjAARX3txaN"
   },
   "source": [
    "# select most important 2 features\n",
    "#### visualize feature importance"
   ]
  },
  {
   "cell_type": "markdown",
   "metadata": {
    "id": "PNZtBk7ZtxaN"
   },
   "source": [
    "# Train DT by only 2 features"
   ]
  },
  {
   "cell_type": "markdown",
   "metadata": {
    "id": "vywPhovLtxaN"
   },
   "source": [
    "# Accuracy (2 features DT)"
   ]
  },
  {
   "cell_type": "markdown",
   "metadata": {
    "id": "T3Xd_e8-txaO"
   },
   "source": [
    "# Decision Boundary (2 features DT)"
   ]
  }
 ],
 "metadata": {
  "colab": {
   "collapsed_sections": [
    "uWFb6FpOiy37",
    "Tr4Qoi2PmL7N",
    "ms2o0Wa_mUAs",
    "JSjAARX3txaN",
    "PNZtBk7ZtxaN",
    "vywPhovLtxaN",
    "T3Xd_e8-txaO"
   ],
   "provenance": []
  },
  "kernelspec": {
   "display_name": "Python 3 (ipykernel)",
   "language": "python",
   "name": "python3"
  },
  "language_info": {
   "codemirror_mode": {
    "name": "ipython",
    "version": 3
   },
   "file_extension": ".py",
   "mimetype": "text/x-python",
   "name": "python",
   "nbconvert_exporter": "python",
   "pygments_lexer": "ipython3",
   "version": "3.9.12"
  }
 },
 "nbformat": 4,
 "nbformat_minor": 1
}
