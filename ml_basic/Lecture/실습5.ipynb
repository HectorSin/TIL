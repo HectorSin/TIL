{
  "cells": [
    {
      "cell_type": "code",
      "execution_count": 1,
      "metadata": {
        "id": "pKNeHfHshiZ2"
      },
      "outputs": [],
      "source": [
        "import pandas as pd\n",
        "import numpy as np\n",
        "import matplotlib.pyplot as plt\n",
        "import seaborn as sns\n",
        "from matplotlib.colors import ListedColormap"
      ]
    },
    {
      "cell_type": "code",
      "execution_count": 2,
      "metadata": {
        "id": "kVyqGd4dlIRf"
      },
      "outputs": [],
      "source": [
        "from sklearn import datasets\n",
        "from sklearn.model_selection import train_test_split"
      ]
    },
    {
      "cell_type": "markdown",
      "metadata": {
        "id": "wqIfPwCqrHLZ"
      },
      "source": [
        "# K Near-Neighbors Classifier(KNN)"
      ]
    },
    {
      "cell_type": "code",
      "execution_count": 3,
      "metadata": {
        "id": "-AbSMRT_lXxX"
      },
      "outputs": [],
      "source": [
        "iris = datasets.load_iris()\n",
        "\n",
        "X = iris.data[:, :2]\n",
        "y = iris.target\n",
        "X_train, X_test, y_train, y_test = train_test_split(X, y, test_size= 0.2, random_state = 42)"
      ]
    },
    {
      "cell_type": "code",
      "execution_count": 4,
      "metadata": {
        "id": "xa17CEwWiwZP"
      },
      "outputs": [
        {
          "data": {
            "text/html": [
              "<style>#sk-container-id-1 {color: black;}#sk-container-id-1 pre{padding: 0;}#sk-container-id-1 div.sk-toggleable {background-color: white;}#sk-container-id-1 label.sk-toggleable__label {cursor: pointer;display: block;width: 100%;margin-bottom: 0;padding: 0.3em;box-sizing: border-box;text-align: center;}#sk-container-id-1 label.sk-toggleable__label-arrow:before {content: \"▸\";float: left;margin-right: 0.25em;color: #696969;}#sk-container-id-1 label.sk-toggleable__label-arrow:hover:before {color: black;}#sk-container-id-1 div.sk-estimator:hover label.sk-toggleable__label-arrow:before {color: black;}#sk-container-id-1 div.sk-toggleable__content {max-height: 0;max-width: 0;overflow: hidden;text-align: left;background-color: #f0f8ff;}#sk-container-id-1 div.sk-toggleable__content pre {margin: 0.2em;color: black;border-radius: 0.25em;background-color: #f0f8ff;}#sk-container-id-1 input.sk-toggleable__control:checked~div.sk-toggleable__content {max-height: 200px;max-width: 100%;overflow: auto;}#sk-container-id-1 input.sk-toggleable__control:checked~label.sk-toggleable__label-arrow:before {content: \"▾\";}#sk-container-id-1 div.sk-estimator input.sk-toggleable__control:checked~label.sk-toggleable__label {background-color: #d4ebff;}#sk-container-id-1 div.sk-label input.sk-toggleable__control:checked~label.sk-toggleable__label {background-color: #d4ebff;}#sk-container-id-1 input.sk-hidden--visually {border: 0;clip: rect(1px 1px 1px 1px);clip: rect(1px, 1px, 1px, 1px);height: 1px;margin: -1px;overflow: hidden;padding: 0;position: absolute;width: 1px;}#sk-container-id-1 div.sk-estimator {font-family: monospace;background-color: #f0f8ff;border: 1px dotted black;border-radius: 0.25em;box-sizing: border-box;margin-bottom: 0.5em;}#sk-container-id-1 div.sk-estimator:hover {background-color: #d4ebff;}#sk-container-id-1 div.sk-parallel-item::after {content: \"\";width: 100%;border-bottom: 1px solid gray;flex-grow: 1;}#sk-container-id-1 div.sk-label:hover label.sk-toggleable__label {background-color: #d4ebff;}#sk-container-id-1 div.sk-serial::before {content: \"\";position: absolute;border-left: 1px solid gray;box-sizing: border-box;top: 0;bottom: 0;left: 50%;z-index: 0;}#sk-container-id-1 div.sk-serial {display: flex;flex-direction: column;align-items: center;background-color: white;padding-right: 0.2em;padding-left: 0.2em;position: relative;}#sk-container-id-1 div.sk-item {position: relative;z-index: 1;}#sk-container-id-1 div.sk-parallel {display: flex;align-items: stretch;justify-content: center;background-color: white;position: relative;}#sk-container-id-1 div.sk-item::before, #sk-container-id-1 div.sk-parallel-item::before {content: \"\";position: absolute;border-left: 1px solid gray;box-sizing: border-box;top: 0;bottom: 0;left: 50%;z-index: -1;}#sk-container-id-1 div.sk-parallel-item {display: flex;flex-direction: column;z-index: 1;position: relative;background-color: white;}#sk-container-id-1 div.sk-parallel-item:first-child::after {align-self: flex-end;width: 50%;}#sk-container-id-1 div.sk-parallel-item:last-child::after {align-self: flex-start;width: 50%;}#sk-container-id-1 div.sk-parallel-item:only-child::after {width: 0;}#sk-container-id-1 div.sk-dashed-wrapped {border: 1px dashed gray;margin: 0 0.4em 0.5em 0.4em;box-sizing: border-box;padding-bottom: 0.4em;background-color: white;}#sk-container-id-1 div.sk-label label {font-family: monospace;font-weight: bold;display: inline-block;line-height: 1.2em;}#sk-container-id-1 div.sk-label-container {text-align: center;}#sk-container-id-1 div.sk-container {/* jupyter's `normalize.less` sets `[hidden] { display: none; }` but bootstrap.min.css set `[hidden] { display: none !important; }` so we also need the `!important` here to be able to override the default hidden behavior on the sphinx rendered scikit-learn.org. See: https://github.com/scikit-learn/scikit-learn/issues/21755 */display: inline-block !important;position: relative;}#sk-container-id-1 div.sk-text-repr-fallback {display: none;}</style><div id=\"sk-container-id-1\" class=\"sk-top-container\"><div class=\"sk-text-repr-fallback\"><pre>KNeighborsClassifier(metric=&#x27;manhattan&#x27;, n_neighbors=4)</pre><b>In a Jupyter environment, please rerun this cell to show the HTML representation or trust the notebook. <br />On GitHub, the HTML representation is unable to render, please try loading this page with nbviewer.org.</b></div><div class=\"sk-container\" hidden><div class=\"sk-item\"><div class=\"sk-estimator sk-toggleable\"><input class=\"sk-toggleable__control sk-hidden--visually\" id=\"sk-estimator-id-1\" type=\"checkbox\" checked><label for=\"sk-estimator-id-1\" class=\"sk-toggleable__label sk-toggleable__label-arrow\">KNeighborsClassifier</label><div class=\"sk-toggleable__content\"><pre>KNeighborsClassifier(metric=&#x27;manhattan&#x27;, n_neighbors=4)</pre></div></div></div></div></div>"
            ],
            "text/plain": [
              "KNeighborsClassifier(metric='manhattan', n_neighbors=4)"
            ]
          },
          "execution_count": 4,
          "metadata": {},
          "output_type": "execute_result"
        }
      ],
      "source": [
        "from sklearn.neighbors import KNeighborsClassifier\n",
        "knn_clf = KNeighborsClassifier(weights='uniform', n_neighbors=4, metric = \"manhattan\")\n",
        "knn_clf.fit(X_train, y_train)"
      ]
    },
    {
      "cell_type": "code",
      "execution_count": 5,
      "metadata": {
        "id": "XCrZz_iGk7cF"
      },
      "outputs": [],
      "source": [
        "y_knn_pred = knn_clf.predict(X_test)"
      ]
    },
    {
      "cell_type": "code",
      "execution_count": 6,
      "metadata": {
        "id": "t-f3mNTUk9LR"
      },
      "outputs": [
        {
          "data": {
            "text/plain": [
              "0.7"
            ]
          },
          "execution_count": 6,
          "metadata": {},
          "output_type": "execute_result"
        }
      ],
      "source": [
        "from sklearn.metrics import accuracy_score\n",
        "accuracy_score(y_test, y_knn_pred)"
      ]
    },
    {
      "cell_type": "markdown",
      "metadata": {
        "id": "yIvg14E9o_J_"
      },
      "source": [
        "## Distance and Kneighbors"
      ]
    },
    {
      "cell_type": "code",
      "execution_count": 7,
      "metadata": {
        "id": "b-Uc6E8C1WMM"
      },
      "outputs": [
        {
          "data": {
            "text/plain": [
              "(array([[0. , 0.1, 0.1, 0.2],\n",
              "        [0.3, 0.4, 0.4, 0.4],\n",
              "        [0.2, 0.4, 0.5, 0.5],\n",
              "        [0.1, 0.1, 0.2, 0.2],\n",
              "        [0.2, 0.3, 0.3, 0.3],\n",
              "        [0. , 0.2, 0.3, 0.3],\n",
              "        [0.1, 0.1, 0.1, 0.1],\n",
              "        [0. , 0. , 0.1, 0.2],\n",
              "        [0.2, 0.2, 0.2, 0.4],\n",
              "        [0. , 0. , 0. , 0.1],\n",
              "        [0.1, 0.1, 0.2, 0.2],\n",
              "        [0.1, 0.2, 0.2, 0.3],\n",
              "        [0.2, 0.3, 0.3, 0.4],\n",
              "        [0. , 0.1, 0.2, 0.2],\n",
              "        [0. , 0. , 0.1, 0.3],\n",
              "        [0. , 0.1, 0.2, 0.2],\n",
              "        [0. , 0. , 0.1, 0.2],\n",
              "        [0.1, 0.1, 0.2, 0.2],\n",
              "        [0. , 0.1, 0.1, 0.1],\n",
              "        [0.1, 0.1, 0.1, 0.1],\n",
              "        [0. , 0.1, 0.2, 0.3],\n",
              "        [0. , 0.1, 0.1, 0.2],\n",
              "        [0. , 0.1, 0.1, 0.1],\n",
              "        [0.1, 0.1, 0.1, 0.1],\n",
              "        [0.2, 0.9, 1. , 1.1],\n",
              "        [0. , 0.1, 0.1, 0.1],\n",
              "        [0.4, 0.4, 0.5, 0.5],\n",
              "        [0.1, 0.2, 0.2, 0.2],\n",
              "        [0.1, 0.2, 0.2, 0.3],\n",
              "        [0.1, 0.2, 0.2, 0.2]]),\n",
              " array([[115,  79,  81,  62],\n",
              "        [117,  14,  13,  48],\n",
              "        [ 24,  64, 106,  21],\n",
              "        [ 79,  42,  86, 113],\n",
              "        [ 76,  54,  80,  92],\n",
              "        [114,  26,  14,   7],\n",
              "        [112,  22,  95,  20],\n",
              "        [105,  85,  61,  82],\n",
              "        [110,  44,  68,  73],\n",
              "        [ 43,  25,  10,  56],\n",
              "        [ 83,   6,  17,  87],\n",
              "        [104,  32,  55,  78],\n",
              "        [114,  14,   7,  26],\n",
              "        [ 55, 104,  32,  52],\n",
              "        [ 28,  84,  98,   8],\n",
              "        [ 77,  74,  46,  83],\n",
              "        [ 87, 109,  18,  92],\n",
              "        [ 65,  40,  15,  53],\n",
              "        [108,  56,  20, 112],\n",
              "        [ 50,  80, 111,  16],\n",
              "        [ 78,  38,  70,   3],\n",
              "        [ 90,  42,  79,  86],\n",
              "        [ 57,  35,  58,  27],\n",
              "        [ 50,  80, 111,  16],\n",
              "        [ 37,  19,  64,  21],\n",
              "        [ 54,  76,  12, 103],\n",
              "        [ 73,   5,  50,  80],\n",
              "        [ 61, 100,  97, 103],\n",
              "        [104,  32,  55,  78],\n",
              "        [ 55,  78,  70, 104]], dtype=int64))"
            ]
          },
          "execution_count": 7,
          "metadata": {},
          "output_type": "execute_result"
        }
      ],
      "source": [
        "knn_clf.kneighbors(X_test)"
      ]
    },
    {
      "cell_type": "code",
      "execution_count": 8,
      "metadata": {
        "id": "bQiomWrZMlV1"
      },
      "outputs": [
        {
          "data": {
            "text/plain": [
              "1"
            ]
          },
          "execution_count": 8,
          "metadata": {},
          "output_type": "execute_result"
        }
      ],
      "source": [
        "y_knn_pred[16]"
      ]
    },
    {
      "cell_type": "code",
      "execution_count": 9,
      "metadata": {
        "id": "Kusgwp5r1Yqx"
      },
      "outputs": [
        {
          "name": "stdout",
          "output_type": "stream",
          "text": [
            "0 [1 1 2 1]\n",
            "1 [0 0 0 0]\n",
            "2 [2 2 2 2]\n",
            "3 [1 2 1 2]\n",
            "4 [2 1 1 1]\n",
            "5 [0 0 0 0]\n",
            "6 [2 1 1 1]\n",
            "7 [1 2 2 1]\n",
            "8 [1 1 2 1]\n",
            "9 [2 1 2 2]\n",
            "10 [2 1 2 2]\n",
            "11 [0 0 0 0]\n",
            "12 [0 0 0 0]\n",
            "13 [0 0 0 0]\n",
            "14 [0 0 0 0]\n",
            "15 [2 2 2 2]\n",
            "16 [2 2 1 1]\n",
            "17 [1 2 1 1]\n",
            "18 [1 2 1 2]\n",
            "19 [2 1 1 2]\n",
            "20 [0 0 0 0]\n",
            "21 [1 2 1 1]\n",
            "22 [0 0 0 0]\n",
            "23 [2 1 1 2]\n",
            "24 [2 2 2 2]\n",
            "25 [1 2 1 2]\n",
            "26 [1 2 2 1]\n",
            "27 [2 2 2 2]\n",
            "28 [0 0 0 0]\n",
            "29 [0 0 0 0]\n"
          ]
        }
      ],
      "source": [
        "for i, idx in enumerate(knn_clf.kneighbors(X_test)[1]):\n",
        "  print(i, y_train[idx])"
      ]
    },
    {
      "cell_type": "code",
      "execution_count": 10,
      "metadata": {
        "id": "X_LUUjox3lXr"
      },
      "outputs": [
        {
          "name": "stdout",
          "output_type": "stream",
          "text": [
            "NN distance :  [0.  0.  0.1 0.2]\n",
            "NN index :  [ 87 109  18  92]\n",
            "vote :  [2 2 1 1]\n",
            "pred :  1\n",
            "gt :  2\n"
          ]
        }
      ],
      "source": [
        "print(\"NN distance : \", knn_clf.kneighbors(X_test)[0][16])\n",
        "print(\"NN index : \", knn_clf.kneighbors(X_test)[1][16])\n",
        "print(\"vote : \",y_train[knn_clf.kneighbors(X_test)[1][16]])\n",
        "print(\"pred : \",y_knn_pred[16])\n",
        "print(\"gt : \",y_train[16])"
      ]
    },
    {
      "cell_type": "code",
      "execution_count": 11,
      "metadata": {
        "id": "shiCSTPvogni"
      },
      "outputs": [
        {
          "name": "stdout",
          "output_type": "stream",
          "text": [
            "X1: 4.3 ~ 7.7\n",
            "X2: 2.0 ~ 4.4\n"
          ]
        }
      ],
      "source": [
        "print(f\"X1: {X_train[:, 0].min()} ~ {X_train[:, 0].max()}\")\n",
        "print(f\"X2: {X_train[:, 1].min()} ~ {X_train[:, 1].max()}\")"
      ]
    },
    {
      "cell_type": "code",
      "execution_count": 13,
      "metadata": {
        "id": "ifHHTKBwsg8v"
      },
      "outputs": [],
      "source": [
        "def vis_db(clf, X, y , axes = [4, 8, 1.5, 4.5]):\n",
        "  x1s = np.linspace(axes[0], axes[1], 100)\n",
        "  x2s = np.linspace(axes[2], axes[3], 100)\n",
        "  x1, x2 = np.meshgrid(x1s, x2s)\n",
        "  X_new = np.c_[x1.ravel(), x2.ravel()]\n",
        "  y_pred = clf.predict(X_new).reshape(x1.shape)\n",
        "  custom_cmap = ListedColormap(['#fafab0','#9898ff','#a0faa0'])\n",
        "  plt.figure(figsize=(10,8))\n",
        "  plt.contourf(x1, x2, y_pred, alpha=0.3, cmap=custom_cmap)\n",
        "  sns.scatterplot(x = X[:, 0], y = X[:, 1], hue = y)"
      ]
    },
    {
      "cell_type": "code",
      "execution_count": 14,
      "metadata": {
        "id": "FQZhfzbXphgI"
      },
      "outputs": [
        {
          "name": "stderr",
          "output_type": "stream",
          "text": [
            "C:\\Users\\ADMIN\\AppData\\Local\\Packages\\PythonSoftwareFoundation.Python.3.10_qbz5n2kfra8p0\\LocalCache\\local-packages\\Python310\\site-packages\\seaborn\\_oldcore.py:1498: FutureWarning: is_categorical_dtype is deprecated and will be removed in a future version. Use isinstance(dtype, CategoricalDtype) instead\n",
            "  if pd.api.types.is_categorical_dtype(vector):\n",
            "C:\\Users\\ADMIN\\AppData\\Local\\Packages\\PythonSoftwareFoundation.Python.3.10_qbz5n2kfra8p0\\LocalCache\\local-packages\\Python310\\site-packages\\seaborn\\_oldcore.py:1498: FutureWarning: is_categorical_dtype is deprecated and will be removed in a future version. Use isinstance(dtype, CategoricalDtype) instead\n",
            "  if pd.api.types.is_categorical_dtype(vector):\n",
            "C:\\Users\\ADMIN\\AppData\\Local\\Packages\\PythonSoftwareFoundation.Python.3.10_qbz5n2kfra8p0\\LocalCache\\local-packages\\Python310\\site-packages\\seaborn\\_oldcore.py:1498: FutureWarning: is_categorical_dtype is deprecated and will be removed in a future version. Use isinstance(dtype, CategoricalDtype) instead\n",
            "  if pd.api.types.is_categorical_dtype(vector):\n"
          ]
        },
        {
          "data": {
            "image/png": "[encoded data removed]",
            "text/plain": [
              "<Figure size 1000x800 with 1 Axes>"
            ]
          },
          "metadata": {},
          "output_type": "display_data"
        }
      ],
      "source": [
        "vis_db(knn_clf, X_train, y_train)"
      ]
    },
    {
      "cell_type": "code",
      "execution_count": null,
      "metadata": {
        "id": "UmZFT1N7sTWS"
      },
      "outputs": [],
      "source": [
        "knn_clf_wight_euclidean = KNeighborsClassifier(weights='distance', metric =\"euclidean\",n_neighbors=1)\n",
        "knn_clf_wight_euclidean.fit(X_train, y_train)\n",
        "vis_db(knn_clf_wight_euclidean, X_train, y_train)"
      ]
    },
    {
      "cell_type": "markdown",
      "metadata": {
        "id": "_tGvbD2hqMc7"
      },
      "source": [
        "## Finding optimal K"
      ]
    },
    {
      "cell_type": "code",
      "execution_count": 21,
      "metadata": {
        "id": "to6mgME75OM8"
      },
      "outputs": [],
      "source": [
        "acc = []\n",
        "for k in range(1, 100):\n",
        "  knn_clf = KNeighborsClassifier(weights='uniform', n_neighbors= k)\n",
        "  knn_clf.fit(X_train, y_train)\n",
        "  acc.append(knn_clf.score(X_test, y_test))"
      ]
    },
    {
      "cell_type": "code",
      "execution_count": null,
      "metadata": {
        "id": "--l9A55Z5pIl"
      },
      "outputs": [],
      "source": [
        "plt.figure(figsize=(12,6))\n",
        "sns.lineplot(x = range(1,100), y = acc)"
      ]
    },
    {
      "cell_type": "markdown",
      "metadata": {
        "id": "2Da6o1EOrCAw"
      },
      "source": [
        "# Cross validation"
      ]
    },
    {
      "cell_type": "code",
      "execution_count": 33,
      "metadata": {
        "id": "FKKyy44anGrt"
      },
      "outputs": [],
      "source": [
        "from sklearn.model_selection import cross_val_score\n",
        "knn_clf = KNeighborsClassifier(weights='uniform', n_neighbors=5, metric = \"manhattan\")\n",
        "knn_cv = cross_val_score(knn_clf, X_train, y_train, cv=10)"
      ]
    },
    {
      "cell_type": "code",
      "execution_count": null,
      "metadata": {
        "id": "BvKzp9k_qf8U"
      },
      "outputs": [],
      "source": [
        "for f, s in enumerate(knn_cv):\n",
        "  print(f\"{f} fold : {s}\")\n",
        "print(f\"mean : {knn_cv.mean()}\")"
      ]
    },
    {
      "cell_type": "code",
      "execution_count": null,
      "metadata": {
        "id": "8IF6X5pkn24u"
      },
      "outputs": [],
      "source": [
        "plt.figure(figsize = ( 10, 5))\n",
        "sns.boxplot(x = knn_cv, orient = \"Vertical\")\n",
        "plt.xlabel(\"acc\", fontsize = 20)\n",
        "plt.xticks(fontsize = 15)"
      ]
    },
    {
      "cell_type": "code",
      "execution_count": 44,
      "metadata": {
        "id": "fk5jy3FG6e7f"
      },
      "outputs": [],
      "source": [
        "acc = []\n",
        "for k in range(1, 50):\n",
        "  knn_clf = KNeighborsClassifier(weights='uniform', n_neighbors= k)\n",
        "  score = cross_val_score(knn_clf, X_train, y_train, cv=5)\n",
        "  acc.append(score.mean())"
      ]
    },
    {
      "cell_type": "code",
      "execution_count": null,
      "metadata": {
        "id": "qqGX9aYy6sPl"
      },
      "outputs": [],
      "source": [
        "plt.figure(figsize=(12,6))\n",
        "sns.lineplot(x = range(1,50), y = acc)\n",
        "plt.xlabel(\"k\",fontsize = 20)\n",
        "plt.ylabel(\"acc\", fontsize = 20)"
      ]
    },
    {
      "cell_type": "code",
      "execution_count": null,
      "metadata": {
        "id": "lzivsgpXrwcZ"
      },
      "outputs": [],
      "source": [
        "np.argsort(acc)[::-1]"
      ]
    },
    {
      "cell_type": "markdown",
      "metadata": {
        "id": "Ul2dC9HXxOqJ"
      },
      "source": [
        "# Scaler Pipe Line"
      ]
    },
    {
      "cell_type": "code",
      "execution_count": 54,
      "metadata": {
        "id": "KSzBo1EM-4hw"
      },
      "outputs": [],
      "source": [
        "from sklearn.preprocessing import StandardScaler\n",
        "from sklearn.pipeline import Pipeline\n",
        "std_scaler = StandardScaler()\n",
        "std_scaler.fit(X)\n",
        "x_scaled = std_scaler.transform(X)"
      ]
    },
    {
      "cell_type": "code",
      "execution_count": null,
      "metadata": {
        "id": "oY3S7WJZ_Odi"
      },
      "outputs": [],
      "source": [
        "sns.distplot(X[:,0])"
      ]
    },
    {
      "cell_type": "code",
      "execution_count": null,
      "metadata": {
        "id": "b3zoI-PH_K8g"
      },
      "outputs": [],
      "source": [
        "sns.distplot(x_scaled[:,0])"
      ]
    },
    {
      "cell_type": "code",
      "execution_count": 105,
      "metadata": {
        "id": "9Hunyw6GuacA"
      },
      "outputs": [],
      "source": [
        "acc_scaled = []\n",
        "for k in range(1, 100):\n",
        "\n",
        "  std_scaler = StandardScaler()\n",
        "  knn = KNeighborsClassifier(weights='uniform', n_neighbors=k)\n",
        "  Knn_pipe = Pipeline([\n",
        "          (\"std_scaler\", std_scaler),\n",
        "          (\"knn\", knn),\n",
        "      ])\n",
        "\n",
        "  score_scaled = cross_val_score(Knn_pipe, X_train, y_train, cv=10)\n",
        "  acc_scaled.append(score_scaled.mean())"
      ]
    },
    {
      "cell_type": "code",
      "execution_count": 106,
      "metadata": {
        "colab": {
          "base_uri": "https://localhost:8080/",
          "height": 574
        },
        "id": "p1NNSi1r676n",
        "outputId": "fef6bbe8-e443-4d63-e73e-9b2a4aa9f7a1"
      },
      "outputs": [
        {
          "data": {
            "text/plain": [
              "Text(0, 0.5, 'acc')"
            ]
          },
          "execution_count": 106,
          "metadata": {},
          "output_type": "execute_result"
        },
        {
          "data": {
            "image/png": "[encoded data removed]",
            "text/plain": [
              "<Figure size 1200x600 with 1 Axes>"
            ]
          },
          "metadata": {},
          "output_type": "display_data"
        }
      ],
      "source": [
        "plt.figure(figsize=(12,6))\n",
        "sns.lineplot(x = range(1,100), y = acc_scaled)\n",
        "plt.xlabel(\"k\",fontsize = 20)\n",
        "plt.ylabel(\"acc\", fontsize = 20)"
      ]
    },
    {
      "cell_type": "markdown",
      "metadata": {
        "id": "YIa4DvdQzAUx"
      },
      "source": [
        "# breast cancer data"
      ]
    },
    {
      "cell_type": "code",
      "execution_count": 88,
      "metadata": {
        "id": "tjlYl-XNxeKg"
      },
      "outputs": [],
      "source": [
        "from sklearn.datasets import load_breast_cancer\n",
        "data = load_breast_cancer(as_frame=True)"
      ]
    },
    {
      "cell_type": "code",
      "execution_count": null,
      "metadata": {
        "id": "JDh0pmT0yf9T"
      },
      "outputs": [],
      "source": [
        "data.data.head()"
      ]
    },
    {
      "cell_type": "code",
      "execution_count": null,
      "metadata": {
        "id": "YEUGCUE74ztn"
      },
      "outputs": [],
      "source": [
        "data.data.columns"
      ]
    },
    {
      "cell_type": "code",
      "execution_count": null,
      "metadata": {
        "id": "1iOcCK594pLN"
      },
      "outputs": [],
      "source": [
        "data.data.describe()"
      ]
    },
    {
      "cell_type": "code",
      "execution_count": 94,
      "metadata": {
        "id": "agZ98oAEzzfo"
      },
      "outputs": [],
      "source": [
        "X_train, X_test, y_train, y_test = train_test_split(data.data, data.target, test_size= 0.2, random_state = 42)"
      ]
    },
    {
      "cell_type": "code",
      "execution_count": 95,
      "metadata": {
        "id": "pJd-3wPmzQWL"
      },
      "outputs": [],
      "source": [
        "std_scaler = StandardScaler()\n",
        "knn = KNeighborsClassifier(weights='uniform', n_neighbors=20)"
      ]
    },
    {
      "cell_type": "code",
      "execution_count": null,
      "metadata": {
        "id": "qRcVpeW-ztGP"
      },
      "outputs": [],
      "source": [
        "knn_cv = cross_val_score(knn, data.data, data.target, cv=10)\n",
        "knn_cv.mean()"
      ]
    },
    {
      "cell_type": "code",
      "execution_count": 97,
      "metadata": {
        "id": "luFAkxKG8usK"
      },
      "outputs": [],
      "source": [
        "acc = []\n",
        "for k in range(1, 100):\n",
        "  knn = KNeighborsClassifier(weights='uniform', n_neighbors=k)\n",
        "  score = cross_val_score(knn, X_train, y_train, cv=10)\n",
        "  acc.append(score.mean())"
      ]
    },
    {
      "cell_type": "code",
      "execution_count": null,
      "metadata": {
        "id": "0wIgVjvB86om"
      },
      "outputs": [],
      "source": [
        "plt.figure(figsize=(12,6))\n",
        "sns.lineplot(x = range(1,100), y = acc)\n",
        "plt.xlabel(\"k\",fontsize = 20)\n",
        "plt.ylabel(\"acc\", fontsize = 20)"
      ]
    },
    {
      "cell_type": "code",
      "execution_count": 99,
      "metadata": {
        "id": "mesS6LCQ0zdj"
      },
      "outputs": [],
      "source": [
        "from sklearn.preprocessing import StandardScaler\n",
        "from sklearn.pipeline import Pipeline\n",
        "acc_scaled = []\n",
        "models = []\n",
        "for k in range(1, 100):\n",
        "  knn = KNeighborsClassifier(weights='uniform', n_neighbors=k)\n",
        "  Knn_pipe = Pipeline([\n",
        "          (\"std_scaler\", std_scaler),\n",
        "          (\"knn\", knn),\n",
        "      ])\n",
        "\n",
        "  score = cross_val_score(Knn_pipe,  X_train, y_train, cv=10)\n",
        "  models.append(Knn_pipe)\n",
        "  acc_scaled.append(score.mean())"
      ]
    },
    {
      "cell_type": "code",
      "execution_count": null,
      "metadata": {
        "id": "FJHBNjIK8Eh4"
      },
      "outputs": [],
      "source": [
        "plt.figure(figsize=(12,6))\n",
        "sns.lineplot(x = range(1,100), y = acc, label = \"no scaled\")\n",
        "sns.lineplot(x = range(1,100), y = acc_scaled, label = \"std scaled\")\n",
        "plt.title(\"scaled vs no scaled\", fontsize = 30)\n",
        "plt.xlabel(\"k\",fontsize = 20)\n",
        "plt.ylabel(\"acc\", fontsize = 20)"
      ]
    },
    {
      "cell_type": "code",
      "execution_count": 101,
      "metadata": {
        "id": "jRVUvjggNayb"
      },
      "outputs": [],
      "source": [
        "best_k = np.argmax(np.array(acc_scaled))"
      ]
    },
    {
      "cell_type": "code",
      "execution_count": null,
      "metadata": {
        "id": "nMsP-vtFwJvP"
      },
      "outputs": [],
      "source": [
        "print(f\"best K : {best_k}\")"
      ]
    },
    {
      "cell_type": "code",
      "execution_count": null,
      "metadata": {
        "id": "8cscWYtI5qRp"
      },
      "outputs": [],
      "source": [
        "models[best_k].fit(X_train,y_train)"
      ]
    },
    {
      "cell_type": "code",
      "execution_count": null,
      "metadata": {
        "id": "ulUuDyLR5-H7"
      },
      "outputs": [],
      "source": [
        "#@title\n",
        "models[best_k].score(X_test,y_test)"
      ]
    }
  ],
  "metadata": {
    "colab": {
      "provenance": []
    },
    "kernelspec": {
      "display_name": "Python 3",
      "name": "python3"
    },
    "language_info": {
      "codemirror_mode": {
        "name": "ipython",
        "version": 3
      },
      "file_extension": ".py",
      "mimetype": "text/x-python",
      "name": "python",
      "nbconvert_exporter": "python",
      "pygments_lexer": "ipython3",
      "version": "3.10.11"
    }
  },
  "nbformat": 4,
  "nbformat_minor": 0
}
