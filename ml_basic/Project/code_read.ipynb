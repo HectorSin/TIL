{
 "cells": [
  {
   "cell_type": "code",
   "execution_count": 16,
   "metadata": {},
   "outputs": [
    {
     "name": "stderr",
     "output_type": "stream",
     "text": [
      "C:\\Users\\ADMIN\\AppData\\Local\\Temp\\ipykernel_8608\\3883455109.py:3: DtypeWarning: Columns (11,12,14,15,97,98,99,100,106) have mixed types. Specify dtype option on import or set low_memory=False.\n",
      "  df = pd.read_csv('data/구급활동 현황_2019_2020.csv')\n"
     ]
    },
    {
     "name": "stdout",
     "output_type": "stream",
     "text": [
      "      relif_reprt_no reg_cmptn_se_nm patnt_ocrn_type_se_nm  \\\n",
      "0  20194504105M00001            등록완료                    질병   \n",
      "1  20194509302M00001            등록완료                   질병외   \n",
      "2  20194501301M00001            등록완료                   질병외   \n",
      "3  20194510105M00001            등록완료                    질병   \n",
      "4  20194504106M00001            등록완료                   질병외   \n",
      "\n",
      "  patnt_symptms_se_nm1 mjrtrma_nm hrtarst_nm crdvsc_crvsscr_se_nm  \\\n",
      "0                   복통        NaN        NaN                  NaN   \n",
      "1                  NaN        NaN        NaN                  NaN   \n",
      "2                  NaN        NaN        NaN                  NaN   \n",
      "3                오심/구토        NaN        NaN                  NaN   \n",
      "4                 기타통증       중증외상        NaN                  NaN   \n",
      "\n",
      "  trnsport_acdnt_nm trnsport_acdnt_etc_nm acdnt_inj_nm  ... spt_dist2  \\\n",
      "0               NaN                   NaN          NaN  ...       NaN   \n",
      "1               NaN                   NaN          NaN  ...       NaN   \n",
      "2               NaN                   NaN          NaN  ...       NaN   \n",
      "3               NaN                   NaN          NaN  ...       NaN   \n",
      "4               NaN                   NaN           낙상  ...       NaN   \n",
      "\n",
      "  retrns_resn2 trans_cl_nm trans_cl_resn time_unit_tmprt time_unit_rainqty  \\\n",
      "0          NaN          이송           NaN             NaN               NaN   \n",
      "1          NaN         미이송          이송거부             NaN               NaN   \n",
      "2          NaN         미이송            기타             NaN               NaN   \n",
      "3          NaN          이송           NaN             NaN               NaN   \n",
      "4          NaN          이송           NaN             NaN               NaN   \n",
      "\n",
      "  time_unit_ws time_unit_wd time_unit_humidity time_unit_msnf  \n",
      "0          NaN          NaN                NaN            NaN  \n",
      "1          NaN          NaN                NaN            NaN  \n",
      "2          NaN          NaN                NaN            NaN  \n",
      "3          NaN          NaN                NaN            NaN  \n",
      "4          NaN          NaN                NaN            NaN  \n",
      "\n",
      "[5 rows x 115 columns]\n"
     ]
    }
   ],
   "source": [
    "import pandas as pd\n",
    "\n",
    "df = pd.read_csv('data/구급활동 현황_2019_2020.csv')\n",
    "print(df.head())"
   ]
  },
  {
   "cell_type": "code",
   "execution_count": 9,
   "metadata": {},
   "outputs": [
    {
     "name": "stdout",
     "output_type": "stream",
     "text": [
      "minsitt_slctn_etc_hsptl_nm2    254871\n",
      "retrns_resn2                   254851\n",
      "minsitt_slctn_etc_hsptl_nm1    254822\n",
      "hsptl_hndvr_ymd2               254809\n",
      "hsptl_hndvr_time2              254809\n",
      "                                ...  \n",
      "sigungu_nm                          4\n",
      "emd_nm                              4\n",
      "sido_nm                             4\n",
      "emd_se_nm                           4\n",
      "cty_frmvl_se_nm                     4\n",
      "Length: 82, dtype: int64\n"
     ]
    }
   ],
   "source": [
    "# find columns with the most missing values\n",
    "missing_values_count = df.isnull().sum()\n",
    "missing_values_count = missing_values_count[missing_values_count > 0]\n",
    "missing_values_count = missing_values_count.sort_values(ascending=False)\n",
    "print(missing_values_count)"
   ]
  },
  {
   "cell_type": "code",
   "execution_count": 14,
   "metadata": {},
   "outputs": [],
   "source": [
    "df.dropna(thresh=len(df)-100000, axis=1, inplace=True)\n"
   ]
  },
  {
   "cell_type": "code",
   "execution_count": 15,
   "metadata": {},
   "outputs": [
    {
     "name": "stdout",
     "output_type": "stream",
     "text": [
      "patnt_symptms_se_nm1    96027\n",
      "patnt_occp_nm           90838\n",
      "patnt_age               88833\n",
      "patnt_sexdstn_se_nm     86231\n",
      "patnt_contact_tm        76446\n",
      "patnt_contact_min       76446\n",
      "patnt_contact_day       76446\n",
      "patnt_contact_mnth      76446\n",
      "patnt_contact_yr        76446\n",
      "patnt_contact_hour      76446\n",
      "patnt_contact_ymd       76446\n",
      "acdnt_ocrn_place        48360\n",
      "spt_arvl_min            26744\n",
      "spt_arvl_hour           26744\n",
      "spt_arvl_ymd            26744\n",
      "spt_arvl_day            26744\n",
      "spt_arvl_mnth           26744\n",
      "spt_arvl_yr             26744\n",
      "spt_arvl_tm             26744\n",
      "loc_info_x                 10\n",
      "loc_info_y                 10\n",
      "sido_nm                     4\n",
      "sigungu_nm                  4\n",
      "emd_nm                      4\n",
      "cty_frmvl_se_nm             4\n",
      "emd_se_nm                   4\n",
      "dtype: int64\n"
     ]
    }
   ],
   "source": [
    "# find columns with the most missing values\n",
    "missing_values_count = df.isnull().sum()\n",
    "missing_values_count = missing_values_count[missing_values_count > 0]\n",
    "missing_values_count = missing_values_count.sort_values(ascending=False)\n",
    "print(missing_values_count)"
   ]
  },
  {
   "cell_type": "code",
   "execution_count": null,
   "metadata": {},
   "outputs": [],
   "source": []
  }
 ],
 "metadata": {
  "kernelspec": {
   "display_name": "Python 3",
   "language": "python",
   "name": "python3"
  },
  "language_info": {
   "codemirror_mode": {
    "name": "ipython",
    "version": 3
   },
   "file_extension": ".py",
   "mimetype": "text/x-python",
   "name": "python",
   "nbconvert_exporter": "python",
   "pygments_lexer": "ipython3",
   "version": "3.10.11"
  }
 },
 "nbformat": 4,
 "nbformat_minor": 2
}
