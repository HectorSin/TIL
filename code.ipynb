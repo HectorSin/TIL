{
 "cells": [
  {
   "cell_type": "code",
   "execution_count": 2,
   "metadata": {},
   "outputs": [
    {
     "data": {
      "text/plain": [
       "(   가격(달러)  수요량(단위:kg)  공급량(달러)  공급가격_관세포함(달러) 균형점_가격\n",
       " 0    2000      100000     2000           2200   None\n",
       " 1    1800      150000     1800           2000   None\n",
       " 2    1600      200000     1600           1800   None\n",
       " 3    1400      250000     1400           1600   None\n",
       " 4    1200      300000     1200           1400   None\n",
       " 5    1000      350000     1000           1200   None,\n",
       " Empty DataFrame\n",
       " Columns: [가격(달러), 수요량(단위:kg), 공급량(달러), 공급가격_관세포함(달러), 균형점_가격]\n",
       " Index: [])"
      ]
     },
     "execution_count": 2,
     "metadata": {},
     "output_type": "execute_result"
    }
   ],
   "source": [
    "import pandas as pd\n",
    "\n",
    "# 제공된 이미지의 데이터를 바탕으로 데이터프레임을 생성합니다.\n",
    "data_c = {\n",
    "    '가격(달러)': [2000, 1800, 1600, 1400, 1200, 1000],\n",
    "    '수요량(단위:kg)': [100000, 150000, 200000, 250000, 300000, 350000],\n",
    "    '공급량(달러)': [2000, 1800, 1600, 1400, 1200, 1000]\n",
    "}\n",
    "\n",
    "# 데이터프레임 생성\n",
    "df_c = pd.DataFrame(data_c)\n",
    "\n",
    "# 관세 부과로 인한 새로운 공급 가격 계산\n",
    "tariff = 200\n",
    "df_c['공급가격_관세포함(달러)'] = df_c['가격(달러)'] + tariff\n",
    "\n",
    "# 새로운 균형점 찾기: 관세 포함 공급 가격에 대해 수요량과 공급량이 일치하는 지점 찾기\n",
    "# 여기서는 간단하게 가장 가까운 수요량과 공급량이 일치하는 지점을 찾습니다.\n",
    "df_c['균형점_가격'] = df_c.apply(lambda row: row['가격(달러)'] if row['수요량(단위:kg)'] <= row['공급량(달러)'] else None, axis=1)\n",
    "\n",
    "# 결과 출력\n",
    "df_c, df_c.dropna(subset=['균형점_가격'])\n"
   ]
  },
  {
   "cell_type": "code",
   "execution_count": null,
   "metadata": {},
   "outputs": [],
   "source": []
  }
 ],
 "metadata": {
  "kernelspec": {
   "display_name": "Python 3",
   "language": "python",
   "name": "python3"
  },
  "language_info": {
   "codemirror_mode": {
    "name": "ipython",
    "version": 3
   },
   "file_extension": ".py",
   "mimetype": "text/x-python",
   "name": "python",
   "nbconvert_exporter": "python",
   "pygments_lexer": "ipython3",
   "version": "3.11.3"
  }
 },
 "nbformat": 4,
 "nbformat_minor": 2
}
